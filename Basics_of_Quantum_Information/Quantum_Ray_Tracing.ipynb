{
 "cells": [
  {
   "cell_type": "code",
   "execution_count": 2,
   "id": "acae0a58",
   "metadata": {},
   "outputs": [],
   "source": [
    "import numpy as np\n",
    "import cudaq\n",
    "from typing import List\n",
    "from matplotlib import pyplot as plt"
   ]
  },
  {
   "cell_type": "markdown",
   "id": "c4ed945e",
   "metadata": {},
   "source": [
    "# Grover's Algorithm"
   ]
  },
  {
   "cell_type": "markdown",
   "id": "8e30db9b",
   "metadata": {},
   "source": []
  },
  {
   "cell_type": "markdown",
   "id": "a22391cd",
   "metadata": {},
   "source": [
    "# Quantum States in Hilbert Space\n",
    "\n",
    "Let $\\Sigma = \\{0,1\\}$, and $N = 2^n$.\n",
    "\n",
    "Consider a single qubit system with Hilbert space:\n",
    "$$\n",
    "\\mathcal{H} \\cong \\mathbb{C}^2\n",
    "$$\n",
    "A general quantum state is:\n",
    "$$\n",
    "|\\psi\\rangle = \\alpha|0\\rangle + \\beta|1\\rangle \\in \\mathcal{H}, \\quad \\text{where } \\alpha, \\beta \\in \\mathbb{C} \\text{ and } |\\alpha|^2 + |\\beta|^2 = 1\n",
    "$$\n",
    "\n",
    "For a system of $n$ qubits, the Hilbert space is the $n$-fold tensor product:\n",
    "$$\n",
    "\\mathcal{H}^{\\otimes n} = \\underbrace{\\mathcal{H} \\otimes \\mathcal{H} \\otimes \\cdots \\otimes \\mathcal{H}}_{n \\text{ times}} \\cong \\mathbb{C}^{N}\n",
    "$$\n",
    "A general $n$-qubit state is:\n",
    "$$\n",
    "|\\psi\\rangle = \\sum_{x \\in \\{0,1\\}^n} \\alpha_x |x\\rangle \\in \\mathcal{H}^{\\otimes n}, \\quad \\text{where } \\sum_x |\\alpha_x|^2 = 1\n",
    "$$\n",
    "\n",
    "# Multi-Qubit State Representation\n",
    "\n",
    "\n",
    "\n",
    "---\n",
    "\n",
    "Let $|u\\rangle \\in \\mathcal{H}^{\\otimes n}$ be the uniform superposition state:\n",
    "$$\n",
    "|u\\rangle = \\frac{1}{\\sqrt{N}} \\sum_{x \\in \\Sigma^n} |x\\rangle\n",
    "$$\n",
    "\n",
    "With the Hadamard gate $H \\in \\mathcal{C}^{2 \\times 2}$\n",
    "$$\n",
    "H = \\frac{1}{\\sqrt{2}}\\begin{pmatrix}1 & 1 \\\\ 1 & -1\\end{pmatrix}\n",
    "$$\n",
    "\n",
    "with action on basis states:\n",
    "$$\n",
    "H|0\\rangle = \\frac{1}{\\sqrt{2}}(|0\\rangle + |1\\rangle), \\quad\n",
    "H|1\\rangle = \\frac{1}{\\sqrt{2}}(|0\\rangle - |1\\rangle)\n",
    "$$\n",
    "\n",
    "$|u\\rangle$ can be prepared from $|0\\rangle^{\\otimes n}$ by applying $H$ to each qubit:\n",
    "$$\n",
    "|u\\rangle = H^{\\otimes n} |0\\rangle^{\\otimes n}\n",
    "$$\n",
    "\n",
    "---\n",
    "\n",
    "Moreover, $X$, $Y$, $Z$ defined as:\n",
    "$$\n",
    "X = \\begin{pmatrix}0 & 1 \\\\ 1 & 0\\end{pmatrix}, \\quad\n",
    "Y = \\begin{pmatrix}0 & -i \\\\ i & 0\\end{pmatrix}, \\quad\n",
    "Z = \\begin{pmatrix}1 & 0 \\\\ 0 & -1\\end{pmatrix}\n",
    "$$\n",
    "\n",
    "For controlled gates $C\\textcolor{green}{U}$ where $\\textcolor{green}{U}$ is a single qubit gate (e.g. $CX$, $CZ$) with the first qubit as control and the second as target:\n",
    "$$\n",
    "C\\textcolor{green}{U}(|0\\rangle \\otimes |x\\rangle) = |0\\rangle \\otimes |x\\rangle\n",
    "$$\n",
    "$$\n",
    "C\\textcolor{green}{U}(|1\\rangle \\otimes |x\\rangle) = |1\\rangle \\otimes \\textcolor{green}{U}|x\\rangle\n",
    "$$\n",
    "\n",
    "---\n",
    "\n",
    "e.g. for $CX$:\n",
    "$$CX|00\\rangle = |00\\rangle, \\quad CX|01\\rangle = |01\\rangle, \\quad CX|10\\rangle = |11\\rangle, \\quad CX|11\\rangle = |10\\rangle$$\n",
    "and can be represented as:\n",
    "$$CX = \\begin{pmatrix}1 & 0 & 0 & 0 \\\\ 0 & 1 & 0 & 0 \\\\ 0 & 0 & 0 & 1 \\\\ 0 & 0 & 1 & 0\\end{pmatrix}$$\n",
    "\n",
    "---\n",
    "\n",
    "for $CZ$:\n",
    "$$CZ|00\\rangle = |00\\rangle, \\quad CZ|01\\rangle = |01\\rangle, \\quad CZ|10\\rangle = |10\\rangle, \\quad CZ|11\\rangle = -|11\\rangle$$\n",
    "and can be represented as:\n",
    "$$CZ = \\begin{pmatrix}1 & 0 & 0 & 0 \\\\ 0 & 1 & 0 & 0 \\\\ 0 & 0 & 1 & 0 \\\\ 0 & 0 & 0 & -1\\end{pmatrix}$$"
   ]
  },
  {
   "cell_type": "code",
   "execution_count": 9,
   "id": "7b78fb89",
   "metadata": {},
   "outputs": [
    {
     "name": "stdout",
     "output_type": "stream",
     "text": [
      "     ╭───╮     \n",
      "q0 : ┤ h ├──●──\n",
      "     ├───┤╭─┴─╮\n",
      "q1 : ┤ h ├┤ x ├\n",
      "     ├───┤╰─┬─╯\n",
      "q2 : ┤ h ├──●──\n",
      "     ├───┤     \n",
      "q3 : ┤ h ├─────\n",
      "     ╰───╯     \n",
      "\n"
     ]
    }
   ],
   "source": [
    "@cudaq.kernel\n",
    "def kernel_control():\n",
    "    v = cudaq.qvector(4)\n",
    "    h(v)\n",
    "    x.ctrl([v[0], v[2]], v[1])\n",
    "print(cudaq.draw(kernel_control))"
   ]
  },
  {
   "cell_type": "code",
   "execution_count": 18,
   "id": "9b82ba79",
   "metadata": {},
   "outputs": [],
   "source": [
    "@cudaq.kernel\n",
    "def kernel_H(v: cudaq.qvector):\n",
    "    h(v)\n",
    "\n",
    "@cudaq.kernel\n",
    "def kernel_example_H(qb: int):\n",
    "    v = cudaq.qvector(qb)\n",
    "    kernel_H(v)"
   ]
  },
  {
   "cell_type": "code",
   "execution_count": 20,
   "id": "84254037",
   "metadata": {},
   "outputs": [
    {
     "name": "stdout",
     "output_type": "stream",
     "text": [
      "{ 000:1218 001:1257 010:1283 011:1249 100:1265 101:1263 110:1194 111:1271 }\n",
      "\n",
      "SV: [(0.353553,0), (0.353553,0), (0.353553,0), (0.353553,0), (0.353553,0), (0.353553,0), (0.353553,0), (0.353553,0)]\n",
      "\n",
      "0.35355339059327373\n",
      "     ╭───╮\n",
      "q0 : ┤ h ├\n",
      "     ├───┤\n",
      "q1 : ┤ h ├\n",
      "     ├───┤\n",
      "q2 : ┤ h ├\n",
      "     ╰───╯\n",
      "\n"
     ]
    }
   ],
   "source": [
    "qb = 3\n",
    "results = cudaq.sample(kernel_example_H, qb, shots_count=10000)\n",
    "print(results)\n",
    "state = cudaq.get_state(kernel_example_H, qb)\n",
    "print(state)\n",
    "print(1/np.sqrt(1<<qb))\n",
    "print(cudaq.draw(kernel_example_H, qb))"
   ]
  },
  {
   "cell_type": "markdown",
   "id": "0367f3f6",
   "metadata": {},
   "source": [
    "# Oracle Part\n",
    "\n",
    "Let $f: \\{0,1\\}^n \\to \\{0,1\\}$ be a function defined as\n",
    "\n",
    "$$\n",
    "f(x) = \\begin{cases}\n",
    "1 & \\text{if } x \\text{ is a solution} \\\\\n",
    "0 & \\text{otherwise}\n",
    "\\end{cases}\n",
    "$$\n",
    "\n",
    "We can define an Unitary operator $U_f$ that acts on basis states as follows:\n",
    "$$\n",
    "U_f |x\\rangle|a\\rangle = |x\\rangle|a \\oplus f(x)\\rangle\n",
    "$$"
   ]
  },
  {
   "cell_type": "code",
   "execution_count": 23,
   "id": "a54dc40e",
   "metadata": {},
   "outputs": [],
   "source": [
    "@cudaq.kernel\n",
    "def kernel_picknum_mark(qb: int, l: List[int]):\n",
    "    v = cudaq.qvector(qb)\n",
    "    r = cudaq.qubit()\n",
    "    kernel_H(v)\n",
    "    for k in l:\n",
    "        for i in range(qb):\n",
    "            if int(k / (2 ** i)) % 2 == 0:\n",
    "                x(v[qb - i - 1])\n",
    "        x.ctrl([v], r)\n",
    "        for i in range(qb):\n",
    "            if int(k / (2 ** i)) % 2 == 0:\n",
    "                x(v[qb - i - 1])\n"
   ]
  },
  {
   "cell_type": "code",
   "execution_count": 24,
   "id": "61093239",
   "metadata": {},
   "outputs": [
    {
     "name": "stdout",
     "output_type": "stream",
     "text": [
      "{ 00000:69 00010:59 00100:45 00111:72 01000:60 01010:59 01101:60 01110:64 10000:66 10010:62 10100:63 10110:77 11000:59 11010:52 11100:62 11110:71 }\n",
      "\n",
      "SV: [(0.25,0), (0.25,0), (0.25,0), (0.25,0), (0.25,0), (0.25,0), (0,0), (0.25,0), (0.25,0), (0.25,0), (0.25,0), (0.25,0), (0,0), (0.25,0), (0.25,0), (0.25,0), (0,0), (0,0), (0,0), (0,0), (0,0), (0,0), (0.25,0), (0,0), (0,0), (0,0), (0,0), (0,0), (0.25,0), (0,0), (0,0), (0,0)]\n",
      "\n",
      "     ╭───╮╭───╮     ╭───╮╭───╮     ╭───╮\n",
      "q0 : ┤ h ├┤ x ├──●──┤ x ├┤ x ├──●──┤ x ├\n",
      "     ├───┤├───┤  │  ├───┤╰───╯  │  ╰───╯\n",
      "q1 : ┤ h ├┤ x ├──●──┤ x ├───────●───────\n",
      "     ├───┤╰───╯  │  ╰───╯       │       \n",
      "q2 : ┤ h ├───────●──────────────●───────\n",
      "     ├───┤       │  ╭───╮       │  ╭───╮\n",
      "q3 : ┤ h ├───────●──┤ x ├───────●──┤ x ├\n",
      "     ╰───╯     ╭─┴─╮╰───╯     ╭─┴─╮╰───╯\n",
      "q4 : ──────────┤ x ├──────────┤ x ├─────\n",
      "               ╰───╯          ╰───╯     \n",
      "\n"
     ]
    }
   ],
   "source": [
    "qb, nums = 4, [3, 6]\n",
    "results = cudaq.sample(kernel_picknum_mark, qb, nums, shots_count=1000)\n",
    "print(results)\n",
    "state = cudaq.get_state(kernel_picknum_mark, qb, nums)\n",
    "print(state)\n",
    "print(cudaq.draw(kernel_picknum_mark, qb, nums))"
   ]
  },
  {
   "cell_type": "markdown",
   "id": "ce92449a",
   "metadata": {},
   "source": [
    "Let $Z_f$ be "
   ]
  },
  {
   "cell_type": "code",
   "execution_count": 52,
   "id": "9bc22899",
   "metadata": {},
   "outputs": [],
   "source": [
    "@cudaq.kernel\n",
    "def kernel_picknum_flip(v: cudaq.qvector, l: List[int]):\n",
    "    qb = len(v)\n",
    "    for k in l:\n",
    "        for i in range(qb):\n",
    "            if int(k / (2 ** i)) % 2 == 0:\n",
    "                x(v[qb - i - 1])\n",
    "        z.ctrl([v[0:qb-1]], v[qb-1])\n",
    "        for i in range(qb):\n",
    "            if int(k / (2 ** i)) % 2 == 0:\n",
    "                x(v[qb - i - 1])\n",
    "\n",
    "\n",
    "@cudaq.kernel\n",
    "def kernel_oracle_example(qb: int, l: List[int]):\n",
    "    v = cudaq.qvector(qb)\n",
    "    h(v)\n",
    "    kernel_picknum_flip(v, l)"
   ]
  },
  {
   "cell_type": "code",
   "execution_count": 53,
   "id": "749eb966",
   "metadata": {},
   "outputs": [
    {
     "name": "stdout",
     "output_type": "stream",
     "text": [
      "{ 0000:67 0001:66 0010:56 0011:46 0100:71 0101:64 0110:60 0111:63 1000:59 1001:60 1010:63 1011:52 1100:63 1101:71 1110:72 1111:67 }\n",
      "\n",
      "SV: [(0.25,0), (0.25,0), (0.25,0), (0.25,0), (0.25,0), (0.25,0), (-0.25,0), (0.25,0), (0.25,0), (0.25,0), (0.25,0), (0.25,0), (-0.25,0), (0.25,0), (0.25,0), (0.25,0)]\n",
      "\n",
      "     ╭───╮╭───╮     ╭───╮╭───╮     ╭───╮\n",
      "q0 : ┤ h ├┤ x ├──●──┤ x ├┤ x ├──●──┤ x ├\n",
      "     ├───┤├───┤  │  ├───┤╰───╯  │  ╰───╯\n",
      "q1 : ┤ h ├┤ x ├──●──┤ x ├───────●───────\n",
      "     ├───┤╰───╯  │  ╰───╯       │       \n",
      "q2 : ┤ h ├───────●──────────────●───────\n",
      "     ├───┤     ╭─┴─╮╭───╮     ╭─┴─╮╭───╮\n",
      "q3 : ┤ h ├─────┤ z ├┤ x ├─────┤ z ├┤ x ├\n",
      "     ╰───╯     ╰───╯╰───╯     ╰───╯╰───╯\n",
      "\n"
     ]
    }
   ],
   "source": [
    "qb, nums = 4, [3, 6]\n",
    "results = cudaq.sample(kernel_oracle_example, qb, nums, shots_count=1000)\n",
    "print(results)\n",
    "state = cudaq.get_state(kernel_oracle_example, qb, nums)\n",
    "print(state)\n",
    "print(cudaq.draw(kernel_oracle_example, qb, nums))"
   ]
  },
  {
   "cell_type": "markdown",
   "id": "fcda1c3b",
   "metadata": {},
   "source": [
    "### Diffusion Part"
   ]
  },
  {
   "cell_type": "code",
   "execution_count": 56,
   "id": "fd97536e",
   "metadata": {},
   "outputs": [],
   "source": [
    "@cudaq.kernel\n",
    "def kernel_diffuser(v: cudaq.qvector):\n",
    "    qb = len(v)\n",
    "    h(v)\n",
    "    x(v)\n",
    "    z.ctrl([v[0:qb-1]], v[qb-1])\n",
    "    x(v)\n",
    "    h(v)\n",
    "\n",
    "@cudaq.kernel\n",
    "def kernel_diffuser_example(qb: int):\n",
    "    v = cudaq.qvector(qb)\n",
    "    kernel_diffuser(v)"
   ]
  },
  {
   "cell_type": "code",
   "execution_count": 57,
   "id": "fedb741f",
   "metadata": {},
   "outputs": [
    {
     "name": "stdout",
     "output_type": "stream",
     "text": [
      "     ╭───╮╭───╮     ╭───╮╭───╮\n",
      "q0 : ┤ h ├┤ x ├──●──┤ x ├┤ h ├\n",
      "     ├───┤├───┤  │  ├───┤├───┤\n",
      "q1 : ┤ h ├┤ x ├──●──┤ x ├┤ h ├\n",
      "     ├───┤├───┤  │  ├───┤├───┤\n",
      "q2 : ┤ h ├┤ x ├──●──┤ x ├┤ h ├\n",
      "     ├───┤├───┤╭─┴─╮├───┤├───┤\n",
      "q3 : ┤ h ├┤ x ├┤ z ├┤ x ├┤ h ├\n",
      "     ╰───╯╰───╯╰───╯╰───╯╰───╯\n",
      "\n"
     ]
    }
   ],
   "source": [
    "print(cudaq.draw(kernel_diffuser_example, 4))"
   ]
  },
  {
   "cell_type": "markdown",
   "id": "263dc6b3",
   "metadata": {},
   "source": [
    "### Grover's Algorithm Implementation"
   ]
  },
  {
   "cell_type": "code",
   "execution_count": 60,
   "id": "25ac19c9",
   "metadata": {},
   "outputs": [],
   "source": [
    "@cudaq.kernel\n",
    "def kernel_grover(qb:int, l: List[int], iterations: int):\n",
    "    v = cudaq.qvector(qb)\n",
    "    h(v)\n",
    "    for _ in range(iterations):\n",
    "        kernel_picknum_flip(v, l)\n",
    "        kernel_diffuser(v)\n",
    "    # cudaq.mz(v)"
   ]
  },
  {
   "cell_type": "code",
   "execution_count": 164,
   "id": "a03c0363",
   "metadata": {},
   "outputs": [
    {
     "name": "stdout",
     "output_type": "stream",
     "text": [
      "zeta: 10.18\n",
      "\n",
      "Optimal iterations: 4\n",
      "Optimal zeta: 91.64\n",
      "\n",
      "Probability of True: 0.9992\n",
      "Probability of False: 0.0008\n"
     ]
    }
   ],
   "source": [
    "# qb = 5\n",
    "# nums = [3, 12, 5]\n",
    "\n",
    "qb = 7\n",
    "nums = [68, 103, 119, 45]\n",
    "\n",
    "zeta = np.arcsin(np.sqrt(len(nums) / 2**qb))\n",
    "print(f'zeta: {zeta / np.pi * 180:.2f}')\n",
    "\n",
    "iters = round((np.pi / (4 * zeta)) - 0.5)\n",
    "print(f'\\nOptimal iterations: {iters}')\n",
    "optimal_zeta = zeta * (2 * iters + 1)\n",
    "print(f'Optimal zeta: {optimal_zeta / np.pi * 180:.2f}')\n",
    "\n",
    "probs_true = np.abs(np.sin(optimal_zeta))**2\n",
    "probs_false = np.abs(np.cos(optimal_zeta))**2\n",
    "print(f'\\nProbability of True: {probs_true:.4f}')\n",
    "print(f'Probability of False: {probs_false:.4f}')"
   ]
  },
  {
   "cell_type": "code",
   "execution_count": 180,
   "id": "c3778d06",
   "metadata": {},
   "outputs": [
    {
     "name": "stdout",
     "output_type": "stream",
     "text": [
      "Probability of measuring True: 0.99910\n",
      "Probability of Theoretical True: 0.99918\n",
      "\n",
      "Probability of measuring False: 0.00090\n",
      "Probability of Theoretical False: 0.00082\n"
     ]
    }
   ],
   "source": [
    "shots = 10000\n",
    "results = cudaq.sample(kernel_grover, qb, nums, iters, shots_count=shots)\n",
    "# print(results)\n",
    "\n",
    "result_final = np.zeros(2**qb)\n",
    "probs = np.zeros_like(result_final)\n",
    "pt = 0\n",
    "for i in results:\n",
    "    result_final[int(i, 2)] = results[i]\n",
    "    probs[int(i, 2)] = results[i] / shots\n",
    "    if int(i, 2) in nums:\n",
    "        pt += probs[int(i, 2)]\n",
    "# print(probs)\n",
    "print(f'Probability of measuring True: {pt:.5f}')\n",
    "print(f'Probability of Theoretical True: {probs_true:.5f}')\n",
    "\n",
    "print(f'\\nProbability of measuring False: {1-pt:.5f}')\n",
    "print(f'Probability of Theoretical False: {probs_false:.5f}')"
   ]
  },
  {
   "cell_type": "code",
   "execution_count": 181,
   "id": "da492590",
   "metadata": {},
   "outputs": [
    {
     "data": {
      "image/png": "[encoded data removed]",
      "text/plain": [
       "<Figure size 1500x500 with 1 Axes>"
      ]
     },
     "metadata": {},
     "output_type": "display_data"
    }
   ],
   "source": [
    "plt.figure(figsize=(15, 5))\n",
    "x = np.arange(2**qb)\n",
    "plt.bar(range(2**qb), result_final)\n",
    "\n",
    "plt.xlabel('Items')\n",
    "plt.ylabel('Frequency')\n",
    "plt.title('Distribution of States after Grover Iterations')\n",
    "\n",
    "# plt.xticks(x, [f\"{i:0{qb}b}\" for i in x])\n",
    "# plt.xticks(x, [f\"{i}\" for i in x])\n",
    "plt.xticks(x, [f\"\" for i in x])\n",
    "plt.gca().set_xticklabels([])\n",
    "plt.xticks(visible=False)\n",
    "\n",
    "\n",
    "xlocs, xlabs = plt.xticks()\n",
    "for i, s in enumerate(probs):\n",
    "    if s > 0.1:\n",
    "        plt.text(xlocs[i]-1, result_final[i] + shots/200, f\"({i}: {s:.3f})\")\n",
    "plt.show()"
   ]
  }
 ],
 "metadata": {
  "kernelspec": {
   "display_name": "cudaq",
   "language": "python",
   "name": "python3"
  },
  "language_info": {
   "codemirror_mode": {
    "name": "ipython",
    "version": 3
   },
   "file_extension": ".py",
   "mimetype": "text/x-python",
   "name": "python",
   "nbconvert_exporter": "python",
   "pygments_lexer": "ipython3",
   "version": "3.11.13"
  }
 },
 "nbformat": 4,
 "nbformat_minor": 5
}
