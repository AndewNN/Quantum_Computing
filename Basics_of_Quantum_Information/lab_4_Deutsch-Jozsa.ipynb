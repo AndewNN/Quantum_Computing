{
  "cells": [
    {
      "cell_type": "markdown",
      "metadata": {
        "id": "H_z9-mJpuoOv"
      },
      "source": [
        "# Lab 4: Oracles and The Deutsch-Jozsa Algorithm by IBM Quantum"
      ]
    },
    {
      "cell_type": "markdown",
      "metadata": {
        "id": "O6U5QgsGuoO0"
      },
      "source": [
        "Many quantum algoritms revolve around the notion of so called $\\textit{oracles}$. An oracle is a function that can be considered as a 'black box'. We generally want to find out specific properties of this function. We do this by asking questions to the oracle (*querying*). The query complexity is then defined as the minimum number of queries in order to find these properties.\n",
        "\n",
        "\n",
        "To get familiar with the use of oracles we will now consider the Deutsch-Josza problem. We will see that the quantum solution has a drastically lower query complexity than its classical counterpart.\n"
      ]
    },
    {
      "cell_type": "markdown",
      "metadata": {
        "id": "qYjVYtAnuoO0"
      },
      "source": [
        "## 3.1: Deutsch-Jozsa Problem <a id='djproblem'> </a>\n",
        "\n",
        "We are given a hidden Boolean function $f$, which takes as input a string of bits, and returns either $0$ or $1$, that is:\n",
        "\n",
        "$$\n",
        "f(\\{x_0,x_1,x_2,...\\}) \\rightarrow 0 \\textrm{ or } 1 \\textrm{ , where } x_n \\textrm{ is } 0 \\textrm{ or } 1$$\n",
        "\n",
        "The property of the given Boolean function is that it is guaranteed to either be balanced or constant. A constant function returns all $0$'s or all $1$'s for any input, while a balanced function returns $0$'s for exactly half of all inputs and $1$'s for the other half. Our task is to determine whether the given function is balanced or constant.\n",
        "\n",
        "The Deutsch-Jozsa algorithm was the first example of a quantum algorithm that performs better than the best classical algorithm. It showed that there can be advantages to using a quantum computer as a computational tool for a specific problem.\n"
      ]
    },
    {
      "cell_type": "markdown",
      "metadata": {
        "id": "OKlqlSf4uoO1"
      },
      "source": [
        "In the Deutsch-Josza problem you are given an unknown orcale. This is in Qiskit implemented by the function:"
      ]
    },
    {
      "cell_type": "code",
      "execution_count": null,
      "metadata": {
        "colab": {
          "base_uri": "https://localhost:8080/"
        },
        "id": "kMNbBOT6FCjl",
        "outputId": "ce8968bf-8f27-4977-9884-cb7c8aa2db25"
      },
      "outputs": [],
      "source": [
        "# pip install qiskit"
      ]
    },
    {
      "cell_type": "code",
      "execution_count": null,
      "metadata": {
        "colab": {
          "base_uri": "https://localhost:8080/"
        },
        "id": "EZAepqXzFvQL",
        "outputId": "dd652933-28a0-4f2a-fa16-285ba7a899e5"
      },
      "outputs": [],
      "source": [
        "# pip install qiskit-aer"
      ]
    },
    {
      "cell_type": "code",
      "execution_count": null,
      "metadata": {
        "colab": {
          "base_uri": "https://localhost:8080/"
        },
        "id": "t_6er9LOsYiC",
        "outputId": "d88a36fc-6936-447d-f8da-79f1d4a3a347"
      },
      "outputs": [],
      "source": [
        "# pip install qiskit-ibm-runtime"
      ]
    },
    {
      "cell_type": "code",
      "execution_count": null,
      "metadata": {
        "colab": {
          "base_uri": "https://localhost:8080/"
        },
        "id": "CpL-DFldG9wM",
        "outputId": "46ffe373-8b22-4560-fae5-43d918f5d78e"
      },
      "outputs": [],
      "source": [
        "# pip install pylatexenc"
      ]
    },
    {
      "cell_type": "code",
      "execution_count": null,
      "metadata": {
        "id": "4kiDUvIhuoO2"
      },
      "outputs": [],
      "source": [
        "import numpy as np\n",
        "\n",
        "# Importing standard Qiskit libraries\n",
        "from qiskit import QuantumCircuit, transpile\n",
        "from qiskit_aer import Aer\n",
        "from qiskit.quantum_info import Statevector\n",
        "from qiskit.visualization import plot_bloch_multivector, plot_histogram\n",
        "from qiskit.circuit.library import Diagonal\n",
        "from matplotlib import pyplot as plt"
      ]
    },
    {
      "cell_type": "code",
      "execution_count": null,
      "metadata": {
        "id": "eyb3D0tLuoO3",
        "tags": []
      },
      "outputs": [],
      "source": [
        "def dj_problem_oracle(problem, N, to_gate=True):\n",
        "    \"\"\"Returns a N-qubit Deutsch-Joza Oracle\"\"\"\n",
        "    qc = QuantumCircuit(N+1)\n",
        "    np.random.seed(problem)\n",
        "    depth = np.random.randint(3, 7)\n",
        "    gates = np.random.choice([0, 1], size=depth)\n",
        "    params = np.zeros((depth, 2), dtype=int)\n",
        "    for i in range(depth):\n",
        "        params[i] = np.random.choice(range(N), size=(2,), replace=False)\n",
        "    x_gate = np.random.choice([True, False], size=(depth+1, N))\n",
        "    if depth % 2 == 0:\n",
        "        gates[-1:depth//2-1:-1] = gates[:depth//2]\n",
        "        params[-1:depth//2-1:-1] = params[:depth//2]\n",
        "        x_gate[-2:depth//2:-1] = x_gate[1:depth//2]\n",
        "        x_gate[depth//2, :] = False\n",
        "\n",
        "    for i in range(depth):\n",
        "        for j in range(len(x_gate[i])):\n",
        "            if x_gate[i][j]:\n",
        "                qc.x(j)\n",
        "        if gates[i] == 0:\n",
        "            qc.cx(params[i][0], N)\n",
        "        else:\n",
        "            qc.ccx(params[i][0], params[i][1], N)\n",
        "    for j in range(len(x_gate[depth])):\n",
        "        if x_gate[depth][j]:\n",
        "            qc.x(j)\n",
        "    if to_gate:\n",
        "        return qc.to_gate()\n",
        "    else:\n",
        "        return qc"
      ]
    },
    {
      "cell_type": "code",
      "execution_count": null,
      "metadata": {
        "id": "qwmPza7iuoO4"
      },
      "outputs": [],
      "source": [
        "oraclenr = 1 # determines the oracle (can range from 1 to 4)\n",
        "N = 6\n",
        "oracle = dj_problem_oracle(oraclenr, N) # gives one out of 4 oracles\n",
        "oracle = oracle\n",
        "oracle.name = \"DJ-Oracle\"\n",
        "dj_problem_oracle(oraclenr, N, False).draw(output='mpl')"
      ]
    },
    {
      "cell_type": "markdown",
      "metadata": {
        "id": "zLgup63KuoO4"
      },
      "source": [
        "This function gives a certain oracle with 5 input qubits. The last qubit ($q_4$) will be the output. In order to get a feeling for the oracle, let us create a circuit to which we add the oracle such that we can pass it different input strings and then measure the output of $q_4$. This corresponds to the classical way of determining whether the oracle is balanced or constant."
      ]
    },
    {
      "cell_type": "code",
      "execution_count": null,
      "metadata": {
        "colab": {
          "base_uri": "https://localhost:8080/",
          "height": 449
        },
        "id": "f8BBlrMwuoO4",
        "outputId": "4f5cb954-e2fb-44a5-9c74-0d691fef6f4f"
      },
      "outputs": [],
      "source": [
        "def dj_classical(n, input_str):\n",
        "\n",
        "    # build a quantum circuit with n qubits and 1 classical readout bit\n",
        "    dj_circuit = QuantumCircuit(n+1,1)\n",
        "\n",
        "    # Prepare the initial state corresponding to your input bit string\n",
        "    for i in range(n):\n",
        "        if input_str[i] == '1':\n",
        "            dj_circuit.x(i)\n",
        "\n",
        "    # append oracle\n",
        "    dj_circuit.append(oracle, range(n+1))\n",
        "\n",
        "    # measure the fourth qubit\n",
        "    dj_circuit.measure(n,0)\n",
        "\n",
        "    return dj_circuit\n",
        "\n",
        "n = N # number of qubits\n",
        "input_str = '100000'\n",
        "dj_circuit = dj_classical(n, input_str)\n",
        "dj_circuit.draw(output=\"mpl\") # draw the circuit"
      ]
    },
    {
      "cell_type": "code",
      "execution_count": null,
      "metadata": {
        "colab": {
          "base_uri": "https://localhost:8080/",
          "height": 487
        },
        "id": "XcGDI_8UuoO6",
        "outputId": "2e8c6331-5bb1-4939-f6e9-7dc9ba396042"
      },
      "outputs": [],
      "source": [
        "qasm_sim = Aer.get_backend('qasm_simulator')\n",
        "transpiled_dj_circuit = transpile(dj_circuit, qasm_sim)\n",
        "results = qasm_sim.run(transpiled_dj_circuit).result()\n",
        "answer = results.get_counts()\n",
        "plot_histogram(answer)"
      ]
    },
    {
      "cell_type": "markdown",
      "metadata": {
        "id": "pHFfQdj6uoO6"
      },
      "source": [
        "Now we simulate the results to find the outcome of this circuit. Try different input bit strings to see the corresponding outputs!"
      ]
    },
    {
      "cell_type": "code",
      "execution_count": null,
      "metadata": {
        "colab": {
          "base_uri": "https://localhost:8080/",
          "height": 487
        },
        "id": "iYpdAm7xuoO6",
        "outputId": "235c8b27-a0fe-4326-d219-3b15a25fb8fb"
      },
      "outputs": [],
      "source": [
        "input_str = '111111'\n",
        "dj_circuit = dj_classical(n, input_str)\n",
        "qasm_sim = Aer.get_backend('qasm_simulator')\n",
        "transpiled_dj_circuit = transpile(dj_circuit, qasm_sim)\n",
        "results = qasm_sim.run(transpiled_dj_circuit).result()\n",
        "answer = results.get_counts()\n",
        "plot_histogram(answer)"
      ]
    },
    {
      "cell_type": "markdown",
      "metadata": {
        "id": "1cct2PGduoO6"
      },
      "source": [
        "Do you already have an idea whether the oracle is balanced or constant? How many inputs would you need to check minimally and maximally for this oracle?"
      ]
    },
    {
      "cell_type": "code",
      "execution_count": null,
      "metadata": {
        "id": "hb5AWFg-2DR_"
      },
      "outputs": [],
      "source": [
        "input_str = '010010'\n",
        "dj_circuit = dj_classical(n, input_str)\n",
        "qasm_sim = Aer.get_backend('qasm_simulator')\n",
        "transpiled_dj_circuit = transpile(dj_circuit, qasm_sim)\n",
        "results = qasm_sim.run(transpiled_dj_circuit).result()\n",
        "answer = results.get_counts()\n",
        "plot_histogram(answer)"
      ]
    },
    {
      "cell_type": "code",
      "execution_count": null,
      "metadata": {
        "id": "__RgKBkguoO7"
      },
      "outputs": [],
      "source": [
        "def lab1_ex7():\n",
        "    min_nr_inputs = 2# put your answer here\n",
        "    max_nr_inputs = 9# put your answer here\n",
        "    return [min_nr_inputs, max_nr_inputs]"
      ]
    },
    {
      "cell_type": "markdown",
      "metadata": {
        "id": "waRvtfi-uoO8"
      },
      "source": [
        "## 3.2: Quantum Solution to the Deutsch-Josza Problem"
      ]
    },
    {
      "cell_type": "markdown",
      "metadata": {
        "id": "afV7BBnAuoO9"
      },
      "source": [
        "Using a quantum computer, we can find out if the oracle is constant or balanced with 100% confidence after only one call to the function $f(x)$, provided we have the function $f$ implemented as a quantum oracle, which maps the state $\\vert x\\rangle \\vert y\\rangle $ to $ \\vert x\\rangle \\vert y \\oplus f(x)\\rangle$, where $\\oplus$ is addition modulo $2$. Below we will walk through the algorithm."
      ]
    },
    {
      "cell_type": "markdown",
      "metadata": {
        "id": "FS1TFeLHuoO9"
      },
      "source": [
        "Prepare two quantum registers. The first is an $n$-qubit register initialised to $|0\\rangle$, and the second is a one-qubit register initialised to $|-\\rangle =\\frac{1}{\\sqrt{2}}\\left(|0\\rangle - |1 \\rangle \\right)$. Note, that with Qiskit states are described as $\\vert b_3 b_2 b_1 b_0\\rangle_{q_3q_2q_1q_0}$, i.e. just like for binary numbers, the last bit $b_0$ corresponds to the state of the first qubit. Thus, we want to initialize the state $$\\vert \\psi_0 \\rangle = \\vert -\\rangle \\otimes \\vert0\\rangle^{\\otimes n}.$$"
      ]
    },
    {
      "cell_type": "code",
      "execution_count": null,
      "metadata": {
        "id": "17Q0hSzsuoO9"
      },
      "outputs": [],
      "source": [
        "n=N\n",
        "def psi_0(n):\n",
        "    qc = QuantumCircuit(n+1,n)\n",
        "\n",
        "    # Build the state (|00000> - |10000>)/sqrt(2)\n",
        "    ### FILL YOUR CODE IN HERE\n",
        "    \n",
        "    ###\n",
        "    return qc\n",
        "\n",
        "dj_circuit = psi_0(n)\n",
        "dj_circuit.draw(output='mpl')"
      ]
    },
    {
      "cell_type": "markdown",
      "metadata": {
        "id": "ts_ILrxHuoO9"
      },
      "source": [
        "Applying the quantum bit oracle to any state $\\vert x\\rangle \\vert y\\rangle$ would yield the state $\\vert x\\rangle \\vert y \\oplus f(x)\\rangle$.\n",
        "As we have prepared the state $|y\\rangle$, which corresponds to the state on the last qubit $q_n$, in the state $|-\\rangle$, the output of the oracle for any input bitstring $x$ is given by:\n",
        "$$\n",
        "\\begin{aligned}\n",
        "\\frac{1}{\\sqrt{2}}\\vert x\\rangle (\\vert 0 \\oplus f(x)\\rangle - \\vert 1 \\oplus f(x)\\rangle) &= \\frac{1}{\\sqrt{2}}\\vert x\\rangle (\\vert f(x)\\rangle - \\vert 1 \\oplus f(x)\\rangle) \\\\\n",
        "&= \\frac{1}{\\sqrt{2}} (-1)^{f(x)}|x\\rangle (|0\\rangle - |1\\rangle ) \\\\\n",
        "&= (-1)^{f(x)}|x\\rangle |-\\rangle\n",
        "\\end{aligned}\n",
        "$$\n",
        "\n",
        "\n",
        "Note that, for $a \\in \\{0, 1\\}$, we have $a \\oplus 1 = 1 - a$. \n",
        "\n",
        "Thus, we have created a phase oracle acting on the bit string $x$.\n",
        "\n",
        "Before applying the oracle, we need to create our input state on the first $n$ qubits though. For that we want an equal superposition state, so that the total state on all $n+1$ qubits is given by \n",
        "$$\n",
        "\\begin{aligned}\n",
        "\\vert \\psi_1 \\rangle &= \\frac{1}{\\sqrt{2^{n+1}}}\\sum_{x=0}^{2^n-1} \\vert x\\rangle \\left(|0\\rangle - |1 \\rangle \\right) \\\\\n",
        "&= \\frac{1}{\\sqrt{2^{n+1}}}\\sum_{x=0}^{2^n-1} \\vert x\\rangle |-\\rangle\n",
        "\\end{aligned}\n",
        "$$"
      ]
    },
    {
      "cell_type": "code",
      "execution_count": null,
      "metadata": {
        "id": "T5a1AdnYuoO9"
      },
      "outputs": [],
      "source": [
        "def psi_1(n):\n",
        "\n",
        "    # obtain the |psi_0> = |00001> state\n",
        "    qc = psi_0(n)\n",
        "\n",
        "    # create the superposition state |psi_1>\n",
        "    ### FILL YOUR CODE IN HERE\n",
        "    \n",
        "    ###\n",
        "    \n",
        "    return qc\n",
        "\n",
        "dj_circuit = psi_1(n)\n",
        "dj_circuit.draw(output='mpl')"
      ]
    },
    {
      "cell_type": "markdown",
      "metadata": {
        "id": "FrWlATlguoO-"
      },
      "source": [
        "Now we are ready to apply our oracle to the prepared superposition state $\\vert \\psi_1 \\rangle$. This gives the state\n",
        "$$\n",
        "\\begin{aligned}\n",
        "\\vert \\psi_2 \\rangle &= \\frac{1}{\\sqrt{2^{n+1}}}\\sum_{x=0}^{2^n-1} \\vert x\\rangle (\\vert 0 \\oplus f(x)\\rangle - \\vert 1 \\oplus f(x)\\rangle) \\\\\n",
        "&= \\frac{1}{\\sqrt{2^{n+1}}}\\sum_{x=0}^{2^n-1} \\vert x\\rangle (\\vert f(x)\\rangle - \\vert 1 \\oplus f(x)\\rangle) \\\\\n",
        "&= \\frac{1}{\\sqrt{2^{n+1}}}\\sum_{x=0}^{2^n-1}(-1)^{f(x)}|x\\rangle (|0\\rangle - |1\\rangle ) \\\\\n",
        "&= \\frac{1}{\\sqrt{2^{n}}}\\sum_{x=0}^{2^n-1}(-1)^{f(x)}|x\\rangle |-\\rangle.\n",
        "\\end{aligned}\n",
        "$$\n"
      ]
    },
    {
      "cell_type": "code",
      "execution_count": null,
      "metadata": {
        "id": "k0zEBaFBuoO-"
      },
      "outputs": [],
      "source": [
        "def psi_2(oracle,n):\n",
        "\n",
        "    # circuit to obtain psi_1\n",
        "    ### FILL YOUR CODE IN HERE\n",
        "    \n",
        "    ###\n",
        "\n",
        "    # append the oracle\n",
        "    ### FILL YOUR CODE IN HERE\n",
        "    \n",
        "    ###\n",
        "\n",
        "    return qc\n",
        "\n",
        "dj_circuit = psi_2(oracle, n)\n",
        "dj_circuit.draw(output='mpl')"
      ]
    },
    {
      "cell_type": "markdown",
      "metadata": {},
      "source": [
        "In the final part of our algorithm we disregard the outcome on our second register and we apply an n-fold Hadamard to our first register. Afterwards we measure the outcome on these qubits.\n"
      ]
    },
    {
      "cell_type": "code",
      "execution_count": null,
      "metadata": {
        "id": "eP-RRF1DuoO-"
      },
      "outputs": [],
      "source": [
        "def full_circuit(oracle, n): # note that this exercise also depends on the code in the functions psi_0 (In [24]) and psi_1 (In [25])\n",
        "    \n",
        "    # get psi_2 and apply n-fold hadamard gate\n",
        "    ### FILL YOUR CODE IN HERE\n",
        "    \n",
        "    ###\n",
        "\n",
        "    # add the measurement by connecting qubits to classical bits\n",
        "    ### FILL YOUR CODE IN HERE\n",
        "    \n",
        "    ###\n",
        "    return qc\n",
        "\n",
        "dj_circuit = full_circuit(oracle, n)\n",
        "dj_circuit.draw(output='mpl')"
      ]
    },
    {
      "cell_type": "markdown",
      "metadata": {
        "id": "CcMtuSU5uoO-"
      },
      "source": [
        "For 6 qubits input, Circuit should look like this:\n",
        "\n",
        "<img src='data:image/png;base64,iVBORw0KGgoAAAANSUhEUgAAAzQAAAIwCAYAAABQlC7VAAAAOXRFWHRTb2Z0d2FyZQBNYXRwbG90bGliIHZlcnNpb24zLjcuNSwgaHR0cHM6Ly9tYXRwbG90bGliLm9yZy/xnp5ZAAAACXBIWXMAAA9hAAAPYQGoP6dpAABo00lEQVR4nO3dd3hUZd7G8Xsyk57QS4ihhRAgtFAFpQsKAqKi6AqKLqLuLiu6SFgLovIqUpbdRd1d1t5gUbFiA4wiIh3CYoiEkgBpQujpycy8fyBZYyaQGSaZOZPv57q4YE79nYE8zD3Pc55jstvtdgEAAACAAfl5ugAAAAAAcBWBBgAAAIBhEWgAAAAAGBaBBgAAAIBhEWgAAAAAGBaBBgAAAIBhEWgAAAAAGBaBBgAAAIBhEWgAAAAAGBaBBgAAAIBhEWgAAAAAGBaBBgAAAIBhEWgAAAAAGBaBBgAAAIBhEWgAAAAAGBaBBgAAAIBhEWgAAAAAGBaBBgAAAIBhEWgAAAAAGBaBBgAAAIBhEWgAAAAAGBaBBgAAAIBhEWgAAAAAGBaBBgAAAIBhEWgAAAAAGBaBBgAAAIBhEWgAAAAAGBaBBgAAAIBhEWgAAAAAGBaBBgAAAIBhEWgAAAAAGBaBBgAAAIBhEWgAAAAAGBaBBgAAAIBhEWgAAAAAGBaBBgAAAIBhEWgAAAAAGJbF0wXAMbvdLhUXe7qM6gsMlMlk8nQVPsVut6us0ED/Buo4S7B7fwYM1wZIbm0H7Ha7rFarW45VW8xmM+0gAHgAgcZbFRerbMJkT1dRbZZ3XpeCgjxdhk8pKyzW2+0meboMVNPEA2/JP8SNPwMGawMk97YDVqtVK1eudMuxasv48eNlsfDfKgDUNoacAQAAADAsAg0AAAAAwyLQAAAAADAsAg0AAAAAwyLQAAAAADAsAg0AAAAAwyLQAAAAADAsAg0AAAAAwyLQAAAAADAsAg0AAAAAwyLQAADqBLvdrrKyMhUVFclqtTq9/5EjR7R3794aqAwAcCksni4AAICaYLPZtGvXLiUnJystLU1paWkqKCgoX9+gQQO1bdtW0dHR6tGjh9q1ayeTyeTwWEeOHNHcuXNVUlKihx9+WB06dKitywAAXASBBgDgU/Lz87V27VqtXbtWx44dq3K7U6dOaefOndq5c6dWrlyp6OhojRgxQgMHDpTF8r//Hs+HmTNnzkiS3nnnHT322GNVhh8AQO2qE0POcnNzlZCQoJiYGAUFBally5aaPn268vPzNWXKFJlMJj3//POeLhMAcIm2b9+uhx56SMuXL68UZho1aqSOHTuqc+fOat++vUJDQyusP3jwoJYuXapHH31U6enpkiqHmejoaP3pT38izACAF/H5HpqkpCSNGjVKOTk5Cg0NVVxcnLKysrRkyRIdOHBAJ06ckCTFx8d7ttAasi73qEZs/EbPxnXTn9p1dLhNwCfv6NpmLfTh5QNruTpcMpNJcVNHq8PtIxQW1VRFx88o7ZPvlbRghcoKiz1dHbxAXWkDSkpK9NJLL+nbb7+tsLx79+4aNmyYOnTooAYNGlRYZ7fbdfToUSUnJ2vNmjVKS0uTJB06dEiPPvqoRowYoe+//75CmHn00UcrBSEAgGf5dKDJzc3V2LFjlZOToxkzZmjOnDkKDw+XJC1YsECzZs2SxWKRyWRSt27dPFwt4Ly+T92puLtH69Bnm/XDvz5Rg/aXKW7KtWrcpa2+nPCUZLd7ukSgxhUXF2vBggVKTk4uX9ajRw9NnjxZERERVe5nMpnUvHlzNW/eXEOHDlVqaqpefvllHT58WFarVV988UX5toQZAPBePh1o7r//fmVkZGjatGlatGhRhXUJCQlatmyZdu3apbZt26pevXoeqhJwTYPYKHX67Silf7pJ39z9v3/fZw8fVb+np6jt9Vcq7YPvPFghUPPKysq0ePHi8jATGBiou+66S4MHD3ZqWJjJZFKHDh30zDPP6LXXXtPatWvL19WvX58wAwBezGfvoUlJSdGKFSvUpEkTzZs3z+E2vXr1knRuSMIvpaWl6brrrlN4eLgaNmyoO+64Q8ePH6/xmgFntL1hgEx+ftrz4qcVlu97e61KC4rUbvwgD1UG1J6PPvpIu3btkiQFBwfrscce05AhQ1y+xyU7O1tbtmypsOz06dNM1wwAXsxnA83y5ctls9k0ceJEhYWFOdwmODhYUsVAc/bsWQ0dOlQZGRlavny5/v3vf2v9+vUaM2aMbDZbrdReEwqsVuUWFzv8BWNqEh8jm9Wq3J37Kiy3FpfqxA/pahLfzkOVwRv5Yhtw6NAhvf/++5IkPz8/JSQkqH379i4f79cTADRp0qR83Ysvvqi8vLxLKxgAUCN8dshZYmKiJGno0KFVbpORkSGpYqD597//rczMTH377bdq1aqVJCkqKkpXXHGFPv74Y11//fU1V3QNempvsp7am3zxDWEYIc0bqvjEWdlKyiqtK8g5oeZ9O8rP3yJbaeX1qHt8rQ2w2+168cUXyx+QOW7cOHXq1Mnl4zmazeyRRx7R888/r6SkJJ08eVIrVqzQlClT3FI/AMB9fDbQHDp0SJLUunVrh+vLysq0YcMGSRUDzapVqzRgwIDyMCNJ/fv3V3R0tD755BOXAk3v3r2Vk5Pj1D7Bfn7aE9/f6XNV5e5W0Rof2dLhulGb1l3y8WNjY1Vo4B4sb+Rv99Mc9a1yvTk4UNaSUofrrMXnlluCA1RCoKkVse1jVWpy38+A0doAyb3tQEBAQJXDhSVp//792r9/v6RzXzrdeOONLp/LUZg5f8/M1KlTNWPGDBUVFWndunW69dZbq7yXJjY2ViUlJS7XAQB1WUREhLZt2+bSvj4baPLz8yVJhYWFDtevWLFCubm5Cg8PV9u2bcuX79mzRzfffHOl7Tt37qw9e/a4VEtOTo4yMzOd2ifEbJbiXTqdQzFhYbqqaXP3HfBXsrKyVPDzN6VwjwCTWbrAX5m1sFj+ofUdrjMH+kuSygr5cFVbsrKzVGJ338+A0doAyb3tQGBg4AXXr169uvzPY8aMkb+/v0vnuVCYkaTGjRtr8ODB+vLLL1VSUqJ169bp2muvdXisrKwsFRt4CB8AGJXPBpqIiAidPHlSO3bsUP/+Fb/lzM7O1syZMyVJ3bp1q3Dz6MmTJys9q0A690A2V28KvdC0oVUJ9jPW7U2RkZH00LiZv91PusBbWvDTSdWPjZJfgKXSsLOQiEYqOn6a4Wa1KLJFpNt7aIzGne1AQEBAletKSkq0adMmSVJoaKiuuOIKl85xsTBz3ogRI/Tll19KktavX19loImMjKSHBgBc5Mrn5fN8NtAMHz5cKSkpmj9/vkaMGKHY2FhJ0tatW3X77bcrNzdXUu08UNOV7jN7UZHKJkyugWpqRmpqqkxBQZ4uw6eUFhTp7XaTqlyfm7Rflw2JV5Me7XV0c0r5cnOgvxp1aaOfNqVUuS/cL3VfqvxD3PczYLQ2QHJvO1BWVqaVK1c6XHfkyBGVlp4bVtmzZ88Lhp+qVDfMSOeGtEVFRSkjI0OHDx9WSUmJw3OmpqbKYvHZ/1YBwGsZ7yvAakpISFDjxo115MgRde7cWV27dlX79u3Vt29fRUdHa9iwYZIqT9ncsGFDnTp1qtLxTpw4oUaNGtVG6UC1pH30vew2m+Kmjq6wvP3E4fIPCdLB97+tYk/A2A4ePFj+53btnJ/Nz5kwc150dLQkyWq16vDhw06fEwBQc3w20ERFRWn9+vUaPXq0goKClJ6erkaNGmnp0qX69NNPlZqaKqlyoOnUqZPDe2X27NlzSTPoAO526sfD+vHVL9RmdD8NfXmm2t92lXrPuUN9n5isnO+TdfB9HqoJ33R+hkpJatOmjVP7uhJmfn2eX54fAOB5Pt033qlTJ61atarS8ry8PKWnp8vPz09dunSpsG7MmDF65JFHlJGRoaioKEnS5s2bdeDAAS1cuLBW6gaqa8vjrynvyDHFThquqKt6qujEGaW88rl2Llgh2e2eLg+oETabTWazWVarVeHh4dXez9UwI6n8PP7+/ior4940APAmJru97n3q2bx5s/r166cOHTroxx9/rLDuzJkz6tq1q5o0aaInn3xSRUVFSkhIUNOmTbVx40b51dKNukYbP29553XuoXGzi91DA+8y8cBbdf4eGne2Axe6h+a88w87rm67nJWVpblz5+rkyZNOhZnqnmv8+PHcQwMAHuCzQ84uZPfu3ZIqDzeTpHr16ikxMVEtWrTQrbfeqrvvvltXXHGFVq1aVWthBgBwcX5+fk61y5GRkZo9e7Z69erlVJhx5VwAgNpTJ79KulCgkc7dZOpoqBoAwNgiIyPLp+0HAPiGOvl108UCDQAAAABjqJM9NImJiZ4uAQAAAIAb1MkeGgAAAAC+gUADAAAAwLAINAAAAAAMi0ADAAAAwLAINAAAAAAMi0ADAAAAwLAINAAAAAAMi0ADAAAAwLAINAAAAAAMi0ADAAAAwLAINAAAAAAMy2S32+2eLgKV2e12qbjY02VUX2CgTCaTp6vwKaUFRXq73SRPl4FqmnjgLfmHBLnteIZrAyS3tgN2u11Wq9Utx5KkhUtX6Gx+vsJDQzXz3lsqvXYHs9lMOwgAHmDxdAFwzGQySUHu+3AEwFjqehtgMplksbjvvyi7JJv93O8Wi6XSawCAcTHkDAAAAIBhEWgAAAAAGBaBBgAAAIBhEWgAAAAAGBaBBgAAAIBhEWgAAAAAGBaBBgAAAIBhEWgAAAAAGBaBBgAAAIBhEWgAAAAAGBaBBgAAAIBhEWgAAAAAGBaBBgAAAIBhEWgAAAAAGBaBBgAAAIBhEWgAAAAAGBaBBgAAAIBhWTxdAByz2+1ScbGny6i+wECZTCZPVwH4DMO1ARLtgJvZ7XZZrVZPl+EUs9nMvwEAtY5A462Ki1U2YbKnq6g2yzuvS0FBni4D8B0GawMk2gF3s1qtWrlypafLcMr48eNlsfDRAkDtYsgZAAAAAMMi0AAAAAAwLAINAAAAAMMi0AAAAAAwLAINAAAAAMMi0AAAAAAwLAINAAAAAMMi0AAAAAAwLAINAAAAAMMi0AAAAAAwLAINAAColvz8fE+XAACVWDxdAAAAqDmnT5/WwYMHlZaWppycHJWUlMjPz0+hoaFq3bq1oqOj1apVK1ksF/5IsHHjRr300ktKSEhQhw4daql6ALg4Ag0AAD6mrKxMW7Zs0Zo1a5SSknLR7YODgzVo0CCNGDFCUVFRldZv3LhRzz33nGw2m+bNm6dnnnlGkZGRNVE6ADitTgw5y83NVUJCgmJiYhQUFKSWLVtq+vTpys/P15QpU2QymfT88897ukwAAC7Zpk2b9Mc//lFLliypVpiRpMLCQn355Zd66KGHtHDhQp04caJ83S/DjCT1799fERERNVI7ALjC53tokpKSNGrUKOXk5Cg0NFRxcXHKysrSkiVLdODAgfJGOz4+3rOF1pB1uUc1YuM3ejaum/7UrqPDbQI+eUfXNmuhDy8fWMvV4VJ1/eMNatw1Wo27RSu8dXPlHTmq9/r+3tNlwYvQBtQdZ86c0SuvvKJNmzZVWB4ZGakePXqobdu2at26tYKCgmSz2XTixAmlpaVp//792r59u4qLiyVJ27dvV0pKiu644w4FBATo+eefLw8zQ4cO1dSpU+XnVye+DwVgED4daHJzczV27Fjl5ORoxowZmjNnjsLDwyVJCxYs0KxZs2SxWGQymdStWzcPVws4r9cjE1V04qxO7D6ogHohni4HgIf89NNPevrpp3X06NHyZT169NCYMWMUFxcnk8lUaZ/mzZurU6dOks7d7L9u3Tp9/PHHOnXqlAoKCvSvf/1LJpNJdrtdEmEGgPfy6UBz//33KyMjQ9OmTdOiRYsqrEtISNCyZcu0a9cutW3bVvXq1fNQlYDr3rv898o7fO4DzLivF8s/NMjDFQGobbm5uXrqqad0/PhxSVJ4eLjuuusu9e/f32GQcSQ0NFTXXnutBg0apNdff13r16+XJMIMAEPw2ZYpJSVFK1asUJMmTTRv3jyH2/Tq1UuS1L179/Jl5wNQ3759FRgYWO3/DABPOB9mANRNpaWlmj9/fnmYiYqK0vz583XFFVe49P9XWFiYevbsWWnf1q1bE2YAeC2f7aFZvny5bDabJk6cqLCwMIfbBAcHS6oYaPbv36+VK1eqT58+CggI0IYNG2ql3ppWYLUq9+fx0QDqHtoA3/Tee+/pyJEjkqQWLVpo9uzZql+/vsvHOz8BwPmemfOWL1+u+Ph4JgMA4JV8NtAkJiZKOtdNXpWMjAxJFQPNoEGDlJ2dLUl64oknfCbQPLU3WU/tTfZ0GQA8hDbA9xw4cEAff/yxJMlsNuvBBx90S5j55QQAZrNZa9euVXFxsZYuXarHH3+ckQsAvI7PBppDhw5JOtdN7khZWVl5WPlloKmJLvXevXsrJyfHqX2C/fy0J76/22q4u1W0xke2dLhu1KZ1l3z82NhYFf78nyDcw9/upznq6+kyUE2x7WNVanLfz4DR2gDJu9uBG+56QKFh9ZSdk62oqKhKr71RQEBAlUOmJenDDz8s70kZP368WrVq5fK5HIWZqVOnqqSkRLt27dKxY8eUkpKilJQUxcXFVXmc2NhYlZSUuFwHgLorIiJC27Ztc2lfnw00+fn5ks7Nre/IihUrlJubq/DwcLVt27ZGa8nJyVFmZqZT+4SYzVK8+2qICQvTVU2bu++Av5KVlaUCq7XGjl8XBZjMUs39lcHNsrKzVGJ338+A0doAybvbAdvPddmsVmVmZlZ67Y0CAwOrXHf8+PHy//gbNmyo6667zuXzVBVm/Pz8FBQUpFtvvVXPPfecJGn16tUXDDRZWVnl0z8DQG3x2UATERGhkydPaseOHerfv+K3nNnZ2Zo5c6YkqVu3bjXefe7KmONgg918GRkZ6bXfzBqVv91P4i01jMgWkW7voTEab24H/Mzm8t8vu+yySq+9UUBAQJXrEhMTy3tnrrrqKlksrv13fqEwc17fvn1Vv359nT59Wlu3btWpU6fUoEEDh8eLjIykhwaASy7lHj2fDTTDhw9XSkqK5s+frxEjRig2NlaStHXrVt1+++3Kzc2VVDsP1HSl+8xeVKSyCZNroJqakZqaKlMQUwa7U2lBkd5uN8nTZaCaUvelyj/EfT8DRmsDJO9uB5554W2dyctXi4gWysjIqPTaG5WVlWnlypUO1+3Zs6f8z0OGDHHp+NUJM5Lk7++vAQMG6NNPP5XValVqaqr69nU8HDY1NdXlcAUArjLeV4DVlJCQoMaNG+vIkSPq3Lmzunbtqvbt26tv376Kjo7WsGHDJFW8fwYAAG9ns9mUnp4uSWrcuLGaNGni9DGqG2bO69ChQ/mf09LSnC8aAGqQz36NEhUVpfXr12vmzJlat26d0tPTFRcXp6VLl2rq1Klq166dJAINjC36pkEKi2oqSQpqXE9+/hZ1e2C8JCkv45gOvvetJ8sDUANycnLK7w+Njo52en9nw4ykCveaEmgAeBufDTSS1KlTJ61atarS8ry8PKWnp8vPz09dunTxQGWAe8T+5ipFXNG5wrKes34jScr5PplAA/igs2fPlv+5adOmTu3rSpiRpCZNmshkMslut+vMmTPOFw0ANcinA01VkpOTZbfbFRsbq5CQkErr33vvPUn/G6N8/nWbNm3Uu3fv2ivUDQY3aaaSsRMuuM3F1sN7fTF+jqdLgJejDfA9LVq00P3336+SkhKnJjQoKSnRW2+95XSYkSSTyaR77rlHZrP5kp51AwA1oU4Gmt27d0uqerjZzTff7PD15MmT9dprr9VobQAAXEi9evV0xRVXOL1fQECAHn30Uc2dO1fx8fHVDjPnXehB1QDgSQQaB85PhQkAgC+JjIzU008/rQYNGtTIg6QBwBMINAAA1CGNGjXydAkA4FZ1MtAkJiZ6ugQAAAAAbkB/MwAAAADDItAAAAAAMCwCDQAAAADDItAAAAAAMCwCDQAAAADDItAAAAAAMCwCDQAAAADDItAAAAAAMCwCDQAAAADDItAAAAAAMCwCDQAAAADDsni6AFQhMFCWd173dBXVFxjo6QoA32K0NkCiHXAzs9ms8ePHu+14C5eu0Nn8fIWHhmrmvbdUeu0OZrPZLccBAGcQaLyUyWSSgoI8XQYAD6ENgMlkksXivv+m7ZJs9nO/WyyWSq8BwKgYcgYAAADAsAg0AAAAAAyLQAMAAADAsAg0AAAAAAyLQAMAAADAsAg0AAAAAAyLQAMAAADAsAg0AAAAAAyLQAMAAADAsAg0AAAAAAyLQAMAAADAsAg0AAAAAAyLQAMAAADAsAg0AAAAAAyLQAMAAADAsAg0AAAAAAyLQAMAAADAsAg0AAAAAAzL4ukC4JjdbpeKiz1dRvUFBspkMnm6CsBnGK4NkGgH4FZ2u11Wq9XTZTjFbDbzMwB4AIHGWxUXq2zCZE9XUW2Wd16XgoI8XQbgOwzWBki0A3Avq9WqlStXeroMp4wfP14WCx+tgNrGkDMAAAAAhkWgAQAAAGBYBBoAAAAAhkWgAQAAAGBYBBoAAAAAhkWgAQAAAGBYBBoAAAAAhkWgAQAAAGBYBBoAAAAAhkWgAQAAAGBYFk8XAAAAUNOKiop05MgRFRYWymazKSAgQC1atFDDhg2rtb/dbteKFSvUo0cPdejQoYarBeAMAg0AAPA5drtd+/fv19dff63U1FRlZmbKbrdX2q5hw4aKjo5W//79dfnll8vf39/hsd5880199tln+uKLL/Twww8TagAvQqABAAA+w263a+PGjfrkk0+UlpZ20e1Pnjyp7du3a/v27XrjjTd01VVXady4cQoKCio/3vkwI0nFxcXKyckh0ABepE7cQ5Obm6uEhATFxMQoKChILVu21PTp05Wfn68pU6bIZDLp+eef93SZNWJd7lEFfPKOFh/4scptAj55R9dvXl+LVcEd6kW3UPzMWzR61TO69YeXNXHfm7puzUJ1m36jLMGBni4PXoI2AHXJyZMntWjRIi1ZsqRCmDGbzWrTpo2GDh2qG2+8UePHj9eoUaPUuXNnhYSElG935swZffDBB0pISFBycnKlMGMymXTPPfdo8ODBtX5tAKrm8z00SUlJGjVqlHJychQaGqq4uDhlZWVpyZIlOnDggE6cOCFJio+P92yhgJPa3zpMHe8aqcOrt+nA++tlL7Mq4orO6vnn29Rm7BX6dMwjshaVeLpMAKgVu3fv1t/+9jfl5+eXL2vXrp1GjBih/v37KzDQ8Rc9NptNP/74o9asWaMtW7bIarXq6NGjmjt3rtq1a6cDBw5I+l+YGTp0aK1cD4Dq8+lAk5ubq7FjxyonJ0czZszQnDlzFB4eLklasGCBZs2aJYvFIpPJpG7dunm4WsA56Z9u0n+f+0ClZwvKl+19Y7XOpGWr+wM3qf1vhunHV7/wYIUAUDt27typv/zlLyorK5Mk1a9fX3fffbf69Olz0X39/PwUFxenuLg45eTkaOnSpUpJSZEkwgxgED495Oz+++9XRkaGpk2bpkWLFpWHGUlKSEhQ9+7dVVZWpjZt2qhevXoerBRw3vFdByqEmfPSPvpektSwY6vaLgkAat2+ffu0ePHi8jDTo0cPLVq0qFph5tciIiL02GOPqWPHjhWW9+zZkzADeDGfDTQpKSlasWKFmjRponnz5jncplevXpKk7t27ly977733NH78eLVu3VohISHq2LGjHn30UeXl5dVK3TWlwGpVbnGxw1/wLaGRjSVJhcdOebYQeBXaAPii4uJivfDCCyotLZUk9evXTzNmzKjwBaYz7Ha73n77bf34Y8V7znbs2KG9e/decr0AaobPDjlbvny5bDabJk6cqLCwMIfbBAcHS6oYaBYtWqRWrVrpmWeeUVRUlJKSkvTkk09q3bp1+vbbb+XnZ8wM+NTeZD21N9nTZaCGmfz81P2Bm2QrLdPBD77zdDnwIrQB8EX/+c9/lJOTI0lq3769pk2bJovFtY82jiYA6NOnj7Zs2SK73a5//etfmj9/vgICAtxWPwD38NlAk5iYKEkX7CLOyMiQVDHQfPLJJ2ratGn568GDB6tp06aaOHGivvvuOw0aNMjpWnr37l3e4FZXsJ+f9sT3d/pcVbm7VbTGR7Z0uG7UpnWXfPzY2FgV2myXfBz8j7/dT3PU16l9+j51p5r16aDtz7ytMweyaqgyOBLbPlalJvf9DBitDZC8ux244a4HFBpWT9k52YqKiqr0ui4w2nsQEBBQ5QgLScrKytIXX5y7T9Df31+/+93v3Bpmzs9m9vjjj2v//v3Kzs7W559/rnHjxlV5nNjYWJWUMBkL4IqIiAht27bNpX19NtAcOnRIktS6dWuH68vKyrRhwwZJFQPNL8PMeb1795YkZWZmulRLTk6O0/uGmM1SvEuncygmLExXNW3uvgP+SlZWlgqs1ho7fl0UYDJLTvyV9Ui4VZ2mXKu9b67W7uc+qLnC4FBWdpZK7O77GTBaGyB5dztg+7kum9WqzMzMSq/rAqO9B1XNSnbemjVryh+UecMNNygyMtKl81QVZs5/IXrfffdp5syZstvtWrNmjcaOHVvlaI2srCwVM4wTqHU+G2jOT9tYWFjocP2KFSuUm5ur8PBwtW3b9oLH+vrrryVJnTp1cqmWiIgIp/cJNtjQtsjISK/9Ztao/O1+UjXf0vgZE9T9wZu0b3miNib8u2YLg0ORLSLd3kNjNN7cDviZzeW/X3bZZZVe1wVGew8uNLSrqKhI69ad61n09/fXiBEjXDrHxcKMJEVFRal79+5KSkpSbm6udu7cWX4P7q9FRkbSQwO4yJXPy+f5bKCJiIjQyZMntWPHDvXvX3HYRnZ2tmbOnClJ6tatm0wmU5XHyczM1OzZszVy5EiXn1XjSveZvahIZRMmu3Q+T0hNTZXp56cqwz1KC4r0drtJF90ufsYExT80QftXfK0NM/5ZC5XBkdR9qfIPcd/PgNHaAMm724FnXnhbZ/Ly1SKihTIyMiq9rguM9h6UlZVp5cqVDtft2bNHBQXnZnns37+/S5MAVCfMnDdixAglJSVJkrZs2VJloElNTXV52BsA1xnvK8BqGj58uCRp/vz5Sk1NLV++detWDR06VLm5uZIu/EDNvLw8jRs3TgEBAXrllVdqtF7AFd0fvOlcmHl3nb578B/Sz8MvAMCXHTx4sPzPrnzZ6EyYkaSuXbuWDzNLS0tzvmAANcpnv0ZISEjQsmXLdOTIEXXu3FkdO3ZUUVGR9u/fr1GjRqlNmzb68ssvK9w/80uFhYUaO3as0tLStH79erVo0aKWrwC4sI53jlSPhFuVl3FM2ev/q+gbB1RYX3jstLK//a+HqgOAmvPLUBEdHe3Uvs6GGenc8LeoqCgdPnxYGRkZKi4uvug9PgBqj88GmqioKK1fv14zZ87UunXrlJ6erri4OC1dulRTp05Vu3btJMlhoCktLdVNN92kbdu26auvvlJcXFxtlw9cVJP4c/+Gw6KaauCSP1Zan/N9MoEGgE/66aefJJ0LGs2bV3+yC1fCzHmtWrXS4cOHZbPZlJub65X3HQF1lc8GGuncTfyrVq2qtDwvL0/p6eny8/NTly5dKqw7/+yar776Sp999pn69nVu2lxvM7hJM5WMnXDBbS62Ht7puwde0HcPvODpMuDlaAPgi2JiYlSvXj35+/tf8D7YX3v//fddCjOS1LJlS3Xs2FEBAQHcJwN4mTr5E5mcnCy73a7Y2FiFhIRUWPeHP/xB7777rv785z8rJCREmzZtKl/Xrl07h9M6AwCA2nPfffe5tF///v21du1anTp1yqkwI0njxo274DNoAHhOnQw0u3fvluR4uNnnn38uSXr22Wf17LPPVlj36quv6s4776zx+gAAgPtFRkZq9uzZOnjwoAYMGHDxHQAYAoHmV9LT02u5GgAAUFsiIyNdfggnAO/ks9M2X8iFAg0AAAAA46iTPTSJiYmeLgEAAACAG9TJHhoAAAAAvoFAAwAAAMCwCDQAAAAADItAAwAAAMCwCDQAAAAADItAAwAAAMCwCDQAAAAADItAAwAAAMCwCDQAAAAADItAAwAAAMCwLJ4uAFUIDJTlndc9XUX1BQZ6ugLAtxitDZBoB+BWZrNZ48ePd9vxFi5dobP5+QoPDdXMe2+p9NodzGazW44DwDkEGi9lMpmkoCBPlwHAQ2gDUNeZTCZZLO77mGKXZLOf+91isVR6DcC4GHIGAAAAwLAINAAAAAAMi0ADAAAAwLAINAAAAAAMi0ADAAAAwLAINAAAAAAMi0ADAAAAwLAINAAAAAAMi0ADAAAAwLAINAAAAAAMi0ADAAAAwLAINAAAAAAMi0ADAAAAwLAINAAAAAAMi0ADAAAAwLAINAAAAAAMi0ADAAAAwLAINAAAAAAMy+LpAuCY3W6Xios9XUb1BQbKZDJ5ugrAZxiuDZBoBwA3s9vtslqtni6j2sxmM20APIJA462Ki1U2YbKnq6g2yzuvS0FBni4D8B0GawMk2gHA3axWq1auXOnpMqpt/Pjxslj4aInax5AzAAAAAIZFoAEAAABgWAQaAAAAAIZFoAEAAABgWAQaAAAAAIZFoAEAAABgWAQaAAAAAIZFoAEAAABgWAQaAAAAAIZFoAEAAABgWAQaAAAAXFRRUZHS0tI8XQZQicXTBQAAAKBmnDhxQrt371ZaWpoOHDigkydPqrS0VBaLRQ0aNFDbtm0VHR2tLl26qFmzZlUep6ioSPPnz1daWpoefvhhdejQoRavArgwAg0AAIAPsdvt+uGHH7RmzRpt27ZNNpvN4XbHjx/XgQMHJEkmk0ndunXT1VdfrR49esjP73+DeM6HmZSUFEnSkiVL9Le//U3+/v41fzFANdSJIWe5ublKSEhQTEyMgoKC1LJlS02fPl35+fmaMmWKTCaTnn/+eU+XCaAWhUU11Z3Z7yl+xgRPlwIAbnPs2DE988wzevrpp7Vly5ZKYaZ+/fpq0qSJ6tevX2G53W7Xrl27tHDhQs2ZM0eZmZmSKoeZkJAQ/elPfyLMwKv4fA9NUlKSRo0apZycHIWGhiouLk5ZWVlasmSJDhw4oBMnTkiS4uPjPVtoDVmXe1QjNn6jZ+O66U/tOjrcJuCTd3Rtsxb68PKBtVwdLkW9dpHq/qeb1bhrW4U0byg/f4vyM3OV8dUO/fCPj1R49FSlfSL6d9bI958sf22zWlV6tlAFOSd0/L8Hlfbhd8r8OqnCPjEThmjA36fp67sX6dCnm6pdX/N+ndTpt9eqWZ8OCmwUrpIzBTq+64BS31qjw19sdfWy4STaAKDu+Oabb/T666+rsLCwfFnDhg01ZMgQxcXFqW3btgoLCytfV1BQoPT0dP3444/6+uuvdezYMUnSvn379Oc//1njx49XUlKSfvzxR0nnwsyjjz6qdu3a1e6FARfh04EmNzdXY8eOVU5OjmbMmKE5c+YoPDxckrRgwQLNmjVLFoulvJsVMJLQFo0V0qyBDn++RflZx2W3WtWwYyvFThqutuOu1MfDH1LR8TMO9z34/nplJO6QTCb5hwarfkykWo3sq5gJQ5S1bpe+uecvKjlT4HJtPR++Td3uv1F5R45q3/JEnT18VMHNGij6hgEa9uos7X93nTY88ILsVQyDAAA4Z+XKlXr33XfLXzdq1EiTJk1S3759ZbE4/rgXEhKiuLg4xcXF6frrr9fOnTv15ptvKicnR6WlpfrPf/5TYVvCDLyVTwea+++/XxkZGZo2bZoWLVpUYV1CQoKWLVumXbt2qW3btqpXr56HqgRck/3dbmV/t7vS8pxNKRr64gzF3DJUP/zjI4f7Ht+dpoMr11dYtnXO6+o1e5K63HedBv3zQa2d+LRLdbX/zTB1u/9GZa3bpa/umi9rYUn5uh9e+FBXLv69YiYMUd6Ro0pauOKCx7KEBqksv8ilOgCgrvj4448rhJkhQ4bojjvuUEhISLWP4efnp169eqlLly56++23tXr16vJ1FotFjzzyCGEGXstnA01KSopWrFihJk2aaN68eQ636dWrl3bt2qXu3buXL1u/fr2efPJJJScn68SJE2ratKmuvPJKPfHEE+rUqVNtlQ+4LD/j3JCBgAahTu1nt9m07ck31LRHe0UN66FmfTvq6JYfnTqGn79FPWb9RqV5hfr2D3+vEGYkyW61aWPCUkVc0VldfnedUl75XMU/9yKNXPmkwlo21Rc3PaHes29Xiyu7KLBhuF5rcZNkMqnb/Tcocki86ke3UECDMBUeO6WMtTu0c/5yFZ/Mq1RL69GXq9Nvr1Wjzm3kF3BuOF7mN7u07ak3ZCstu+B1tLnuCnWaMkqN4trIZPbTyZTD+uEfHzk15A4AasPu3bu1bNmy8teTJk3SmDFjXD6e3W7XkSNHKiwrKyvT0aNHFRMT4/JxgZrks5MCLF++XDabTRMnTqwwXvSXgoODJalCoDl58qS6du2qJUuWaPXq1Zo/f76Sk5PVv39/ZWRk1ErtNaHAalVucbHDXzA2c6C/AhuFK6RFI0UO7q7+C+6VJGV8tdOl4+1b9pUkKWp4T6f3bdang0KaN9ThL7dWOdzNWlyqAyu/lSU4UFHDelRYZwkN0qj3n5K9zKYdzy7Xzp97cMwBFnX53TidOZitH/7xsbbMflVZ6/6r9r8ZppErn5Sff8XvZnr8+Tca+tJMBTaup+R/r9KWx1/V4S+2KuqqHrIEB1zwGnrMulVDlv5JpXlF2rngP9r+9NsqKyzW0JceUsc7Rzr9nngL2gDA9xQWFmrp0qXlrydMmHBJYebXEwAEBPyvvXz11Vd16tQpl48N1CSf7aFJTEyUJA0dOrTKbc4HlF8Gmuuuu07XXXddhe369OmjDh06aOXKlZo+fXoNVFvzntqbrKf2Jnu6DNSA9rddpX7P3F3++uzhn/TtH/6uo5tTXDreiZRDkqR60ZFO79ugYytJ0vHdBy+43fH/nlvfsFPrCsuDGtXTrr+9p53z/1NhubW4VCvip8paVLHH59i2vbpy8e/VamQfpX+yUZLUJD5G3aePV/Z3u7V20jOyFpeWb7/96bcuWFejrm3V/YGb9N8l72vHvP9945ny8mca9mqCej5ym/a/+40hh8HRBgC+Z8WKFcrNzZWk8vtgXOVoNrNHH31Un3zyiTZt2qSzZ8/qjTfe0P333++O0gG38tlAc+jQuQ9lrVu3dri+rKxMGzZskFQx0DjSuHFjSaryprqL6d27t3JycpzaJ9jPT3vi+7t0PkfubhWt8ZEtHa4btWndJR8/NjZWhdzg7Vb+dj/NUd+Lbnf4iy06vT9T/qFBatSlrVpe3UeBjcJdPm/p2XOz4wSEBTu9b0D4uX1KLzKhQOnZc+sD6lUe3538z48d7nM+zJj8/OQfFiSTxazs736QJDXp2b480ESPPzdT1/ZnllUIM9URfeNA2W027X/nm0rv4eEvt6nVyL5q1ruDstbtqrRvbPtYlZrc9zNgtDZA8u524Ia7HlBoWD1l52QrKiqq0uu6oK6/B0a8/oCAgCqHzefn55d/eRsYGKh77723wrNjnFFVmGnXrp1++9vfKjk5WWfPntXGjRv1m9/8Rk2bNnV4nNjYWJWUlDhcB1xMRESEtm3b5tK+Phto8vPzJanC1IW/dP5bjfDwcLVt27bSeqvVKpvNpkOHDunhhx9WRESEJkxw7XkVOTk55fO5V1eI2SzFu3Q6h2LCwnRV0+buO+CvZGVlqcBqrbHj10UBJrNUjb+yguwTKsg+N/344S+26tCnmzXm82dlCQ7U7uc+cPq8/j+HkpI8xz87/uEhsgRVHLZVdPyM7DabSn4OQ/4OgsqvjyGp0kxqhbmnq5xdrc3Y/up833Vq1KWNzAEVn38QWP9/w0rrtW0hu82mk3vSL1iDIw3aR8nk56cbv1tS5TZBTes7XJ6VnaUSu/t+BozWBkje3Q7Yfq7LZrUqMzOz0uu6oK6/B0a8/sDAwCrXrVu3rjw8DBkyRM2bu/bzfaEwI0n16tXTyJEj9e6778put+urr77Srbfe6vBYWVlZKmYYKzzAZwNNRESETp48qR07dqh//4rfcmZnZ2vmzJmSpG7duslkMlXaf/DgweU9ODExMUpMTKzyG4nq1OKsYBe/ZfGUyMhIr/1m1qj87X6SC2/pyZRDOvFDmjpOvsalQNPo52FgZw5kOVx/+dy7FHNLxaGc7/X5nfIyjunUj4clSY27Rl/wHI27ti2v9ZeshY7/I2x17eUa8u8ZOrZjn7bMflX5WcdlLS6Ryeynq5fPlsmv4s+w3W6X3W6/YA0OmUyy22xaM/Fp2a2O3/xTe484XB7ZItLtPTRG483tgJ/ZXP77ZZddVul1XVDX3wMjXv8v72H5tW+++ab8zyNGjHDp+BcLM+cNGzZM77//vqxWq7755hvdcsstDj87RUZG0kMDl7nyefk8nw00w4cPV0pKiubPn68RI0YoNjZWkrR161bdfvvt5WNOq3qg5ssvv6xTp04pLS1NCxcu1NVXX60NGzaoVatWTtfiSveZvahIZRMmO72fp6SmpsoUFOTpMnxKaUGR3m43yaV9zUEBCmjoeDKMi2l/21WSpIy12x2u3/2Pj3Rg5bcVlhUeOyVJOrptrwqPnlSra84Neys+cbZybYH+ajd+kMoKi5WZWL2JC9rddG77L26aU2HmtPoxle/zOXMwS1FX9VSjuDbKTdpfreP/b99sRQ3rofzMXJ3e59w3tqn7UuUf4r6fAaO1AZJ3twPPvPC2zuTlq0VEC2VkZFR6XRfU9ffAiNdfVlamlStXVlpeWFhYPhNZmzZtXBoyV90wI517OGeXLl20a9cunTp1SseOHVOzZs0qbZeamury8HzgUhjvK8BqSkhIUOPGjXXkyBF17txZXbt2Vfv27dW3b19FR0dr2LBhkqq+f6ZDhw66/PLLdeutt+qrr77S2bNntWDBgtq8BOCCgps2cLg84orOatCxpY5t3+fU8Ux+fur9+B1qfnknHVm7XUe37nW43enUDGWv313h1/l7VWwlZdq5cIX8w4I16Pn7Zf7V0DSTn5/6zZuqsJbN9MM/P65yJrRfO99bYjJVbLK6PXBTpW0Pvv+dpHMP9/z17GcXc+C9deX7mhz0kAQ1cTzcDABqU3p6enkvtCvPhnEmzJwXHf2/nve0tDSnzwnUJJ+N0VFRUVq/fr1mzpypdevWKT09XXFxcVq6dKmmTp1a/kN7sQkBJKlBgwaKiYnR/v3OfdsL1KR+86cqpFlDZW/4QXkZx2QO9Ffjbu3UdtwVKssr0rYnX69y38Zd25bfPO8fGqz6MZFqNbKvwlo2U+Y3Sfr29393ua7Ut9YqvE2Euv7hel2/7q868O465R05puBmDdT2+gFqFNdaB95bp11/effiB/vZoVWb1GZMf13z3hwdeHed/PwtajWyjyzBlceX5ybt1+7nPlDXP96gsasXKO3j71V49JTCWzVT69H99Om1f67yPp3juw5o58IV6jHzFl23dqHSP9mogp9OKrh5QzXpFq3LhvXQm61/4/J7AwDucPjw4fI/O7oP+EJcCTNSxUBz6NAhXX755U6dF6hJPhtoJKlTp05atWpVpeV5eXlKT0+Xn5+funTpctHjHD16VHv37uWHF14l7YPv1O7mIWo3fpCCGteT3W5XfmauUt9cox/++bHyM3Or3Df6xoGKvnGgbFaryvKLlJ99Qjkb9yht1r+V+XVSxY1/Hidtd+LeiO3/95Yyv9qpjlNGKXbSCAU2DFPp2QLl7jqopEUrdPjzLc5d60cbZAkLVud7RqvP43eo+HS+jqzZpu1Pv63bUl6rfP5n3taJPenqeNcodf39OMnPpIKs48pM3KGywguP7961+F0d33VAne6+VnFTR8sSEqSi3NM6ufeItsx+1am6AaAm/HLCowYNGlR7P1fDjCTVr/+/HuqqJlwCPMWnA01VkpOTZbfbFRsbq5CQirMxTZo0STExMYqPj1eDBg20b98+/fWvf5XFYtGDDz7ooYpdN7hJM5WMvfDsbBdbD++U/snG8qmKqytnY7Jea1F5mNaFlM96djrf6XPlbKz+c0++GD/nguv3vb1W+95eW2l5VdeT9uEGpX24ocrj5WUcq3LfjK92KOOrHResxyhoAwDfM3LkSA0YMEClpaVOBZrTp0+XP0bCmTAjnbtXZ/HixQoICKj02QnwtDoZaHbv3i3J8XCzfv366Y033tDf//53FRUVqWXLlho6dKgeeeSRKp9pA/iypj1jZbfZqpzdCwBQu4KCghTkwgQczZs31+zZs7V48WL97ne/c+r+m4CAAEVGOv/AZaA2EGh+Zdq0aZo2bVptlwR4FZPFrHbjB6lZnw6KvmGADn2+udo38AMAvFdkZKQWLFjg8kM4AW9EoAFQiX9IoK5c/DsVHT+j1LfXausTVU8wAAAwFsIMfE2dDDSJiYmeLgHwaiVnCvT6ZdxXAQAAvB8RHQAAAIBhEWgAAAAAGBaBBgAAAIBhEWgAAAAAGBaBBgAAAIBhEWgAAAAAGBaBBgAAAIBhEWgAAAAAGBaBBgAAAIBhEWgAAAAAGBaBBgAAAIBhWTxdAKoQGCjLO697uorqCwz0dAWAbzFaGyDRDgBuZjabNX78eLcca+HSFTqbn6/w0FDNvPeWKpddCrPZfMnHAFxBoPFSJpNJCgrydBkAPIQ2AIDJZJLF4p6PanZJNvu5388f09EywIgYcgYAAADAsAg0AAAAAAyLQAMAAADAsAg0AAAAAAyLQAMAAADAsAg0AAAAAAyLQAMAAADAsAg0AAAAAAyLQAMAAADAsAg0AAAAAAyLQAMAAADAsAg0AAAAAAyLQAMAAADAsAg0AAAAAAyLQAMAAADAsAg0AAAAAAyLQAMAAADAsCyeLgCO2e12qbjY02VUX2CgTCaTp6sAfIbh2gCJdgCAW9ntdlmtVk+X4RSz2Uw76AEEGm9VXKyyCZM9XUW1Wd55XQoK8nQZgO8wWBsg0Q4AcC+r1aqVK1d6ugynjB8/XhYLH69rG0POAAAAABgWgQYAAACAYRFoAAAAABgWgQYAAACAYRFoAAAAABgWgQYAAACAYRFoAAAAABgWgQYAAACAYRFoAAAAABgWgQYAAACAYRFoAAAAgGqw2WyeLgEOWDxdAAAAAFBT7Ha7jh8/roMHDyozM1MlJSWSpODgYLVs2VLR0dGqX7/+RY+TnZ2thQsX6t5771WHDh1qumw4gUADAAAAn5OVlaW1a9dqw4YNOn369AW3bdasmQYPHqxhw4apYcOGldZnZ2frqaee0smTJzVv3jw99thjiomJqanS4SQCDQAAAHxGTk6OXnvtNSUlJVV7n6NHj+rdd9/V+++/ryuvvFKTJk1SvXr1JFUMM9K58NOsWbOaKB0u8vl7aHJzc5WQkKCYmBgFBQWpZcuWmj59uvLz8zVlyhSZTCY9//zzni6zxqzLPaqAT97R4gM/VrlNwCfv6PrN62uxKtQUc3CAxm96QXdmv6fLn57i6XLgBWgDANQVNptNn3/+uRISEiqEGX9/f3Xr1k3XX3+9HnjgAT366KN65JFHNG3aNI0ePVodO3aUyWSSJFmtVn377bd66KGHtHnz5kphplWrVnrsscfKww68g0/30CQlJWnUqFHKyclRaGio4uLilJWVpSVLlujAgQM6ceKEJCk+Pt6zhQJu0mPmrQpqTCMLAKhbSktL9dxzz2nLli3lyxo3bqyRI0dqyJAhCg8Pd7jfgAEDJJ37Avyrr77S6tWrlZ+frzNnzuivf/2rAgMDVVxcLIkw4818tocmNzdXY8eOVU5OjmbMmKHs7Gzt2LFDOTk5mj9/vj799FNt3bpVJpNJ3bp183S5wCVr1LWt4qaO1s5FKzxdCgAAtaasrEyLFy+uEGauvvpq/eUvf9HYsWOrDDO/1KRJE91yyy36y1/+oj59+pQvPx9mWrZsSZjxYj4baO6//35lZGRo2rRpWrRoUYV/zAkJCerevbvKysrUpk0b/nHC8Ex+frpi0X3K/DpJhz/d7OlyAACoNa+88op27twpSQoMDNSsWbP029/+VkFBQU4fq0GDBvrNb36jkJCQCsv79u3L50Uv5pOBJiUlRStWrFCTJk00b948h9v06tVLktS9e/cqjzNq1CiZTCY98cQTNVFmrSqwWpVbXOzwF4wv7p4xqh9zmTY/8pKnS4GXog0A4It27NihxMRESefulZk1a5Z69Ojh8vGys7M1d+5cFRQUVFj+0Ucf6ciRI5dUK2qOT95Ds3z5ctlsNk2cOFFhYWEOtwkODpZUdaB55513nJodw9s9tTdZT+1N9nQZqAFhLZspfuYE7Vr8nvIyjiksqqmnS4IXog0A4Gvy8/P14osvlr++6667FBcX5/LxHE0A0LFjR61evVplZWX65z//qblz58psNl9y7XAvnww055P60KFDq9wmIyNDkuNAc+bMGT3wwANatGiRJk2adMn19O7dWzk5OU7tE+znpz3x/S/53Ofd3Spa4yNbOlw3atO6Sz5+bGysCnl6rlv52/00R30vul3/Bfco79BPSl76SS1UharEto9Vqcl9PwNGawMk724HbrjrAYWG1VN2TraioqIqva4L6vp7wPVXvl5vfw8CAgKqHGkjSatXry4PH927d7/g576LqWo2s6CgIP3www/KysrSwYMHtXXrVvXr16/K48TGxpY/uBPOiYiI0LZt21za1ycDzaFDhyRJrVu3dri+rKxMGzZskOQ40Dz66KOKjY3VxIkT3RJocnJylJmZ6dQ+IWazFH/Jpy4XExamq5o2d98BfyUrK0sFVmuNHb8uCjCZpYv8lUWPH6jIQd30+Q2Py17G++9JWdlZKrG77+/AaG2A5N3tgO3numxWqzIzMyu9rgvq+nvA9Ve+Xm9/DwIDA6tcZ7VatXbtWkmSyWTSXXfdVT71srMuNjXz5MmTy4PVmjVrLhhosrKyyicSQO3xyUCTn58vSSosLHS4fsWKFcrNzVV4eLjatm1bYd22bdv04osvavv27W6rJyIiwul9gv2MdXtTZGSk134za1T+dj/pAm+pX4BFfZ64Uxlf7VTh0VMKb3Pu31lIi0aSpIB6IQpvE6HiE2dUcqag6gPBLSJbRLq9h8ZovLkd8Pt5iIif2azLLrus0uu6oK6/B1x/5ev19vcgICCgynU7d+7U8ePHJUk9evRw6bOWdPEwI0ldu3ZVixYtlJ2dreTkZGVmZlb5fkVGRtJD4yJX/w4lHw00EREROnnypHbs2KH+/SsO2cjOztbMmTMlSd26dauQ5q1Wq+69915NmzZNnTt3dls9rnSf2YuKVDZhsttqqGmpqakyuTCbCKpWWlCkt9tV3UNoCQpQcJP6ajmil1qO6FVpfbubBqvdTYO19ck3lPyvj2uyVEhK3Zcq/xD3/QwYrQ2QvLsdeOaFt3UmL18tIlooIyOj0uu6oK6/B1x/5ev19vegrKxMK1eudLjuv//9b/mfr7rqKpeOX92HZvr5+WnYsGF6++23y89dVaBJTU2VxeKTH6+9mk++48OHD1dKSormz5+vESNGKDY2VpK0detW3X777crNzZVU+YGazz//vH766SefmNUMvq+0oFhf372o0vKgxvXUf/49ykjcqX3LvtLJlEMeqA4AgJpz8ODB8j936tTJ6f2rG2bO++VkA2lpaU6fDzXLJwNNQkKCli1bpiNHjqhz587q2LGjioqKtH//fo0aNUpt2rTRl19+WeH+mdzcXM2ePVuLFi1SWVmZTp06Vb6uqKhIp06dUr169eRnwGEg8E32MqsOfbqp0vLzs5ydTc9xuB4AACOzWq3l90tHRERUembMxTgbZqRzD9Y0m82yWq0VwhS8g09+Oo+KitL69es1evRoBQUFKT09XY0aNdLSpUv16aefKjU1VVLFCQEyMjJ09uxZ3XvvvWrYsGH5L0maP3++GjZsqMOHD3vkegAAAHBOfn6+SktLJUktWrRwal9Xwox07n6epk3PfWH4yy+94R18sodGOtf9uGrVqkrL8/LylJ6eLj8/P3Xp0qV8eUxMjL7++utK2w8dOlSTJ0/WnXfeeUk3K3nK4CbNVDJ2wgW3udh6GEtexjG91uImT5cBL0EbAMDX+Pv765ZbblFJSYlTgcZut+u5555zOsycN3z4cBUUFJQ/yxDew2cDTVWSk5Nlt9sVGxtboYsyLCxMQ4YMcbhPmzZtqlwHAACA2hMcHKwbbrjB6f1MJpOmTZumuXPnKjw83KkwI0ljxoxx+pyoHXUu0OzevVuS4+fPAAAAwHdFRkbq8ccfV2hoqFNhBt6NQHMRdru9JssBAABALXL2vht4P5+cFOBC6KEBAAAAfEed66FJTEz0dAkAAAAA3KTO9dAAAAAA8B0EGgAAAACGRaABAAAAYFgEGgAAAACGRaABAAAAYFgEGgAAAACGRaABAAAAYFgEGgAAAACGRaABAAAAYFgEGgAAAACGZfF0AahCYKAs77zu6SqqLzDQ0xUAvsVobYBEOwDArcxms8aPH++24y1cukJn8/MVHhqqmffeUum1O5jNZrccB84h0Hgpk8kkBQV5ugwAHkIbAKCuM5lMsljc91HVLslmP/e7xWKp9BrGxZAzAAAAAIZFoAEAAABgWAQaAAAAAIZFoAEAAABgWAQaAAAAAIZFoAEAAABgWAQaAAAAAIZFoAEAAABgWAQaAAAAAIZFoAEAAABgWAQaAAAAAIZFoAEAAABgWAQaAAAAAIZFoAEAAABgWAQaAAAAAIZFoAEAAABgWAQaAAAAAIZFoAEAAABgWBZPFwDH7Ha7VFzs6TKqLzBQJpPJ01UAPsNwbYBEOwAAbmS322W1Wj1dhlPMZrNH/h8g0Hir4mKVTZjs6SqqzfLO61JQkKfLAHyHwdoAiXYAANzJarVq5cqVni7DKePHj5fFUvvxgiFnAAAAAAyLQAMAAADAsAg0AAAAAAyLQAMAAADAsAg0AAAAAAyLQAMAAADAsAg0AAAAAAyLQAMAAADAsAg0AAAAAAyLQAMAAADAsCyeLgAAAABAzSsoKFBeXp5sNpv8/f3VoEEDmc3mau+/fft2hYWFqUOHDjVYpfMINAAAAIAPys/P13fffaeUlBSlpaXpp59+qrDe399frVu3VnR0tHr37q0uXbrIz8/xAK7t27dr8eLF8vf318MPP+xVoYZAAwAAAPiQrKwsrVq1Shs2bFBxcXGV25WWlmr//v3av3+/Vq9erYiICI0YMUIjRoxQQEBA+Xbnw4zVapXVatW6deu8KtDUiXtocnNzlZCQoJiYGAUFBally5aaPn268vPzNWXKFJlMJj3//POeLrNGrMs9qoBP3tHiAz9WuU3AJ+/o+s3ra7EquMud2e85/DVx/5ueLg1egjYAAOoOm82mjz/+WLNmzVJiYmKFMOPv76/27durf//+GjBggPr06aOIiIgK++fk5OjNN9/Uww8/rH379kmqGGYk6corr9SUKVNq76Kqwed7aJKSkjRq1Cjl5OQoNDRUcXFxysrK0pIlS3TgwAGdOHFCkhQfH+/ZQgEX5Wzao9S31lRYZiu1eqgaAADgCSdPntTixYvLg4gkBQcHa+DAgRoyZIhat27t8H6Z/Px87d69W2vWrFFycrIkKTMzU48//rj69++vzZs3Vwgzv//9752676Y2+HSgyc3N1dixY5WTk6MZM2Zozpw5Cg8PlyQtWLBAs2bNksVikclkUrdu3TxcLeCavEM/6eBKvl0HAKCuys3N1VNPPaWjR49Kkkwmk6699lrddNNNCg4OvuC+oaGh6tevn/r166dDhw5p6dKlOnjwoOx2u77//vvy7bw1zEg+PuTs/vvvV0ZGhqZNm6ZFixaVhxlJSkhIUPfu3VVWVqY2bdqoXr16HqwUuDR+/hZZQoI8XQYAAKhlZ8+e1dNPP10eZpo0aaInnnhCt99++0XDzK+1bt1ac+fO1YABAyosj4qK8towI/lwD01KSopWrFihJk2aaN68eQ636dWrl3bt2qXu3buXL/vmm280dOjQStt2795dSUlJNVVujSuwWpV7gZvCYFytx/RT9PhB8rOYVZh7WukfbdCO+f9R6dkCT5cGL0IbAAC+6ZVXXlF2drYkKSIiQrNnz1bjxo1dPl5SUpI2btxYYVlGRob27Nmjrl27XlKtNcVnA83y5ctls9k0ceJEhYWFOdzmfGr9ZaA574UXXlDPnj3LX4eGhtZMobXkqb3JempvsqfLgJsd27FP6Z9s1Nn0bPmHhyhqWE91mnKtmvfvrM/GPqqygiJPlwgvQRsAAL5n8+bN5eEjNDRUjzzyyCWFmV9PANCmTRulp6dLkpYuXaoFCxYoJCTkkut2N58NNImJiZLksLflvIyMDEmOA01cXJz69etXM8V5wN2tojU+sqXDdaM2ravlauAun45+uMLrA++u04mUQ+r18G2Km3qt/vv39z1UGbwNbQAA+JbS0lK9+uqr5a/vuusuNWvWzOXjOZrN7L777tOzzz6r5ORk5ebm6oMPPtDEiRMvuXZ389lAc+jQIUnnxgI6UlZWpg0bNkhyHGjcqXfv3srJyXFqn2A/P+2J7++2GmLCwnRV0+ZuO96vxcbGqtBmq7Hj10X+dj/NUV+n9/vhHx8p/k83K+qqXgSaWhTbPlalJvf9DBitDZC8ux244a4HFBpWT9k52YqKiqr0ui6o6+8B11/5euv6e+Dt1x8QEFDlbRPSud6ZU6dOSZJ69OihK6+80uVzOQoz5++ZuffeezVjxgyVlpYqMTFRN910kwIDAx0eJzY2ViUlJS7VEBERoW3btrm0r88Gmvz8fElSYWGhw/UrVqxQbm6uwsPD1bZt20rrb7nlFuXm5qpx48a67rrr9Oyzz6pJkyYu1ZKTk6PMzEyn9gkxm6V4l07nEVlZWSqwMlWwOwWYzJILnz/tZVYV/HRCgY3CL74x3CYrO0sldvf9DBitDZC8ux2w/VyXzWpVZmZmpdd1QV1/D7j+ytdb198Db7/+qkLDeV9++WX5n8eNGyeTyeTSeS4UZiSpWbNm6t+/v7799lvl5+dr48aNGjJkiMNjZWVlXfBBnjXFZwNNRESETp48qR07dqh//4rfcmZnZ2vmzJmSpG7dulX4B1C/fn3NnDlTgwYNUlhYmDZu3Kh58+Zp06ZN2rZtm4KCnJ9J6tcPLaqOYD9jTUAXGRnptd/MGpW/3U9y4S01B/ortEVjHdux7+Ibw20iW0S6vYfGaLy5HfD7+T9mP7NZl112WaXXdUFdfw+4/srXW9ffA2+//oCAgCrXHTt2rPx5M61atVKHDh1cOsfFwsx5I0aM0LfffitJ2rBhQ5WBJjIy8pJ6aFzls4Fm+PDhSklJ0fz58zVixAjFxsZKkrZu3arbb79dubm5kio/ULNHjx7q0aNH+eshQ4aoS5cuuu6667R8+XLdddddTtfiSveZvahIZRMmO72fp6SmpsrkQthD1UoLivR2u0lVrg9sGKbik3mVlvdIuFV+/hYdWe1aty1ck7ovVf5unDrbaG2A5N3twDMvvK0zeflqEdFCGRkZlV7XBXX9PeD6K19vXX8PvP36y8rKtHLlSofrDh48WP7nXr16udQ7U90wI0kxMTFq0KCBTp06Vf6MGkfnTE1NlcVS+/HCZwNNQkKCli1bpiNHjqhz587q2LGjioqKtH//fo0aNUpt2rTRl19+Wa37Z8aMGaPQ0FBt27bNpUAD1IRuD9ykpj3bK+f7ZOVn5soSEqSoq3qoxYCuOrY9VSmvfO7pEgEAQA34ZaCJjo52en9nwox07kGdbdu21c6dO5Wfn6+jR4+qefOavS/TGcYb01BNUVFRWr9+vUaPHq2goCClp6erUaNGWrp0qT799FOlpqZKcm5CAFfHJgI1Ief7ZJXmFardzYPV98k7FT9zggIbhGn7vGX6YvwcWYtc6/IFAADeLSsrq/zPVU2AVRVnw8x5bdq0Kf+zt91z5LM9NJLUqVMnrVq1qtLyvLw8paeny8/PT126dLnocT7++GPl5+erb1/nZ5zytMFNmqlk7IQLbnOx9fBOR77cqiNfbvV0GfBytAEA4HtCQ0PVpEkTlZSUVPm8RUd27tzpUpiRpAYNGqhBgwYKCAio1va1yacDTVWSk5Nlt9sVGxtb6eFAkyZNUnR0tHr27Fk+KcCCBQsUHx+vW2+91UMVAwAAAOfcd999Lu3XvHlz1atXTydPnnQqzEjSNddco2uuucal89a0Ohlodu/eLcnxcLPOnTtr2bJl+tvf/qbCwkJFRUVp6tSpmjNnzgVnmwAAAAC8WWRkpGbPnq3Vq1fr9ttv97qeFlcRaH7l4Ycf1sMPP1xpOQAAAGB0kZGRuvPOOz1dhlv57KQAF3KhQAMAAADAOOpkD01iYqKnSwAAAADgBnWyhwYAAACAbyDQAAAAADAsAg0AAAAAwyLQAAAAADAsAg0AAAAAwyLQAAAAADAsAg0AAAAAwyLQAAAAADAsAg0AAAAAwyLQAAAAADAsAg0AAAAAw7J4ugBUITBQlnde93QV1RcY6OkKAN9itDZAoh0AADcym80aP3682463cOkKnc3PV3hoqGbee0ul1+5gNpvdchxnEWi8lMlkkoKCPF0GAA+hDQCAus1kMslicd9Hdbskm/3c7xaLpdJrI2PIGQAAAADDItAAAAAAMCwCDQAAAADDItAAAAAAMCwCDQAAAADDItAAAAAAMCwCDQAAAADDItAAAAAAMCwCDQAAAADDItAAAAAAMCwCDQAAAADDItAAAAAAMCwCDQAAAADDItAAAAAAMCwCDQAAAADDItAAAAAAMCwCDQAAAADDsni6ADhmt9tVUFjm6TKqLSTYIpPJ5Lbj2e12qbjYbcerFYGBbn0PAAAAcHEEGi9VUFimsH5veLqMasvbdIdCQ/zdd8DiYpVNmOy+49UCyzuvS0FBni4DAACgTmHIGQAAAADDItAAAAAAMCwCDQAAAADDItAAAAAAMCwCDQAAAADDItAAAAAAMCwCDQAAAADDItAAAAAAMCwCDQAAAADDItAAAAAAMCwCDQAAAADDItAAAAAAMCwCDQAAAADD8vlAk5ubq4SEBMXExCgoKEgtW7bU9OnTlZ+frylTpshkMun555/3dJkAAAAAXODTgSYpKUldu3bVwoULlZOTo7i4OJWWlmrJkiW65ZZblJKSIkmKj4/3bKE16On7e8n+3ym66/r2Dtd//fK1Ktp2pzrHNKzlymrHutyjCvjkHS0+8GOV2wR88o6u37y+Fqtyr4AGYer9+B268fvndHvaMt36w8u65r0n1OzyTp4uDQAAoMZZPF1ATcnNzdXYsWOVk5OjGTNmaM6cOQoPD5ckLViwQLNmzZLFYpHJZFK3bt08XG3NeeIfOzV2cCstfuhyrd6YqcyfCsrXPTCps4b0aaE//22rkvef9GCVcFVoVBONXPmk/EODtG9Zok4fzFZAvRA17NRKoRGNPF0eAABAjfPZQHP//fcrIyND06ZN06JFiyqsS0hI0LJly7Rr1y61bdtW9erV81CVNa+0zKbJj32rzW9dp5efGKiRv/tSkhTbpr6e/mNvbfrvUS18bbeHq4SrBj0/XX5msz4aNkOFR095uhwAAIBa55NDzlJSUrRixQo1adJE8+bNc7hNr169JEndu3evtO6DDz7QFVdcodDQUNWvX19XXnmlkpOTa7TmmrQz5bjmvbxL11wZpanjO8jPz6Q3nh4kk0ma/Ni3stnsni4RLmjer5OaX95Ju//xkQqPnpLJYpY5OMDTZQEAANQqn+yhWb58uWw2myZOnKiwsDCH2wQHB0uqHGiWLFmiGTNm6MEHH9TcuXNVXFyszZs3q7CwsMbrrklz/71T1w1ppUUz+iq+Y2Nd3rWZ/rRws1LTT3u6tFpRYLUqt7jY02W4VdSwnpKk/MxcXfX6n3XZsB7ys5h1+kCWdv31XR1cadz7ggAAAKrLJwNNYmKiJGno0KFVbpORkSGpYqA5cOCAZs6cqb/+9a+aNm1a+fJrr722hiqtPWVldk1+7FttXX6dfn9LJ63fkaO/vfWDp8uqNU/tTdZTe43by+ZIvZhISdIVi+7TmYPZ+m768/Lzt6jzfWPPDUWzWLR/xdcerhIAAKBm+WSgOXTokCSpdevWDteXlZVpw4YNkioGmldeeUX+/v6aOnWqW+vp3bu3cnJynNrHJn+p0WNureN0XomKS6wK8Dfrs/VHZHfjSLP2sbHyU6nbjhfs56c98f3ddry7W0VrfGRLh+tGbVrnlnPExsaq0GZzy7Ekyd/upznqW/X60HO9jKV5hfrypidkKy2TJB3+YovGb3pBPR++Tfvf+UZu/YtGlWLbx6rU5L6/f7jXDXc9oNCwesrOyVZUVFSl13VBXX8PuP7K11vX3wOu37uuPyIiQtu2bXNpX58MNPn5+ZJU5TCxFStWKDc3V+Hh4Wrbtm358u+//14dOnTQW2+9pf/7v//TkSNH1L59ez3++OP6zW9+43I9OTk5yszMdG4nU4Dk5kmqXn1qoAL8zdpz4KQeuyde73yZpoMZZ91y7OysLMle4pZjSVKI2SzFu+1wigkL01VNm7vvgA5kZWWpwGp12/ECTGbpAiVbi86932kfflceZiSp5HS+jqzeppgJQ1Q/JlKn9zn5bw8uycrOUondfX//cC/bzz+bNqtVmZmZlV7XBXX9PeD6K19vXX8PuH7fuX6fDDQRERE6efKkduzYof79K37Ln52drZkzZ0qSunXrJpPJVGFdZmamHn74Yc2fP18tW7bUyy+/rNtuu01NmzbV8OHDXa7HWTb5K9ulszn2x9viNLRvpB5Zsk0ffX1IO1Zcr1eeGqghv/3MLcdvERnp9h4ao4mMjHR7D40ucLj87OOS5HB2s8Kfzk3DHVDf8T1kcL/IFpH00HgxP7O5/PfLLrus0uu6oK6/B1x/5eut6+8B1+9d1+/K5+XzfDLQDB8+XCkpKZo/f75GjBih2NhYSdLWrVt1++23Kzc3V1LlB2rabDbl5eXpzTff1PXXXy9Juuqqq7Rnzx7NnTvX5UDjSvdZfkGpwvq94dL5fi2mVT3Nm95bW3Yf0/xX/iubza4n/rlD86b30R9vi9Nzy/Zc8jn2paYqNMTfDdWeYy8qUtmEyW47Xm1ITU2VKSjIbccrLSjS2+0mVbk+d+d+afI1Cm3RuNK6kMhzy4py68akD94gdV+q/EPc9/cP93rmhbd1Ji9fLSJaKCMjo9LruqCuvwdcf+XrrevvAdfvO9dvvK/BqyEhIUGNGzfWkSNH1LlzZ3Xt2lXt27dX3759FR0drWHDhkmqPMNZo0bnxnj9MriYTCYNHz5cP/xgzBvoTSbptbmDZPYzafJj68qnaF7w6m5t/eGY5k3vreiocA9XCVcc/mKLSs4WKHr8IFl+8UE6uFkDtRrZR6f3Z+psunP3bgEAABiNTwaaqKgorV+/XqNHj1ZQUJDS09PVqFEjLV26VJ9++qlSU1MlVQ40nTt3rvKYRUVFNVpzTZkxuauu7NFcj/9jh35M+9+39TabXXfO/lYWs59eeWqgByuEq0pO52vbU28oNLKxRn/6jOLuHaOu067X6E/nyc/fos2PveLpEgEAAGqcTwYaSerUqZNWrVqls2fP6uzZs9q8ebPuuece5efnKz09XX5+furSpUuFfcaNGydJWr16dfkym82mNWvWqE+fPrVavzt0bFtfc//QUxt3HdVfXq/cw7TnwCk98c8dGty7hf54W5wHKsSlSn1rrRKnLFRZfpF6JNyqbtPH6/SBLH150xPKWrfL0+UBAADUOJ+8h+ZCkpOTZbfbFRsbq5CQkArrxo4dq4EDB+qee+7R8ePH1apVK7300ktKTk7WmjVrPFSx635MO63gPq9fcJtnX/6vnn35v7VUUe0b3KSZSsZOuOA2F1vv7Q5/tlmHP9vs6TIAAAA8os4Fmt27d0uqPNxMOne/zMcff6xZs2bpkUce0ZkzZ9S9e3d99tln5ffdAAAAAPAeBJpfadCggZYuXaqlS5fWZlkAAAAAXOCz99BU5WKBBgAAAIBx1LkemsTERE+XAAAAAMBN6lwPDQAAAADfQaABAAAAYFgEGgAAAACGRaABAAAAYFgEGgAAAACGRaABAAAAYFgEGgAAAACGRaABAAAAYFgEGgAAAACGRaABAAAAYFgEGgAAAACGZfF0AXAsJNiivE13eLqMagsJdvM/pcBAWd553b3HrGmBgW49nCU4UBMPvOXWY6LmWILd+/cPAACqh0DjpUwmk0JD/D1dhseYTCYpKMjTZXiUyWSSf0jdfg8AAAAuhiFnAAAAAAyLQAMAAADAsAg0AAAAAAyLQAMAAADAsAg0AAAAAAyLQAMAAADAsAg0AAAAAAyLQAMAAADAsAg0AAAAAAyLQAMAAADAsAg0AAAAAAyLQAMAAADAsAg0AAAAAAyLQAMAAADAsAg0AAAAAAyLQAMAAADAsAg0AAAAAAyLQAMAAADAsAg0AAAAAAyLQAMAAADAsAg0AAAAAAyLQAMAAADAsAg0XiI3N1e/+93vFBkZqcDAQLVt21Yvvviip8sCAFThs88+U3x8vAIDA9WmTRstXrzY0yXVqm+//Vbjxo1T69atZTKZ9H//93+eLqlWLVy4UP3791fDhg3VoEEDDRgwQF988YWny6pVb775pnr16qWGDRsqODhYnTp10uLFi2W32z1dmkckJibKbDYrJibG06XUiieeeEImk6nSr/3799d6LZZaPyMqycvL06BBg3TZZZdp+fLlat26tbKzs2W1Wj1dGgDAgW3btmncuHF66KGHtHz5cm3evFn33XefQkJCdN9993m6vFqRl5enuLg43XbbbXrggQc8XU6tS0xM1G9/+1v16dNHISEheumllzRmzBitW7dOV155pafLqxXNmjXT7Nmz1aFDBwUGBmr9+vX6/e9/L7PZrOnTp3u6vFqVk5OjyZMn6+qrr9a+ffs8XU6tadOmjTZu3FhhWdOmTWu9DgKNF1i4cKEKCgq0atUqBQYGSjr3DwQA4J0WL16sPn36aN68eZKkTp06KTk5Wc8++2ydCTTXXnutrr32WknSrFmzPFxN7fv8888rvF6wYIG++OILvf/++3Um0FxzzTUVXkdHR+vDDz/UN998U6cCjc1m06RJk/SHP/xBRUVFdSrQmM1mRUREeLoMAo03WLlypQYMGKAHH3xQH3zwgerXr6+xY8fqySefVEhIiKfLAwBDSTuSrdKyij3cZT/3eJdZrUpNy6j0+pfCQoIU2bzJBc+xYcMGTZkypcKykSNHatGiRcrIyFBUVNSlXobLjp88o+OnzlRa7sx70K5VpMxmY45KLy0rU9qRnErLnbn+po3qq2H9cKfOa7PZdObMGYWGhrpYuftkZB9TQVFxhWWOrreq9yDQ36LWUc59SLXb7dq6das2bNigxx577FLKv2Rn8gqUc+xEpeXO/BtoFdlMQYEB1Trf3LlzZTKZNGvWLD355JOXWP2ls9vt2n8oU78e+efM9TcID1WzJg0veq5ftnddu3bV7NmzdcUVV7jhKpxDoPECBw4c0P79+3XTTTfpk08+UVZWlqZNm6asrCy9/fbbni4PAAwl86dcrfpqo8N1BYVFeuWdz6p8bZI09TdjLnqO7OzsSt9Knn+dnZ3t0UBjNvtp2UdrVVRc4nD9xd6DXl1jFdvWc/VfKovZrC1JKfohNc3h+otdf2hIkB787c1On/eZZ57RqVOndM899zhftJvlFRTqtfcc38/z6+t1tOymUYOrHWhOnz6tyy67TCUlJbLZbJozZ47uv/9+14t3g0B/iz5cvV4nTp11uP5i/wbatmyhqbeOrta5vv76a/3rX//Szp07ZTKZLq1wNzGZTNqfnql1m3c5XH+x67eYzZo2+YaLnqdv37569dVXFRcXpzNnzmjp0qUaOHCgvvjiC40YMeLSL8QJBBovYLPZ1LhxY7366qvy9/eXJJWUlOjmm2/Wc889p0aNGnm4QgAwjit6ddGP+w9r/6FMp/cd2LeboltF1kBVtadBvTCNG3GlVqz62ul9G9YP19irav/bVXcymUy64ZqBSs/MUV5+odP7jx85SGGhwU7t849//EPPPPOMPv74Y4+G2fM6tmulvt07asuuH53eN659G/XqGlvt7cPDw5WUlKSCggJ9//33evjhhxUZGVmpB7M2BQYGaMLooVq67BOnJygIDPDXhNFD5Od38R7K3NxcTZo0Sa+++qpXDLv6pREDeis1LUPZR487ve81g/ooounFP3ueH3J63sCBA5WRkaGFCxfWeqAxZn+yj2nRooViY2PLw4wkde7cWZJ06NAhT5UFAIbkZzLppmsHV3u4yHkRTRvp6oF9qrVtixYtlJNTcVjTTz/9VL7O0+LjYtS1Q7RT+5gkTRg9xOn3zRuFhgTpplGDnd6vd7cOimvfxql9Fi1apJkzZ+rjjz/W8OHDnT5nTRk9rL8aN6jn1D5hIcG6ceRAp3oa/Pz8FBMTo27duum+++5TQkKCHn30UWfLdbs2UREafHl3p/e7bviV1R5u+MMPPygrK0tjxoyRxWKRxWLRU089pQMHDshisWjZsmVOn99dLBazbhkz1Omho9GtInVln64un7d///5KT093eX9XEWi8wMCBA7V//36VlZWVL9u7d68kJgcAAFc0qBem668eUO3tzX5+mjBmqCwWc7W2v/LKK/Xll19WWPbFF1+odevWXvENvclk0vXXDFB4WPXvwxx0eXe1ben5MOYuHdu10uXxnaq9faP64Ro7rL9T53j88cf15JNP6rPPPvOqMCP93NMwZqhT4eTGUYMUFuJc79Sv2Ww2FRUVXdIx3GX4gF5q0axxtbfvHNtGPbu0r/b2ffr00e7du5WUlFT+67777lPLli2VlJSk0aOrN2ytpkQ0baRrBvWt9vblvVOXMHRux44datmypcv7u4pA4wUeeughHTt2TL///e/1448/6uuvv9ZDDz2kO+64Qw0bXvyGLABAZd07tVO3jtXrpbh6UG9FOvHB58EHH9SWLVv06KOP6scff9Trr7+u5557Tn/+859dLdftQoOr30sR0bSRRgzo7dTx8/Lyyj/ElZSUKCcnR0lJSR55BkVVrh3aT40bXryXwiRpwpihCnSid+qBBx7QwoUL9eabb6pDhw7KyclRTk6OTp8+fQkVu1fry5prSL/4am3bp1tHxcW0dur4c+bM0dq1a3Xw4EHt3btXL774oubPn6/Jkye7UK37Wczneiks5ot/UREWGqwbrnGudyo0NFRdunSp8KtZs2YKCAhQly5dVL9+/Usp3y0G9Ola7S8qxo24Ug3qhVX72H/605+UmJiogwcPKikpSX/4wx+0Zs0aj0zjTqDxAt27d9dnn32mnTt3Kj4+XnfddZduuOEG/fOf//R0aQBgWCaTSddfffFeijZRERrYp5tTx+7Tp48+/PBDrVq1St27d9fjjz+up59+2uumbO4Q3VL9esRdcBuz2e/ch75q9k6dt23bNvXo0UM9evRQdna2XnjhBfXo0UN33333pZTsVoEB/rpl9MV7KQZd3l1tnJzV6+9//7uKiop0ww03qEWLFuW/vG264quu7KnI5hcO640ahGvMsH5OH/vMmTO677771LlzZ/Xr10//+te/NG/ePK96yOy5XoqLDyW9adTgS+6d8kZ+JpMmjB6iwAD/C27XJbatenSufu+UdG4ClDvuuEOdOnXS1Vdfrb1792rt2rUaO3bspZTsEpO9rj7O1aCOZB9V44b1FRIU6OlSAMAQUg8e0Svvfu5wXUCAvx64a7waOXmvgZGUlJRqyWvvK/ek456DUUMud+leAyNZ/e1WJW7c6XBdi2aN9Yfbr3c60BnJT7kn9dxr75dP0/tLJpNJ99421ulAZyQ2u10v/edTHTyc5XB93+4ddePIQbVcVe3avjtV7372jcN14aHBeuC3Nys0JKh2i3IjemgMpMxq1VsfrNH8fy7T4cyfPF0OABhCbHRL9e/puJdi7FX9fTrMSOdC24QxQx2Oi2/bsoUGXsINwEZx1ZW9dJmDZwu52jtlNM2bNNTIwY7vpRjsQu+U0Vyol6Jxg3oa7eS9U0bUs0t7dY5t43DdTaMGGzrMSAQaQ9m+e69On81XQIC/Uze5AUBdN2pIPzVpVHE8e1z71urdtYOHKqpdrSKbaWj/HhWWBQb46+ZqTk9rdGaz40kfrhnUt1rT0/qCK3p3UbvWFackb9GssYYP6OWhimrX+enMf8lUzeFYvsBkMunGaypPSX55fCd1aNfKQ1W5j++3Yk6yWq168803dfXVV6tp06YKDAxUq1atNHLkSL300kuyOuiurQ1lVqsSvz/XXT7k8nj5+/MIIQCorgB/i24Z/b9eirCQYN14zSCveRBebRh2RU9FRTQtfz12+BVqVM3paX3Br3sp2rZsoQF1oHfqPD+TSTdf+79puZ25Yd5X9OjcXl1i25a/HtKve7UfIOoLfj2deeOG9TR6qPP3TnkjAs0vnDlzRiNGjNAdd9yhNWvWKCAgQN27d5fNZtPq1as1depUnT3r+KmzNe1870x4WIj6du/okRoAwMhaRjbT0CvO9VLcOHKg0w9PNLpf9lLEtW+jXl2q//BEX3FFry6KaX2ZW6anNaJf9lJU9+GJvuT8Q1fDQ4MV2byxrrqybvRO/dL5h66aTCbdMnqoAnykd4pJAX7h5ptv1nvvvaeoqCi98cYbGjp0aPm6n376SS+//LKmT5+u0NBQp4773Ovv62ye808r/h+7zuYXym63KygwQAH+vvGPDwBqm91uV2lpmc/8J+6KktIyWSzmOvdh/jybzSarzSZ/S90c6WC321VSWqYAf0ud6qH8pbKyMpn8/GSuA8MtHbHb7SotK/O6z5PhYcH64+QbXdqXQPOz7du3q3fv3rJYLNq5c6e6dOnitmM/88LbOpOX77bjAQAAAL6kXlioHvnDRJf2rZtfTzjw4YcfSpJGjx7t1jAjnUucrqN3BgAAAL7tUj4vE2h+tmfPHklS//7un7rP1e4zSdqclKIPvlyv8LAQJdxzK5MBAAAAAL/Ap+OfnTlzRpJUv379i2zpPNfvoTnXOyNJpaVlWvjvFe4tDAAAAPACl3IPDYHmZ/XqnXuw2unTjp+kfCnO5hVe8j00RcUlKioucVNFAAAAgG8g0Pysc+fOev/997Vx40a3H9u1MYHcOwMAAIC64VLuoWGWs5/t3LlTPXv2lL+/v5KSkhQXF+fRerh3BgAAALi4ujkBtwM9evTQhAkTVFpaqlGjRmndunUV1v/000+aN2+e8vNrfvrlMqtVX2/cKUkacnk8YQYAAACoAj00v3DmzBmNGzdO33zzjSTpsssuU2RkpLKzs5WZmSm73a6TJ0+qQYMGNVoHvTMAAABA9dBD8wv16tXT2rVr9fLLL2vIkCEqKCjQrl275Ofnp2uuuUYvv/yywsPDa7yOAH+L6oWF0jsDAAAAXAQ9NF6qtKxMJplksZg9XQoAAADgtQg0AAAAAAyLIWcAAAAADItAAwAAAMCwCDQAAAAADItAAwAAAMCwCDQAAAAADItAAwAAAMCwCDQAAAAADItAAwAAAMCwCDQAAAAADItAAwAAAMCwCDQAAAAADItAAwAAAMCwCDQAAAAADItAAwAAAMCwCDQAAAAADItAAwAAAMCwCDQAAAAADItAAwAAAMCwCDQAAAAADItAAwAAAMCwCDQAAAAADItAAwAAAMCwCDQAAAAADItAAwAAAMCwCDQAAAAADItAAwAAAMCwCDQAAAAADItAAwAAAMCwCDQAAAAADItAAwAAAMCwCDQAAAAADItAAwAAAMCwCDQAAAAADItAAwAAAMCwCDQAAAAADItAAwAAAMCwCDQAAAAADItAAwAAAMCwCDQAAAAADOv/ASGXsKa0567LAAAAAElFTkSuQmCC'/>"
      ]
    },
    {
      "cell_type": "markdown",
      "metadata": {
        "id": "J5nGN3bouoO_"
      },
      "source": [
        "Consider that for any state $|x\\rangle = |x_{n-1} \\ldots x_0\\rangle = |x_{n-1}\\rangle \\otimes \\ldots \\otimes |x_0\\rangle$, applying a Hadamard gate to each qubit yields the state:\n",
        "$$\n",
        "\\begin{aligned}\n",
        "H^{\\otimes n} |x\\rangle &= H|x_{n-1}\\rangle \\otimes \\ldots \\otimes H|x_0\\rangle \\\\\n",
        "&= \\frac{1}{\\sqrt{2^n}} \\sum_{y=0}^{2^n-1} (-1)^{x \\cdot y} |y\\rangle,\n",
        "\\end{aligned}\n",
        "$$\n",
        "Where $x \\cdot y = x_0y_0 + x_1y_1 + \\ldots + x_{n-1}y_{n-1}$ is the sum of the bitwise product.\n",
        "\n",
        "At this point the second single qubit register may be ignored. Applying a Hadamard gate to each qubit in the first register yields the state:\n",
        "        $$\n",
        "        \\begin{aligned}\n",
        "            \\lvert \\psi_3 \\rangle\n",
        "                & = \\frac{1}{2^n}\\sum_{x=0}^{2^n-1}(-1)^{f(x)}\n",
        "                    \\left[ \\sum_{y=0}^{2^n-1}(-1)^{x \\cdot y}\n",
        "                    \\vert y \\rangle \\right] \\\\\n",
        "                & = \\frac{1}{2^n}\\sum_{y=0}^{2^n-1}\n",
        "                    \\left[ \\sum_{x=0}^{2^n-1}(-1)^{f(x)+x \\cdot y} \\right]\n",
        "                    \\vert y \\rangle,\n",
        "        \\end{aligned}\n",
        "        $$\n",
        "\n",
        "Now, consider the amplitude of the basis state $|0\\rangle^{\\otimes n} = |0 \\ldots 0\\rangle$ in this final state $\\vert \\psi_3 \\rangle$. This amplitude is given by\n",
        "$$\n",
        "\\frac{1}{2^n}\\sum_{x=0}^{2^n-1}(-1)^{f(x)+x \\cdot 0} = \\frac{1}{2^n}\\sum_{x=0}^{2^n-1}(-1)^{f(x)}.\n",
        "$$\n",
        "Yeilding the probability of measuring the state $|0\\rangle^{\\otimes n}$ as\n",
        "$$\n",
        "\\left| \\frac{1}{2^n}\\sum_{x=0}^{2^n-1}(-1)^{f(x)} \\right|^2\n",
        "$$\n",
        "\n",
        "and found that\n",
        "<!-- 1 if f is constant, < 1 if f is balanced -->\n",
        "$$\n",
        "\\left| \\frac{1}{2^n}\\sum_{x=0}^{2^n-1}(-1)^{f(x)} \\right|^2 = \\begin{cases} 1 & \\text{if } f \\text{ is constant} \\\\ 0 & \\text{if } f \\text{ is balanced} \\end{cases}\n",
        "$$\n",
        "Since the balanced case will cancel out $(-1)^{f(x)}$ terms and yield $0$ probability for measuring $|0\\rangle^{\\otimes n}$.\n",
        "While the constant case will yield probability $1$ since whether $(-1)^{f(x)}$ is $1$ or $-1$ is the same for all $x$.\n",
        "\n",
        "Let us now run the circuit including the measurement of the first register on the simulator:"
      ]
    },
    {
      "cell_type": "code",
      "execution_count": null,
      "metadata": {
        "id": "k0lrUsD_uoO_"
      },
      "outputs": [],
      "source": [
        "qasm_sim = Aer.get_backend('qasm_simulator')\n",
        "transpiled_dj_circuit = transpile(dj_circuit, qasm_sim)\n",
        "\n",
        "results = qasm_sim.run(transpiled_dj_circuit).result()\n",
        "answer = results.get_counts()\n",
        "plot_histogram(answer)"
      ]
    },
    {
      "cell_type": "markdown",
      "metadata": {
        "id": "k50usHuIuoO_"
      },
      "source": [
        "As we learnt in the lecture, if the output is the zero bit string, we know that the oracle is constant. If it is any other bit string, we know that it is balanced. You may also check the other oracles by just changing the oracle number in the beginning where the oracle is defined!"
      ]
    },
    {
      "cell_type": "markdown",
      "metadata": {},
      "source": [
        "Please answer either \"constant\" or \"balanced\" based on the measurement result of the first register.\n",
        "\n",
        "Problem 1:\n",
        "\n",
        "Problem 2:\n",
        "\n",
        "Problem 3:\n",
        "\n",
        "Problem 4:\n",
        "\n",
        "Problem 5:\n",
        "\n",
        "Problem 6:\n",
        "\n",
        "Problem 7:\n",
        "\n",
        "Problem 8:\n",
        "\n",
        "Problem 9:\n",
        "\n",
        "Problem 10:"
      ]
    }
  ],
  "metadata": {
    "colab": {
      "provenance": []
    },
    "kernelspec": {
      "display_name": "quantum",
      "language": "python",
      "name": "python3"
    },
    "language_info": {
      "codemirror_mode": {
        "name": "ipython",
        "version": 3
      },
      "file_extension": ".py",
      "mimetype": "text/x-python",
      "name": "python",
      "nbconvert_exporter": "python",
      "pygments_lexer": "ipython3",
      "version": "3.8.20"
    }
  },
  "nbformat": 4,
  "nbformat_minor": 0
}
