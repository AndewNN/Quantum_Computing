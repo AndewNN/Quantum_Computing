{
 "cells": [
  {
   "cell_type": "code",
   "execution_count": 1,
   "id": "1da44b2f",
   "metadata": {},
   "outputs": [],
   "source": [
    "import cudaq\n",
    "from cudaq import spin\n",
    "import numpy as np\n",
    "from math import pi\n",
    "from typing import List\n",
    "from matplotlib import pyplot as plt\n",
    "from matplotlib.ticker import MultipleLocator, NullLocator\n",
    "import matplotlib.patches as mpatches\n",
    "import os\n",
    "import pandas as pd\n",
    "import pickle"
   ]
  },
  {
   "cell_type": "code",
   "execution_count": 2,
   "id": "b0ec69d2",
   "metadata": {},
   "outputs": [
    {
     "name": "stdout",
     "output_type": "stream",
     "text": [
      "[0 0 0 0]\n",
      "[0 0 0 1]\n",
      "[0 0 1 0]\n",
      "[0 0 1 1]\n",
      "[0 1 0 0]\n",
      "[0 1 0 1]\n",
      "[0 1 1 0]\n",
      "[0 1 1 1]\n",
      "[1 0 0 0]\n",
      "[1 0 0 1]\n",
      "[1 0 1 0]\n",
      "[1 0 1 1]\n",
      "[1 1 0 0]\n",
      "[1 1 0 1]\n",
      "[1 1 1 0]\n",
      "[1 1 1 1]\n"
     ]
    }
   ],
   "source": [
    "for i in np.ndindex(2, 2, 2, 2):\n",
    "    print(np.array(i))\n",
    "\n",
    "ss = np.array([0, 1])\n",
    "a = np.array(np.ndindex(2, 2, 2, 2))\n",
    "# print(ss[a])"
   ]
  },
  {
   "cell_type": "code",
   "execution_count": 3,
   "id": "223f7459",
   "metadata": {},
   "outputs": [
    {
     "name": "stdout",
     "output_type": "stream",
     "text": [
      "[ 0.23857048 -0.44061487 -0.83550717 -0.54705911 -1.0524233 ]\n",
      "[ 0.23857048 -0.44061487 -0.83550717 -0.54705911 -1.0524233 ]\n"
     ]
    }
   ],
   "source": [
    "state = np.random.get_state()\n",
    "\n",
    "np.random.uniform(0, 1, (2, 2))\n",
    "print(np.random.randn(5))\n",
    "\n",
    "np.random.set_state(state)\n",
    "np.random.uniform(-2, 2, (2, 2))\n",
    "print(np.random.randn(5))\n"
   ]
  },
  {
   "cell_type": "code",
   "execution_count": 4,
   "id": "44967630",
   "metadata": {},
   "outputs": [
    {
     "name": "stdout",
     "output_type": "stream",
     "text": [
      "True\n"
     ]
    }
   ],
   "source": [
    "a = 1.0\n",
    "print(a.is_integer())"
   ]
  },
  {
   "cell_type": "code",
   "execution_count": 5,
   "id": "8650fa28",
   "metadata": {},
   "outputs": [
    {
     "name": "stdout",
     "output_type": "stream",
     "text": [
      "[[ 0  1  2  3  4]\n",
      " [ 5  6  7  8  9]\n",
      " [10 11 12 13 14]\n",
      " [15 16 17 18 19]\n",
      " [20 21 22 23 24]]\n",
      "[[ 0  3  2  6  4]\n",
      " [15 54 21 48 27]\n",
      " [10 33 12 26 14]\n",
      " [30 96 34 72 38]\n",
      " [20 63 22 46 24]]\n",
      "[[ 0  3  2  6  4]\n",
      " [15 54 21 48 27]\n",
      " [10 33 12 26 14]\n",
      " [30 96 34 72 38]\n",
      " [20 63 22 46 24]]\n"
     ]
    }
   ],
   "source": [
    "a = np.arange(25).reshape(5, 5)\n",
    "b = np.array([1, 3, 1, 2, 1])\n",
    "bb = np.diag(b)\n",
    "print(a)\n",
    "print(bb @ a @ bb)\n",
    "\n",
    "print((b[None, :] * a) * b[:, None])"
   ]
  },
  {
   "cell_type": "code",
   "execution_count": 6,
   "id": "e9935713",
   "metadata": {},
   "outputs": [
    {
     "name": "stdout",
     "output_type": "stream",
     "text": [
      "[10 30 44 34 25 33 31]\n"
     ]
    }
   ],
   "source": [
    "a = np.random.choice(50, 7, replace=False)\n",
    "print(a)"
   ]
  },
  {
   "cell_type": "code",
   "execution_count": 7,
   "id": "fcdd3749",
   "metadata": {},
   "outputs": [
    {
     "name": "stdout",
     "output_type": "stream",
     "text": [
      "   A   B\n",
      "1  1  10\n",
      "3  2  20\n",
      "2  3  30\n",
      "0  4  40\n"
     ]
    }
   ],
   "source": [
    "df = pd.DataFrame({\n",
    "    \"A\": [4, 1, 3, 2],\n",
    "    \"B\": [40, 10, 30, 20]\n",
    "})\n",
    "\n",
    "df.sort_values(by=\"A\", inplace=True)\n",
    "print(df)"
   ]
  },
  {
   "cell_type": "code",
   "execution_count": 8,
   "id": "5c571fcf",
   "metadata": {},
   "outputs": [
    {
     "name": "stdout",
     "output_type": "stream",
     "text": [
      "   Assets  Qubits       N     Sum_1     Sum_2     Coeff\n",
      "0     3.0     9.0  2000.0 -0.589625  3.507773  0.000037\n",
      "1     4.0    12.0  2000.0 -0.589621  3.507773  0.000037\n",
      "2     5.0    15.0  2000.0 -0.589623  3.507772  0.000037\n",
      "3     6.0    18.0  2000.0 -0.589626  3.507771  0.000037\n",
      "0 Series([], Name: N, dtype: float64)\n"
     ]
    }
   ],
   "source": [
    "df = pd.read_csv(\"./experiments_plateau_X/exp_0_L0.001_q1/report.csv\")\n",
    "print(df)\n",
    "S = df[df[\"Assets\"] == 7].shape[0]\n",
    "N = df.loc[df[\"Assets\"] == 7, \"N\"]\n",
    "print(S, N)"
   ]
  },
  {
   "cell_type": "code",
   "execution_count": null,
   "id": "f8f08e33",
   "metadata": {},
   "outputs": [
    {
     "name": "stdout",
     "output_type": "stream",
     "text": [
      "[1.0, 1.0, 0.0, 1.0, 2.0, 1.0]\n"
     ]
    }
   ],
   "source": [
    "a = spin.z(2)   \n",
    "\n",
    "print(a.to_json())"
   ]
  }
 ],
 "metadata": {
  "kernelspec": {
   "display_name": "cudaq",
   "language": "python",
   "name": "python3"
  },
  "language_info": {
   "codemirror_mode": {
    "name": "ipython",
    "version": 3
   },
   "file_extension": ".py",
   "mimetype": "text/x-python",
   "name": "python",
   "nbconvert_exporter": "python",
   "pygments_lexer": "ipython3",
   "version": "3.11.13"
  }
 },
 "nbformat": 4,
 "nbformat_minor": 5
}
