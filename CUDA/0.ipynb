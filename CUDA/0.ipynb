{
 "cells": [
  {
   "cell_type": "code",
   "execution_count": 46,
   "metadata": {},
   "outputs": [],
   "source": [
    "import cudaq\n",
    "from cudaq import spin\n",
    "import numpy as np\n",
    "from math import pi"
   ]
  },
  {
   "cell_type": "code",
   "execution_count": 2,
   "metadata": {},
   "outputs": [],
   "source": [
    "cudaq.register_operation(\"custom_a\", np.array(\n",
    "    [[0, 1], \n",
    "     [0, 0]]\n",
    "))"
   ]
  },
  {
   "cell_type": "code",
   "execution_count": 3,
   "metadata": {},
   "outputs": [],
   "source": [
    "cudaq.set_target(\"orca-photonics\")\n",
    "@cudaq.kernel\n",
    "def kernel():\n",
    "    q = qudit(2)\n",
    "    # h(q)\n",
    "    # annihilate(q)\n",
    "    # create(q)\n",
    "\n",
    "    mz(q)"
   ]
  },
  {
   "cell_type": "code",
   "execution_count": 53,
   "metadata": {},
   "outputs": [],
   "source": [
    "cudaq.set_target(\"nvidia\")\n",
    "@cudaq.kernel\n",
    "def kernel():\n",
    "    q = cudaq.qvector(2)\n",
    "    # h(q)\n",
    "    # custom_a(q[0])\n",
    "    # y(q)\n",
    "    x(q)\n",
    "    rz(0.25*pi, q)"
   ]
  },
  {
   "cell_type": "code",
   "execution_count": 54,
   "metadata": {},
   "outputs": [
    {
     "name": "stdout",
     "output_type": "stream",
     "text": [
      "{ 11:1000000 }\n",
      "\n"
     ]
    }
   ],
   "source": [
    "shot = int(1e6)\n",
    "result = cudaq.sample(kernel, shots_count=shot)\n",
    "\n",
    "print(result)"
   ]
  },
  {
   "cell_type": "code",
   "execution_count": 79,
   "metadata": {},
   "outputs": [
    {
     "name": "stdout",
     "output_type": "stream",
     "text": [
      "[0.         0.99999998]\n",
      "[0.        +0.j         0.70710671+0.70710683j]\n"
     ]
    }
   ],
   "source": [
    "state = cudaq.get_state(kernel)\n",
    "a = state.amplitudes([\"00\",\"11\"])\n",
    "a = np.array(a, dtype=np.complex128)\n",
    "print(abs(a))\n",
    "print(a)"
   ]
  },
  {
   "cell_type": "code",
   "execution_count": null,
   "metadata": {},
   "outputs": [
    {
     "name": "stdout",
     "output_type": "stream",
     "text": [
      "SV: [(0,0), (0,0), (0,0), (0.707107,0.707107)]\n",
      "\n"
     ]
    }
   ],
   "source": []
  }
 ],
 "metadata": {
  "kernelspec": {
   "display_name": "cudaq",
   "language": "python",
   "name": "python3"
  },
  "language_info": {
   "codemirror_mode": {
    "name": "ipython",
    "version": 3
   },
   "file_extension": ".py",
   "mimetype": "text/x-python",
   "name": "python",
   "nbconvert_exporter": "python",
   "pygments_lexer": "ipython3",
   "version": "3.11.11"
  }
 },
 "nbformat": 4,
 "nbformat_minor": 2
}
