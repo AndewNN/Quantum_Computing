{
 "cells": [
  {
   "cell_type": "code",
   "execution_count": 5,
   "id": "1da44b2f",
   "metadata": {},
   "outputs": [],
   "source": [
    "import cudaq\n",
    "from cudaq import spin\n",
    "import numpy as np\n",
    "from math import pi\n",
    "from typing import List\n",
    "from matplotlib import pyplot as plt\n",
    "from matplotlib.ticker import MultipleLocator, NullLocator\n",
    "import matplotlib.patches as mpatches\n",
    "import os\n",
    "import pandas as pd\n",
    "import pickle"
   ]
  },
  {
   "cell_type": "code",
   "execution_count": 6,
   "id": "b0ec69d2",
   "metadata": {},
   "outputs": [
    {
     "name": "stdout",
     "output_type": "stream",
     "text": [
      "[0 0 0 0]\n",
      "[0 0 0 1]\n",
      "[0 0 1 0]\n",
      "[0 0 1 1]\n",
      "[0 1 0 0]\n",
      "[0 1 0 1]\n",
      "[0 1 1 0]\n",
      "[0 1 1 1]\n",
      "[1 0 0 0]\n",
      "[1 0 0 1]\n",
      "[1 0 1 0]\n",
      "[1 0 1 1]\n",
      "[1 1 0 0]\n",
      "[1 1 0 1]\n",
      "[1 1 1 0]\n",
      "[1 1 1 1]\n"
     ]
    }
   ],
   "source": [
    "for i in np.ndindex(2, 2, 2, 2):\n",
    "    print(np.array(i))\n",
    "\n",
    "ss = np.array([0, 1])\n",
    "a = np.array(np.ndindex(2, 2, 2, 2))\n",
    "# print(ss[a])"
   ]
  },
  {
   "cell_type": "code",
   "execution_count": 7,
   "id": "223f7459",
   "metadata": {},
   "outputs": [
    {
     "name": "stdout",
     "output_type": "stream",
     "text": [
      "[-1.93503718 -1.24301212  0.72376414  1.07972175 -0.29865399]\n",
      "[-1.93503718 -1.24301212  0.72376414  1.07972175 -0.29865399]\n"
     ]
    }
   ],
   "source": [
    "state = np.random.get_state()\n",
    "\n",
    "np.random.uniform(0, 1, (2, 2))\n",
    "print(np.random.randn(5))\n",
    "\n",
    "np.random.set_state(state)\n",
    "np.random.uniform(-2, 2, (2, 2))\n",
    "print(np.random.randn(5))\n"
   ]
  },
  {
   "cell_type": "code",
   "execution_count": 8,
   "id": "44967630",
   "metadata": {},
   "outputs": [
    {
     "name": "stdout",
     "output_type": "stream",
     "text": [
      "True\n"
     ]
    }
   ],
   "source": [
    "a = 1.0\n",
    "print(a.is_integer())"
   ]
  },
  {
   "cell_type": "code",
   "execution_count": 9,
   "id": "8650fa28",
   "metadata": {},
   "outputs": [
    {
     "name": "stdout",
     "output_type": "stream",
     "text": [
      "[[ 0  1  2  3  4]\n",
      " [ 5  6  7  8  9]\n",
      " [10 11 12 13 14]\n",
      " [15 16 17 18 19]\n",
      " [20 21 22 23 24]]\n",
      "[[ 0  3  2  6  4]\n",
      " [15 54 21 48 27]\n",
      " [10 33 12 26 14]\n",
      " [30 96 34 72 38]\n",
      " [20 63 22 46 24]]\n",
      "[[ 0  3  2  6  4]\n",
      " [15 54 21 48 27]\n",
      " [10 33 12 26 14]\n",
      " [30 96 34 72 38]\n",
      " [20 63 22 46 24]]\n"
     ]
    }
   ],
   "source": [
    "a = np.arange(25).reshape(5, 5)\n",
    "b = np.array([1, 3, 1, 2, 1])\n",
    "bb = np.diag(b)\n",
    "print(a)\n",
    "print(bb @ a @ bb)\n",
    "\n",
    "print((b[None, :] * a) * b[:, None])"
   ]
  },
  {
   "cell_type": "code",
   "execution_count": 10,
   "id": "e9935713",
   "metadata": {},
   "outputs": [
    {
     "name": "stdout",
     "output_type": "stream",
     "text": [
      "[46 11 45  9 28  4 42]\n"
     ]
    }
   ],
   "source": [
    "a = np.random.choice(50, 7, replace=False)\n",
    "print(a)"
   ]
  },
  {
   "cell_type": "code",
   "execution_count": 11,
   "id": "fcdd3749",
   "metadata": {},
   "outputs": [
    {
     "name": "stdout",
     "output_type": "stream",
     "text": [
      "   A   B\n",
      "1  1  10\n",
      "3  2  20\n",
      "2  3  30\n",
      "0  4  40\n"
     ]
    }
   ],
   "source": [
    "df = pd.DataFrame({\n",
    "    \"A\": [4, 1, 3, 2],\n",
    "    \"B\": [40, 10, 30, 20]\n",
    "})\n",
    "\n",
    "df.sort_values(by=\"A\", inplace=True)\n",
    "print(df)"
   ]
  },
  {
   "cell_type": "code",
   "execution_count": 8,
   "id": "5c571fcf",
   "metadata": {},
   "outputs": [
    {
     "name": "stdout",
     "output_type": "stream",
     "text": [
      "Index(['Exp', 'Assets', 'Qubits', 'N', 'Sum_1', 'Sum_2', 'Coeff', 'Budget',\n",
      "       'var', 'log_var'],\n",
      "      dtype='object')\n",
      "               Exp       N     Sum_1     Sum_2     Coeff       Budget  \\\n",
      "Assets Qubits                                                           \n",
      "3.0    9.0     1.5  1500.0 -0.163121  2.884883  0.000060  1106.367040   \n",
      "4.0    12.0    1.0  1500.0 -0.733525  0.483562  0.000085   999.717090   \n",
      "5.0    15.0    1.0  1500.0  0.092308  0.121872  0.000059   997.727491   \n",
      "6.0    18.0    1.0  1500.0  0.021536  0.053166  0.000049   993.493951   \n",
      "7.0    21.0    1.0  1500.0  0.062054  0.032848  0.000031  1076.231997   \n",
      "\n",
      "                    var   log_var  \n",
      "Assets Qubits                      \n",
      "3.0    9.0     0.001923 -2.716645  \n",
      "4.0    12.0    0.000322 -3.493190  \n",
      "5.0    15.0    0.000081 -4.173048  \n",
      "6.0    18.0    0.000035 -4.464520  \n",
      "7.0    21.0    0.000022 -4.867234  \n"
     ]
    }
   ],
   "source": [
    "df = pd.read_csv(\"./experiments_plateau_X/exp_0_L0.001_q1/report.csv\")\n",
    "print(df)\n",
    "S = df[df[\"Assets\"] == 7].shape[0]\n",
    "N = df.loc[df[\"Assets\"] == 7, \"N\"]\n",
    "print(S, N)"
   ]
  },
  {
   "cell_type": "code",
   "execution_count": 14,
   "id": "f8f08e33",
   "metadata": {},
   "outputs": [
    {
     "name": "stdout",
     "output_type": "stream",
     "text": [
      "[1.0, 1.0, 0.0, 1.0, 2.0, 1.0]\n"
     ]
    }
   ],
   "source": [
    "a = spin.z(2)   \n",
    "\n",
    "print(a.to_json())"
   ]
  },
  {
   "cell_type": "code",
   "execution_count": 15,
   "id": "8bd01e65",
   "metadata": {},
   "outputs": [
    {
     "name": "stdout",
     "output_type": "stream",
     "text": [
      "500.0\n",
      "750.0\n",
      "875.0\n",
      "937.5\n",
      "968.75\n",
      "984.375\n",
      "992.1875\n",
      "996.09375\n",
      "998.046875\n",
      "999.0234375\n",
      "999.51171875\n",
      "999.755859375\n",
      "999.8779296875\n",
      "999.93896484375\n",
      "999.969482421875\n",
      "999.9847412109375\n",
      "999.9923706054688\n",
      "999.9961853027344\n",
      "999.9980926513672\n",
      "999.9990463256836\n",
      "999.9995231628418\n",
      "999.9997615814209\n",
      "999.9998807907104\n",
      "999.9999403953552\n",
      "999.9999701976776\n",
      "999.9999850988388\n",
      "999.9999925494194\n",
      "999.9999962747097\n",
      "999.9999981373549\n",
      "999.9999990686774\n",
      "999.9999995343387\n",
      "999.9999997671694\n",
      "999.9999998835847\n",
      "999.9999999417923\n",
      "999.9999999708962\n",
      "999.9999999854481\n",
      "999.999999992724\n",
      "999.999999996362\n",
      "999.999999998181\n",
      "999.9999999990905\n",
      "999.9999999995453\n",
      "999.9999999997726\n",
      "999.9999999998863\n",
      "999.9999999999432\n",
      "999.9999999999716\n",
      "999.9999999999858\n",
      "999.999999999993\n",
      "999.9999999999965\n",
      "999.9999999999982\n",
      "999.9999999999991\n",
      "999.9999999999995\n",
      "999.9999999999998\n",
      "999.9999999999999\n",
      "1000.0\n"
     ]
    }
   ],
   "source": [
    "l, r, m = 0, 1000, 0\n",
    "\n",
    "while m != r:\n",
    "    m = (l+r)/2\n",
    "    l = m\n",
    "    print(m)"
   ]
  },
  {
   "cell_type": "code",
   "execution_count": 99,
   "id": "9f4d83f1",
   "metadata": {},
   "outputs": [
    {
     "name": "stdout",
     "output_type": "stream",
     "text": [
      "1140.625 2\n"
     ]
    }
   ],
   "source": [
    "P = np.array([148.2365, 178.1284, 236.5621])\n",
    "MI, MA = 125, 250*7\n",
    "target = 9\n",
    "\n",
    "def rdd(a, coeff, order = 7, s = 1e-9):\n",
    "    return round(a + coeff * s, order)\n",
    "\n",
    "mi, ma = MI, MA\n",
    "cou = 0\n",
    "mid = (mi + ma)/2\n",
    "while (N := np.sum(np.int32(np.floor(np.log2(mid/P))) + 1)) != target:\n",
    "    if N < target:\n",
    "        mi = mid\n",
    "    else:\n",
    "        ma = mid\n",
    "    # print()\n",
    "    mid = rdd((mi + ma)/2, 0, 7)\n",
    "    cou += 1\n",
    "MID = mid\n",
    "print(MID, cou)"
   ]
  },
  {
   "cell_type": "code",
   "execution_count": 85,
   "id": "684d2f21",
   "metadata": {},
   "outputs": [
    {
     "name": "stdout",
     "output_type": "stream",
     "text": [
      "3.8\n",
      "3.4\n"
     ]
    }
   ],
   "source": [
    "print(round(3.75 + 1e-9, 1))\n",
    "print(np.round(3.35 + 1e-9, 1))"
   ]
  },
  {
   "cell_type": "code",
   "execution_count": 92,
   "id": "91f1818c",
   "metadata": {},
   "outputs": [
    {
     "name": "stdout",
     "output_type": "stream",
     "text": [
      "946.2484 34\n"
     ]
    }
   ],
   "source": [
    "mi, ma = MI, MID\n",
    "cou = 0\n",
    "mid = (mi + ma)/2\n",
    "while mid != ma:\n",
    "    if np.sum(np.int32(np.floor(np.log2(mid/P))) + 1) < target:\n",
    "        mi = mid\n",
    "    else:\n",
    "        ma = mid\n",
    "    mid = rdd((mi + ma)/2, 1, 7)\n",
    "    cou += 1\n",
    "MIN = mid\n",
    "print(MIN, cou)\n"
   ]
  },
  {
   "cell_type": "code",
   "execution_count": 98,
   "id": "54133bd8",
   "metadata": {},
   "outputs": [
    {
     "name": "stdout",
     "output_type": "stream",
     "text": [
      "1140.625 1445.3125 1292.96875\n",
      "1140.625 1292.96875 1216.796875\n",
      "1140.625 1216.796875 1178.7109375\n",
      "1178.7109375 1216.796875 1197.7539063\n",
      "1178.7109375 1197.7539063 1188.2324219\n",
      "1178.7109375 1188.2324219 1183.4716797\n",
      "1183.4716797 1188.2324219 1185.8520508\n",
      "1185.8520508 1188.2324219 1187.0422364\n",
      "1185.8520508 1187.0422364 1186.4471436\n",
      "1185.8520508 1186.4471436 1186.1495972\n",
      "1185.8520508 1186.1495972 1186.000824\n",
      "1185.8520508 1186.000824 1185.9264374\n",
      "1185.8520508 1185.9264374 1185.8892441\n",
      "1185.8892441 1185.9264374 1185.9078408\n",
      "1185.8892441 1185.9078408 1185.8985425\n",
      "1185.8892441 1185.8985425 1185.8938933\n",
      "1185.8892441 1185.8938933 1185.8915687\n",
      "1185.8915687 1185.8938933 1185.892731\n",
      "1185.8915687 1185.892731 1185.8921499\n",
      "1185.8915687 1185.8921499 1185.8918593\n",
      "1185.8918593 1185.8921499 1185.8920046\n",
      "1185.8918593 1185.8920046 1185.891932\n",
      "1185.891932 1185.8920046 1185.8919683\n",
      "1185.8919683 1185.8920046 1185.8919865\n",
      "1185.8919865 1185.8920046 1185.8919956\n",
      "1185.8919956 1185.8920046 1185.8920001\n",
      "1185.8919956 1185.8920001 1185.8919979\n",
      "1185.8919979 1185.8920001 1185.891999\n",
      "1185.891999 1185.8920001 1185.8919996\n",
      "1185.8919996 1185.8920001 1185.8919999\n",
      "1185.8919999 1185.8920001 1185.892\n",
      "1185.8919999 1185.892 1185.892\n",
      "1185.892 32\n"
     ]
    }
   ],
   "source": [
    "mi, ma = MID, MA\n",
    "cou = 0\n",
    "mid = (mi + ma)/2\n",
    "while mid != ma:\n",
    "    if np.sum(np.int32(np.floor(np.log2(mid/P))) + 1) > target:\n",
    "        ma = mid\n",
    "    else:\n",
    "        mi = mid\n",
    "    mid = rdd((mi + ma)/2, 1, 7)\n",
    "    cou += 1\n",
    "    print(mi, ma, mid)\n",
    "MAX = mid\n",
    "print(MAX, cou)"
   ]
  },
  {
   "cell_type": "code",
   "execution_count": 33,
   "id": "7a4f6f33",
   "metadata": {},
   "outputs": [
    {
     "name": "stdout",
     "output_type": "stream",
     "text": [
      "9\n"
     ]
    }
   ],
   "source": [
    "print(np.sum(np.int32(np.floor(np.log2(946.2484/P))) + 1))"
   ]
  }
 ],
 "metadata": {
  "kernelspec": {
   "display_name": "cudaq",
   "language": "python",
   "name": "python3"
  },
  "language_info": {
   "codemirror_mode": {
    "name": "ipython",
    "version": 3
   },
   "file_extension": ".py",
   "mimetype": "text/x-python",
   "name": "python",
   "nbconvert_exporter": "python",
   "pygments_lexer": "ipython3",
   "version": "3.11.11"
  }
 },
 "nbformat": 4,
 "nbformat_minor": 5
}
