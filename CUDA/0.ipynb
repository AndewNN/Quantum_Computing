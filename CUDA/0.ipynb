{
 "cells": [
  {
   "cell_type": "code",
   "execution_count": 1,
   "id": "1da44b2f",
   "metadata": {},
   "outputs": [],
   "source": [
    "import cudaq\n",
    "from cudaq import spin\n",
    "import numpy as np\n",
    "from math import pi\n",
    "from typing import List\n",
    "from matplotlib import pyplot as plt\n",
    "from matplotlib.ticker import MultipleLocator, NullLocator\n",
    "import matplotlib.patches as mpatches\n",
    "import os\n",
    "import pandas as pd\n",
    "import pickle"
   ]
  },
  {
   "cell_type": "code",
   "execution_count": 3,
   "id": "b0ec69d2",
   "metadata": {},
   "outputs": [
    {
     "name": "stdout",
     "output_type": "stream",
     "text": [
      "[0 0 0 0]\n",
      "[0 0 0 1]\n",
      "[0 0 1 0]\n",
      "[0 0 1 1]\n",
      "[0 1 0 0]\n",
      "[0 1 0 1]\n",
      "[0 1 1 0]\n",
      "[0 1 1 1]\n",
      "[1 0 0 0]\n",
      "[1 0 0 1]\n",
      "[1 0 1 0]\n",
      "[1 0 1 1]\n",
      "[1 1 0 0]\n",
      "[1 1 0 1]\n",
      "[1 1 1 0]\n",
      "[1 1 1 1]\n"
     ]
    }
   ],
   "source": [
    "for i in np.ndindex(2, 2, 2, 2):\n",
    "    print(np.array(i))\n",
    "\n",
    "ss = np.array([0, 1])\n",
    "a = np.array(np.ndindex(2, 2, 2, 2))\n",
    "# print(ss[a])"
   ]
  },
  {
   "cell_type": "code",
   "execution_count": 4,
   "id": "223f7459",
   "metadata": {},
   "outputs": [
    {
     "name": "stdout",
     "output_type": "stream",
     "text": [
      "[-0.90661075  0.64403775 -1.43011925  0.64488582 -0.18907353]\n",
      "[-0.90661075  0.64403775 -1.43011925  0.64488582 -0.18907353]\n"
     ]
    }
   ],
   "source": [
    "state = np.random.get_state()\n",
    "\n",
    "np.random.uniform(0, 1, (2, 2))\n",
    "print(np.random.randn(5))\n",
    "\n",
    "np.random.set_state(state)\n",
    "np.random.uniform(-2, 2, (2, 2))\n",
    "print(np.random.randn(5))\n"
   ]
  }
 ],
 "metadata": {
  "kernelspec": {
   "display_name": "cudaq",
   "language": "python",
   "name": "python3"
  },
  "language_info": {
   "codemirror_mode": {
    "name": "ipython",
    "version": 3
   },
   "file_extension": ".py",
   "mimetype": "text/x-python",
   "name": "python",
   "nbconvert_exporter": "python",
   "pygments_lexer": "ipython3",
   "version": "3.11.13"
  }
 },
 "nbformat": 4,
 "nbformat_minor": 5
}
