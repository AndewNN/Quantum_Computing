{
 "cells": [
  {
   "cell_type": "code",
   "execution_count": 9,
   "metadata": {},
   "outputs": [],
   "source": [
    "import cudaq\n",
    "from cudaq import spin\n",
    "import numpy as np\n",
    "from math import pi\n",
    "from typing import List"
   ]
  },
  {
   "cell_type": "code",
   "execution_count": 10,
   "metadata": {},
   "outputs": [],
   "source": [
    "cudaq.register_operation(\"custom_a\", np.array(\n",
    "    [[0, 1], \n",
    "     [0, 0]]\n",
    "))"
   ]
  },
  {
   "cell_type": "code",
   "execution_count": 11,
   "metadata": {},
   "outputs": [],
   "source": [
    "cudaq.set_target(\"orca-photonics\")\n",
    "@cudaq.kernel\n",
    "def kernel():\n",
    "    q = qudit(2)\n",
    "    # h(q)\n",
    "    # annihilate(q)\n",
    "    # create(q)\n",
    "\n",
    "    mz(q)"
   ]
  },
  {
   "cell_type": "code",
   "execution_count": 12,
   "metadata": {},
   "outputs": [],
   "source": [
    "cudaq.set_target(\"nvidia\")\n",
    "@cudaq.kernel\n",
    "def kernel():\n",
    "    q = cudaq.qvector(2)\n",
    "    # h(q)\n",
    "    # custom_a(q[0])\n",
    "    # y(q)\n",
    "    x(q)\n",
    "    rz(0.25*pi, q)"
   ]
  },
  {
   "cell_type": "code",
   "execution_count": 13,
   "metadata": {},
   "outputs": [
    {
     "name": "stdout",
     "output_type": "stream",
     "text": [
      "{ 11:1000000 }\n",
      "\n"
     ]
    }
   ],
   "source": [
    "shot = int(1e6)\n",
    "result = cudaq.sample(kernel, shots_count=shot)\n",
    "\n",
    "print(result)"
   ]
  },
  {
   "cell_type": "code",
   "execution_count": 14,
   "metadata": {},
   "outputs": [
    {
     "name": "stdout",
     "output_type": "stream",
     "text": [
      "[0.         0.99999998]\n",
      "[0.        +0.j         0.70710671+0.70710683j]\n"
     ]
    }
   ],
   "source": [
    "state = cudaq.get_state(kernel)\n",
    "a = state.amplitudes([\"00\",\"11\"])\n",
    "a = np.array(a, dtype=np.complex128)\n",
    "print(abs(a))\n",
    "print(a)"
   ]
  },
  {
   "cell_type": "code",
   "execution_count": 15,
   "metadata": {},
   "outputs": [
    {
     "name": "stdout",
     "output_type": "stream",
     "text": [
      "{ 0001:33582 0100:33176 1000:33242 }\n",
      "\n",
      "\n"
     ]
    }
   ],
   "source": [
    "c = np.array([0.+0j, 0.577350269, 0.577350269, 0., 0., 0., 0., 0., 0.577350269, 0., 0., 0., 0., 0., 0., 0.], dtype=cudaq.complex())\n",
    "@cudaq.kernel\n",
    "def kk(cc: List[complex]):\n",
    "    # a = cudaq.qvector([0.+0j, 0.577350269, 0.577350269, 0., 0., 0., 0., 0., 0.577350269, 0., 0., 0., 0., 0., 0., 0.])\n",
    "    a = cudaq.qvector(cc)\n",
    "    # a = cudaq.qvector([0.+0j, 0., 0., 0., 0., 0., 0., 0., 1., 0., 0., 0., 0., 0., 0., 0.])\n",
    "\n",
    "    # h(a)\n",
    "    # exp_pauli(3.14 / 4, a, \"IXIX\")\n",
    "    # exp_pauli(3.14 / 4, a, \"IYIY\")\n",
    "    \n",
    "result = cudaq.sample(kk, c, shots_count=int(1e5))\n",
    "print(result)\n",
    "print(cudaq.draw(kk, c))"
   ]
  }
 ],
 "metadata": {
  "kernelspec": {
   "display_name": "cudaq",
   "language": "python",
   "name": "python3"
  },
  "language_info": {
   "codemirror_mode": {
    "name": "ipython",
    "version": 3
   },
   "file_extension": ".py",
   "mimetype": "text/x-python",
   "name": "python",
   "nbconvert_exporter": "python",
   "pygments_lexer": "ipython3",
   "version": "3.11.11"
  }
 },
 "nbformat": 4,
 "nbformat_minor": 2
}
