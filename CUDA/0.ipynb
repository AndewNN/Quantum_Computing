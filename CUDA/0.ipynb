{
 "cells": [
  {
   "cell_type": "code",
   "execution_count": 1,
   "id": "1da44b2f",
   "metadata": {},
   "outputs": [],
   "source": [
    "import cudaq\n",
    "from cudaq import spin\n",
    "import numpy as np\n",
    "from math import pi\n",
    "from typing import List\n",
    "from matplotlib import pyplot as plt\n",
    "from matplotlib.ticker import MultipleLocator, NullLocator\n",
    "import matplotlib.patches as mpatches\n",
    "import os\n",
    "import pandas as pd\n",
    "import pickle"
   ]
  },
  {
   "cell_type": "code",
   "execution_count": 2,
   "id": "b0ec69d2",
   "metadata": {},
   "outputs": [
    {
     "name": "stdout",
     "output_type": "stream",
     "text": [
      "[0 0 0 0]\n",
      "[0 0 0 1]\n",
      "[0 0 1 0]\n",
      "[0 0 1 1]\n",
      "[0 1 0 0]\n",
      "[0 1 0 1]\n",
      "[0 1 1 0]\n",
      "[0 1 1 1]\n",
      "[1 0 0 0]\n",
      "[1 0 0 1]\n",
      "[1 0 1 0]\n",
      "[1 0 1 1]\n",
      "[1 1 0 0]\n",
      "[1 1 0 1]\n",
      "[1 1 1 0]\n",
      "[1 1 1 1]\n"
     ]
    }
   ],
   "source": [
    "for i in np.ndindex(2, 2, 2, 2):\n",
    "    print(np.array(i))\n",
    "\n",
    "ss = np.array([0, 1])\n",
    "a = np.array(np.ndindex(2, 2, 2, 2))\n",
    "# print(ss[a])"
   ]
  },
  {
   "cell_type": "code",
   "execution_count": 3,
   "id": "223f7459",
   "metadata": {},
   "outputs": [
    {
     "name": "stdout",
     "output_type": "stream",
     "text": [
      "[-0.92246883  0.69335308  0.25394243 -0.79989697 -1.3215194 ]\n",
      "[-0.92246883  0.69335308  0.25394243 -0.79989697 -1.3215194 ]\n"
     ]
    }
   ],
   "source": [
    "state = np.random.get_state()\n",
    "\n",
    "np.random.uniform(0, 1, (2, 2))\n",
    "print(np.random.randn(5))\n",
    "\n",
    "np.random.set_state(state)\n",
    "np.random.uniform(-2, 2, (2, 2))\n",
    "print(np.random.randn(5))\n"
   ]
  },
  {
   "cell_type": "code",
   "execution_count": 4,
   "id": "44967630",
   "metadata": {},
   "outputs": [
    {
     "name": "stdout",
     "output_type": "stream",
     "text": [
      "True\n"
     ]
    }
   ],
   "source": [
    "a = 1.0\n",
    "print(a.is_integer())"
   ]
  },
  {
   "cell_type": "code",
   "execution_count": 5,
   "id": "8650fa28",
   "metadata": {},
   "outputs": [
    {
     "name": "stdout",
     "output_type": "stream",
     "text": [
      "[[ 0  1  2  3  4]\n",
      " [ 5  6  7  8  9]\n",
      " [10 11 12 13 14]\n",
      " [15 16 17 18 19]\n",
      " [20 21 22 23 24]]\n",
      "[[ 0  3  2  6  4]\n",
      " [15 54 21 48 27]\n",
      " [10 33 12 26 14]\n",
      " [30 96 34 72 38]\n",
      " [20 63 22 46 24]]\n",
      "[[ 0  3  2  6  4]\n",
      " [15 54 21 48 27]\n",
      " [10 33 12 26 14]\n",
      " [30 96 34 72 38]\n",
      " [20 63 22 46 24]]\n"
     ]
    }
   ],
   "source": [
    "a = np.arange(25).reshape(5, 5)\n",
    "b = np.array([1, 3, 1, 2, 1])\n",
    "bb = np.diag(b)\n",
    "print(a)\n",
    "print(bb @ a @ bb)\n",
    "\n",
    "print((b[None, :] * a) * b[:, None])"
   ]
  },
  {
   "cell_type": "code",
   "execution_count": 6,
   "id": "e9935713",
   "metadata": {},
   "outputs": [
    {
     "name": "stdout",
     "output_type": "stream",
     "text": [
      "[29  4  9 18 21  3  7]\n"
     ]
    }
   ],
   "source": [
    "a = np.random.choice(50, 7, replace=False)\n",
    "print(a)"
   ]
  },
  {
   "cell_type": "code",
   "execution_count": 7,
   "id": "fcdd3749",
   "metadata": {},
   "outputs": [
    {
     "name": "stdout",
     "output_type": "stream",
     "text": [
      "   A   B\n",
      "1  1  10\n",
      "3  2  20\n",
      "2  3  30\n",
      "0  4  40\n"
     ]
    }
   ],
   "source": [
    "df = pd.DataFrame({\n",
    "    \"A\": [4, 1, 3, 2],\n",
    "    \"B\": [40, 10, 30, 20]\n",
    "})\n",
    "\n",
    "df.sort_values(by=\"A\", inplace=True)\n",
    "print(df)"
   ]
  },
  {
   "cell_type": "code",
   "execution_count": 25,
   "id": "5c571fcf",
   "metadata": {},
   "outputs": [
    {
     "name": "stdout",
     "output_type": "stream",
     "text": [
      "Index(['Exp', 'Assets', 'Qubits', 'N', 'Sum_1', 'Sum_2', 'Coeff', 'Budget',\n",
      "       'var', 'log_var'],\n",
      "      dtype='object')\n",
      "               Exp       N     Sum_1     Sum_2     Coeff       Budget  \\\n",
      "Assets Qubits                                                           \n",
      "3.0    9.0     1.5  1500.0 -0.163121  2.884883  0.000060  1106.367040   \n",
      "4.0    12.0    1.0  1500.0 -0.733525  0.483562  0.000085   999.717090   \n",
      "5.0    15.0    1.0  1500.0  0.092308  0.121872  0.000059   997.727491   \n",
      "6.0    18.0    1.0  1500.0  0.021536  0.053166  0.000049   993.493951   \n",
      "7.0    21.0    1.0  1500.0  0.062054  0.032848  0.000031  1076.231997   \n",
      "\n",
      "                    var   log_var  \n",
      "Assets Qubits                      \n",
      "3.0    9.0     0.001923 -2.716645  \n",
      "4.0    12.0    0.000322 -3.493190  \n",
      "5.0    15.0    0.000081 -4.173048  \n",
      "6.0    18.0    0.000035 -4.464520  \n",
      "7.0    21.0    0.000022 -4.867234  \n"
     ]
    }
   ],
   "source": [
    "df = pd.read_csv(\"./experiments_plateau_X/exp_L0.001_q1/report_Z08.csv\")\n",
    "ddof = 1\n",
    "df[\"var\"] = df[\"Sum_2\"] / (df[\"N\"] - ddof) - (df[\"Sum_1\"] ** 2) / (df[\"N\"] * (df[\"N\"] - ddof))\n",
    "df[\"log_var\"] = np.log10(df[\"var\"])\n",
    "print(df.columns)\n",
    "# print(df)\n",
    "print(df.groupby([\"Assets\", \"Qubits\"]).mean())"
   ]
  },
  {
   "cell_type": "code",
   "execution_count": null,
   "id": "f8f08e33",
   "metadata": {},
   "outputs": [
    {
     "name": "stdout",
     "output_type": "stream",
     "text": [
      "[1.0, 1.0, 0.0, 1.0, 2.0, 1.0]\n"
     ]
    }
   ],
   "source": [
    "a = spin.z(2)   \n",
    "\n",
    "print(a.to_json())"
   ]
  }
 ],
 "metadata": {
  "kernelspec": {
   "display_name": "cudaq",
   "language": "python",
   "name": "python3"
  },
  "language_info": {
   "codemirror_mode": {
    "name": "ipython",
    "version": 3
   },
   "file_extension": ".py",
   "mimetype": "text/x-python",
   "name": "python",
   "nbconvert_exporter": "python",
   "pygments_lexer": "ipython3",
   "version": "3.11.11"
  }
 },
 "nbformat": 4,
 "nbformat_minor": 5
}
