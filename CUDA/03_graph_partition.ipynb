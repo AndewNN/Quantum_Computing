{
 "cells": [
  {
   "cell_type": "code",
   "execution_count": 5,
   "metadata": {},
   "outputs": [],
   "source": [
    "import numpy as np\n",
    "import cudaq\n",
    "from cudaq import spin\n",
    "from typing import List\n",
    "import matplotlib.pyplot as plt\n",
    "\n",
    "cudaq.set_target(\"nvidia\")"
   ]
  },
  {
   "cell_type": "code",
   "execution_count": 6,
   "metadata": {},
   "outputs": [],
   "source": [
    "# We'll use the graph below to illustrate how QAOA can be used to\n",
    "# solve a max cut problem\n",
    "\n",
    "#       v1  0--------------0 v2\n",
    "#           |              | \\\n",
    "#           |              |  \\\n",
    "#           |              |   \\\n",
    "#           |              |    \\\n",
    "#       v0  0--------------0 v3-- 0 v4\n",
    "# The max cut solutions are 01011, 10100, 01010, 10101 .\n",
    "\n",
    "# First we define the graph nodes (i.e., vertices) and edges as lists of integers so that they can be broadcast into\n",
    "# a cudaq.kernel.\n",
    "nodes: List[int] = [0, 1, 2, 3, 4]\n",
    "edges = [[0, 1], [1, 2], [2, 3], [3, 0], [2, 4], [3, 4]]\n",
    "edges_src: List[int] = [edges[i][0] for i in range(len(edges))]\n",
    "edges_tgt: List[int] = [edges[i][1] for i in range(len(edges))]"
   ]
  },
  {
   "cell_type": "code",
   "execution_count": 33,
   "metadata": {},
   "outputs": [],
   "source": [
    "# Problem parameters\n",
    "# The number of qubits we'll need is the same as the number of vertices in our graph\n",
    "qubit_count: int = len(nodes)\n",
    "\n",
    "# We can set the layer count to be any positive integer.  Larger values will create deeper circuits\n",
    "layer_count: int = 7\n",
    "\n",
    "# Each layer of the QAOA kernel contains 2 parameters\n",
    "parameter_count: int = 2 * layer_count\n",
    "\n",
    "\n",
    "@cudaq.kernel\n",
    "def qaoaProblem(qubit_0: cudaq.qubit, qubit_1: cudaq.qubit, alpha: float):\n",
    "    \"\"\"Build the QAOA gate sequence between two qubits that represent an edge of the graph\n",
    "    Parameters\n",
    "    ----------\n",
    "    qubit_0: cudaq.qubit\n",
    "        Qubit representing the first vertex of an edge\n",
    "    qubit_1: cudaq.qubit\n",
    "        Qubit representing the second vertex of an edge\n",
    "    thetas: List[float]\n",
    "        Free variable\n",
    "\n",
    "    Returns\n",
    "    -------\n",
    "    cudaq.Kernel\n",
    "        Subcircuit of the problem kernel for Max-Cut of the graph with a given edge\n",
    "    \"\"\"\n",
    "    x.ctrl(qubit_0, qubit_1)\n",
    "    rz(2.0 * alpha, qubit_1)\n",
    "    x.ctrl(qubit_0, qubit_1)\n",
    "\n",
    "\n",
    "# We now define the kernel_qaoa function which will be the QAOA circuit for our graph\n",
    "# Since the QAOA circuit for max cut depends on the structure of the graph,\n",
    "# we'll feed in global concrete variable values into the kernel_qaoa function for the qubit_count, layer_count, edges_src, edges_tgt.\n",
    "# The types for these variables are restricted to Quake Values (e.g. qubit, int, List[int], ...)\n",
    "# The thetas plaeholder will be our free parameters\n",
    "@cudaq.kernel\n",
    "def kernel_qaoa(qubit_count: int, layer_count: int, edges_src: List[int],\n",
    "                edges_tgt: List[int], thetas: List[float]):\n",
    "    \"\"\"Build the QAOA circuit for max cut of the graph with given edges and nodes\n",
    "    Parameters\n",
    "    ----------\n",
    "    qubit_count: int\n",
    "        Number of qubits in the circuit, which is the same as the number of nodes in our graph\n",
    "    layer_count : int\n",
    "        Number of layers in the QAOA kernel\n",
    "    edges_src: List[int]\n",
    "        List of the first (source) node listed in each edge of the graph, when the edges of the graph are listed as pairs of nodes\n",
    "    edges_tgt: List[int]\n",
    "        List of the second (target) node listed in each edge of the graph, when the edges of the graph are listed as pairs of nodes\n",
    "    thetas: List[float]\n",
    "        Free variables to be optimized\n",
    "\n",
    "    Returns\n",
    "    -------\n",
    "    cudaq.Kernel\n",
    "        QAOA circuit for Max-Cut for max cut of the graph with given edges and nodes\n",
    "    \"\"\"\n",
    "    # Let's allocate the qubits\n",
    "    qreg = cudaq.qvector(qubit_count)\n",
    "    # And then place the qubits in superposition\n",
    "    h(qreg)\n",
    "\n",
    "    # Each layer has two components: the problem kernel and the mixer\n",
    "    for i in range(layer_count):\n",
    "        # Add the problem kernel to each layer\n",
    "        for edge in range(len(edges_src)):\n",
    "            qubitu = edges_src[edge]\n",
    "            qubitv = edges_tgt[edge]\n",
    "            qaoaProblem(qreg[qubitu], qreg[qubitv], thetas[i])\n",
    "        # Add the mixer kernel to each layer\n",
    "        for j in range(qubit_count):\n",
    "            rx(2.0 * thetas[i + layer_count], qreg[j])"
   ]
  },
  {
   "cell_type": "code",
   "execution_count": 34,
   "metadata": {},
   "outputs": [],
   "source": [
    "# The problem Hamiltonian\n",
    "# Define a function to generate the Hamiltonian for a max cut problem using the graph\n",
    "# with the given edges\n",
    "\n",
    "\n",
    "def hamiltonian_max_cut(edges_src, edges_tgt):\n",
    "    \"\"\"Hamiltonian for finding the max cut for the graph with given edges and nodes\n",
    "\n",
    "    Parameters\n",
    "    ----------\n",
    "    edges_src: List[int]\n",
    "        List of the first (source) node listed in each edge of the graph, when the edges of the graph are listed as pairs of nodes\n",
    "    edges_tgt: List[int]\n",
    "        List of the second (target) node listed in each edge of the graph, when the edges of the graph are listed as pairs of nodes\n",
    "\n",
    "    Returns\n",
    "    -------\n",
    "    cudaq.SpinOperator\n",
    "        Hamiltonian for finding the max cut of the graph with given edges\n",
    "    \"\"\"\n",
    "\n",
    "    hamiltonian = 0\n",
    "\n",
    "    for edge in range(len(edges_src)):\n",
    "\n",
    "        qubitu = edges_src[edge]\n",
    "        qubitv = edges_tgt[edge]\n",
    "        # Add a term to the Hamiltonian for the edge (u,v)\n",
    "        hamiltonian += 0.5 * (spin.z(qubitu) * spin.z(qubitv) -\n",
    "                              spin.i(qubitu) * spin.i(qubitv))\n",
    "\n",
    "    return hamiltonian"
   ]
  },
  {
   "cell_type": "code",
   "execution_count": 35,
   "metadata": {},
   "outputs": [
    {
     "name": "stdout",
     "output_type": "stream",
     "text": [
      "Initial parameters =  [0.21810696323572243, -0.20613464375211488, 0.2546877639814583, 0.3657985647468064, 0.37118004688049144, -0.03656087558321203, 0.08564174998504231, 0.21639801853794682, 0.11122286088634259, 0.1743727097033635, -0.36518146001762486, -0.15829741539542244, -0.3467434780387345, 0.28043500852894776]\n"
     ]
    }
   ],
   "source": [
    "# Specify the optimizer and its initial parameters.\n",
    "cudaq.set_random_seed(13)\n",
    "optimizer = cudaq.optimizers.NelderMead()\n",
    "np.random.seed(13)\n",
    "optimizer.initial_parameters = np.random.uniform(-np.pi / 8, np.pi / 8,\n",
    "                                                 parameter_count)\n",
    "print(\"Initial parameters = \", optimizer.initial_parameters)"
   ]
  },
  {
   "cell_type": "code",
   "execution_count": 36,
   "metadata": {},
   "outputs": [
    {
     "name": "stdout",
     "output_type": "stream",
     "text": [
      "[[0, 1], [1, 2], [2, 3], [3, 0], [2, 4], [3, 4]]\n",
      "<class 'cudaq.operator.expressions.OperatorSum'>\n",
      "[0.5+0j] IIZIZ\n",
      "[0.5+0j] IZZII\n",
      "[-3+0j] IIIII\n",
      "[0.5+0j] ZZIII\n",
      "[0.5+0j] IIIZZ\n",
      "[0.5+0j] IIZZI\n",
      "[0.5+0j] ZIIZI\n",
      "\n",
      "optimal_expectation = -4.841262724658009\n",
      "Therefore, the max cut value is at least  4.841262724658009\n",
      "optimal_parameters = [0.44204719810976356, -0.09856634060171598, 0.5582875203918349, 0.9053995256169856, 0.6851623616511653, 0.15663931832716554, 0.02830749678077949, 0.6056838830272067, 0.7592566915028671, 0.04583036967340811, 0.11031582068806059, -0.387799444030262, -0.6706430651434818, 1.3474084775698825]\n"
     ]
    }
   ],
   "source": [
    "cudaq.set_target('nvidia')\n",
    "# cudaq.set_target('qpp-cpu')\n",
    "\n",
    "# Generate the Hamiltonian for our graph\n",
    "hamiltonian = hamiltonian_max_cut(edges_src, edges_tgt)\n",
    "print(edges)\n",
    "print(type(hamiltonian))\n",
    "print(hamiltonian)\n",
    "\n",
    "# Define the objective, return `<state(params) | H | state(params)>`\n",
    "# Note that in the `observe` call we list the kernel, the hamiltonian, and then the concrete global variable values of our kernel\n",
    "# followed by the parameters to be optimized.\n",
    "\n",
    "\n",
    "def objective(parameters):\n",
    "    return cudaq.observe(kernel_qaoa, hamiltonian, qubit_count, layer_count,\n",
    "                         edges_src, edges_tgt, parameters).expectation()\n",
    "\n",
    "\n",
    "# Optimize!\n",
    "optimal_expectation, optimal_parameters = optimizer.optimize(\n",
    "    dimensions=parameter_count, function=objective)\n",
    "\n",
    "# Alternatively we can use the vqe call (just comment out the above code and uncomment the code below)\n",
    "# optimal_expectation, optimal_parameters = cudaq.vqe(\n",
    "#    kernel=kernel_qaoa,\n",
    "#    spin_operator=hamiltonian,\n",
    "#    argument_mapper=lambda parameter_vector: (qubit_count, layer_count, edges_src, edges_tgt, parameter_vector),\n",
    "#    optimizer=optimizer,\n",
    "#    parameter_count=parameter_count)\n",
    "\n",
    "print('optimal_expectation =', optimal_expectation)\n",
    "print('Therefore, the max cut value is at least ', -1 * optimal_expectation)\n",
    "print('optimal_parameters =', optimal_parameters)"
   ]
  },
  {
   "cell_type": "code",
   "execution_count": 39,
   "metadata": {},
   "outputs": [
    {
     "name": "stdout",
     "output_type": "stream",
     "text": [
      "{ 00000:567 00001:910 00010:1341 00011:581 00100:1450 00101:629 00110:40882 00111:446 01000:368 01001:6135 01010:217592 01011:218189 01100:2335 01101:2316 01110:6233 01111:348 10000:339 10001:6210 10010:2271 10011:2381 10100:217736 10101:217689 10110:6175 10111:335 11000:471 11001:40768 11010:568 11011:1386 11100:557 11101:1403 11110:867 11111:522 }\n",
      "\n",
      "[('00000', 567), ('00001', 910), ('00010', 1341), ('00011', 581), ('00100', 1450), ('00101', 629), ('00110', 40882), ('00111', 446), ('01000', 368), ('01001', 6135), ('01010', 217592), ('01011', 218189), ('01100', 2335), ('01101', 2316), ('01110', 6233), ('01111', 348), ('10000', 339), ('10001', 6210), ('10010', 2271), ('10011', 2381), ('10100', 217736), ('10101', 217689), ('10110', 6175), ('10111', 335), ('11000', 471), ('11001', 40768), ('11010', 568), ('11011', 1386), ('11100', 557), ('11101', 1403), ('11110', 867), ('11111', 522)]\n"
     ]
    }
   ],
   "source": [
    "result = cudaq.sample(kernel_qaoa, qubit_count, layer_count, edges_src, edges_tgt, optimal_parameters, shots_count=1000000)\n",
    "print(result)\n",
    "result_list = []\n",
    "for i in result:\n",
    "    result_list.append((i, result[i]))\n",
    "# print(result_dict)\n",
    "result_list = sorted(result_list, key=lambda x: x[0])\n",
    "print(result_list)"
   ]
  },
  {
   "cell_type": "code",
   "execution_count": 40,
   "metadata": {},
   "outputs": [
    {
     "data": {
      "image/png": "[encoded data removed]",
      "text/plain": [
       "<Figure size 1000x600 with 1 Axes>"
      ]
     },
     "metadata": {},
     "output_type": "display_data"
    }
   ],
   "source": [
    "# plt\n",
    "plt.figure(figsize=(10, 6))\n",
    "plt.bar([str(i[0]) for i in result_list], [i[1] for i in result_list])\n",
    "plt.xlabel('Cut')\n",
    "plt.ylabel('Frequency')\n",
    "plt.title('Max Cut Solutions')\n",
    "plt.xticks(rotation=90)\n",
    "plt.show()"
   ]
  }
 ],
 "metadata": {
  "kernelspec": {
   "display_name": "cudaq",
   "language": "python",
   "name": "python3"
  },
  "language_info": {
   "codemirror_mode": {
    "name": "ipython",
    "version": 3
   },
   "file_extension": ".py",
   "mimetype": "text/x-python",
   "name": "python",
   "nbconvert_exporter": "python",
   "pygments_lexer": "ipython3",
   "version": "3.11.11"
  }
 },
 "nbformat": 4,
 "nbformat_minor": 2
}
