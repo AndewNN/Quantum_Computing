{
 "cells": [
  {
   "cell_type": "code",
   "execution_count": 234,
   "metadata": {},
   "outputs": [],
   "source": [
    "import numpy as np\n",
    "import pandas as pd\n",
    "import cudaq\n",
    "from cudaq import spin\n",
    "from typing import List, Tuple\n",
    "import matplotlib.pyplot as plt\n",
    "from math import sqrt\n",
    "import sys\n",
    "import os\n",
    "sys.path.append(os.path.abspath(\"..\"))\n",
    "from Utils.qaoaCUDAQ import po_normalize, ret_cov_to_QUBO, qubo_to_ising, process_ansatz_values\n",
    "\n",
    "import time\n",
    "\n",
    "cudaq.set_target(\"nvidia\")"
   ]
  },
  {
   "cell_type": "code",
   "execution_count": 235,
   "metadata": {},
   "outputs": [],
   "source": [
    "# from qiskit_finance.applications.optimization import PortfolioOptimization\n",
    "# from qiskit_optimization.algorithms import MinimumEigenOptimizer\n",
    "# from qiskit_algorithms import QAOA\n",
    "# from qiskit_algorithms.optimizers import COBYLA\n",
    "# from qiskit.primitives import Sampler\n",
    "# from qiskit_optimization.converters import QuadraticProgramToQubo\n",
    "# from qiskit.circuit.library import QAOAAnsatz\n",
    "# from qiskit_optimization.translators import to_ising\n",
    "# from qiskit.result import marginal_distribution"
   ]
  },
  {
   "cell_type": "markdown",
   "metadata": {},
   "source": [
    "# Preserving Mixer Hamiltonian"
   ]
  },
  {
   "cell_type": "code",
   "execution_count": 236,
   "metadata": {},
   "outputs": [],
   "source": [
    "def pauli_to_int(pauli_str: str) -> int:\n",
    "    value = 0\n",
    "    for i, char in enumerate(pauli_str):\n",
    "        if char == 'I':\n",
    "            value |= (1 << (2 * i)) * 0\n",
    "        elif char == 'X':\n",
    "            value |= (1 << (2 * i)) * 1\n",
    "        elif char == 'Y':\n",
    "            value |= (1 << (2 * i)) * 2\n",
    "        elif char == 'Z':\n",
    "            value |= (1 << (2 * i)) * 3\n",
    "    return value\n",
    "\n",
    "def int_to_pauli(value: int, n_qubits: int) -> str:\n",
    "    pauli_str = \"\"\n",
    "    for i in range(n_qubits):\n",
    "        if (value >> 2*i) % 4 == 0:\n",
    "            pauli_str += 'I'\n",
    "        elif (value >> 2*i) % 4 == 1:\n",
    "            pauli_str += 'X'\n",
    "        elif (value >> 2*i) % 4 == 2:\n",
    "            pauli_str += 'Y'\n",
    "        elif (value >> 2*i) % 4 == 3:\n",
    "            pauli_str += 'Z'\n",
    "    return pauli_str\n",
    "\n",
    "def basis_T_to_pauli(bases: List[str], T: np.ndarray, n_qubits: int) -> Tuple[List[cudaq.pauli_word], List[float]]:\n",
    "    def init_pauli(x, y):\n",
    "        if x == \"0\" and y == \"0\":\n",
    "            A = spin.i(0) + spin.z(0)\n",
    "            # B = spin.i(0) + spin.z(0)\n",
    "            B = 0\n",
    "        elif x == \"0\" and y == \"1\":\n",
    "            A = spin.x(0)\n",
    "            B = -spin.y(0)\n",
    "        elif x == \"1\" and y == \"0\":\n",
    "            A = spin.x(0)\n",
    "            B = spin.y(0)\n",
    "        elif x == \"1\" and y == \"1\":\n",
    "            A = spin.i(0) - spin.z(0)\n",
    "            # B = spin.i(0) - spin.z(0)\n",
    "            B = 0\n",
    "        return A, B\n",
    "\n",
    "    def transform_pauli(x, y, idx, A, B):\n",
    "        if x == \"0\" and y == \"0\":\n",
    "            A_, B_ = 0.5 * A * (spin.i(idx) + spin.z(idx)), 0.5 * B * (spin.i(idx) + spin.z(idx))\n",
    "        elif x == \"0\" and y == \"1\":\n",
    "            A_, B_ = 0.5 * (A * spin.x(idx) + B * spin.y(idx)), 0.5 * (B * spin.x(idx) - A * spin.y(idx))\n",
    "        elif x == \"1\" and y == \"0\":\n",
    "            A_, B_ = 0.5 * (A * spin.x(idx) - B * spin.y(idx)), 0.5 * (B * spin.x(idx) + A * spin.y(idx))\n",
    "        elif x == \"1\" and y == \"1\":\n",
    "            A_, B_ = 0.5 * A * (spin.i(idx) - spin.z(idx)), 0.5 * B * (spin.i(idx) - spin.z(idx))\n",
    "        return A_, B_\n",
    "    \n",
    "    def get_pauli(X, Y):\n",
    "        A, B = init_pauli(X[0], Y[0])\n",
    "        for i in range(1, len(X)):\n",
    "            A, B = transform_pauli(X[i], Y[i], i, A, B)\n",
    "        return A, B\n",
    "        \n",
    "    A_all, B_all = 0, 0\n",
    "    for i in range(T.shape[0]):\n",
    "        for j in range(i + 1, T.shape[1]):\n",
    "            A_now, B_now = get_pauli(bases[i], bases[j])\n",
    "            A_all += T[i, j] * A_now\n",
    "            B_all += T[i, j] * B_now\n",
    "    \n",
    "    ret_s, ret_c = [], []\n",
    "\n",
    "    for i in A_all:\n",
    "        s = i.get_pauli_word(n_qubits)\n",
    "        c = i.evaluate_coefficient()\n",
    "        if len(s) > 0 and c.real != 0:\n",
    "            # ret_s.append(pauli_to_int(s))\n",
    "            ret_s.append(s)\n",
    "            # print(s)\n",
    "            ret_c.append(c.real)\n",
    "    \n",
    "    return ret_s, ret_c\n",
    "            "
   ]
  },
  {
   "cell_type": "markdown",
   "metadata": {},
   "source": [
    "!! warning: Representing Pauli words using INTEGER !!"
   ]
  },
  {
   "cell_type": "code",
   "execution_count": 237,
   "metadata": {},
   "outputs": [
    {
     "name": "stdout",
     "output_type": "stream",
     "text": [
      "1\n"
     ]
    }
   ],
   "source": [
    "print(4**30 // 10**18)"
   ]
  },
  {
   "cell_type": "markdown",
   "metadata": {},
   "source": [
    "# HAMILTONIAN BY CUDAQ"
   ]
  },
  {
   "cell_type": "markdown",
   "metadata": {},
   "source": [
    "### by random values"
   ]
  },
  {
   "cell_type": "code",
   "execution_count": 238,
   "metadata": {},
   "outputs": [
    {
     "name": "stdout",
     "output_type": "stream",
     "text": [
      "[[1.7639658  1.16700461 1.21237927]\n",
      " [1.16700461 1.41266298 1.06497747]\n",
      " [1.21237927 1.06497747 0.14515485]]\n",
      "n_max: [1 1 1]\n",
      "ret_bb: [1.   1.25 1.5 ]\n",
      "n_qubit: 3\n"
     ]
    }
   ],
   "source": [
    "B = 100\n",
    "ret = np.array([1.0, 1.25, 1.5])\n",
    "cov = np.random.rand(3, 3)\n",
    "cov += cov.T\n",
    "print(cov)\n",
    "P = np.array([100, 100, 100])\n",
    "lamb = 0 # Budget Penalty\n",
    "q = 0 # Volatility Weight\n",
    "\n",
    "# P_b, ret_b, cov_b = po_normalize(B, P, ret, cov)\n",
    "P_bb, ret_bb, cov_bb, n_qubit = po_normalize(B, P, ret, cov)\n",
    "\n",
    "print(\"n_qubit:\", n_qubit)\n",
    "\n",
    "QU = -ret_cov_to_QUBO(ret_bb, cov_bb, P_bb, lamb, q)\n",
    "H = qubo_to_ising(QU, lamb)"
   ]
  },
  {
   "cell_type": "code",
   "execution_count": 239,
   "metadata": {},
   "outputs": [
    {
     "name": "stdout",
     "output_type": "stream",
     "text": [
      "Hamiltonian: (-0.5+0i) * I0 + (0.5+0i) * Z0 + (0+0i) + (-0.625+0i) * I1 + (0.625+0i) * Z1 + (-0.75+0i) * I2 + (0.75+0i) * Z2\n",
      "[0, 1, 2]\n",
      "[0.5, 0.625, 0.75]\n",
      "\n",
      "[]\n",
      "[]\n",
      "[]\n"
     ]
    }
   ],
   "source": [
    "print(\"Hamiltonian:\", H)\n",
    "idx_1, coeff_1, idx_2_a, idx_2_b, coeff_2 = process_ansatz_values(H)\n",
    "\n",
    "print(idx_1)\n",
    "print(coeff_1, end=\"\\n\\n\")\n",
    "print(idx_2_a)\n",
    "print(idx_2_b)\n",
    "print(coeff_2)"
   ]
  },
  {
   "cell_type": "markdown",
   "metadata": {},
   "source": [
    "### by stock values"
   ]
  },
  {
   "cell_type": "code",
   "execution_count": 240,
   "metadata": {},
   "outputs": [
    {
     "name": "stdout",
     "output_type": "stream",
     "text": [
      "       AAPL      ABBV       ABT\n",
      "0  0.000772  0.000078  0.000100\n",
      "1  0.000078  0.000279  0.000103\n",
      "2  0.000100  0.000103  0.000256\n",
      "  Ticker  Average_Return       Price\n",
      "0   AAPL        0.001070  195.270004\n",
      "1   ABBV        0.000832  183.259995\n",
      "2    ABT        0.000706  131.300003\n",
      "(3, 3)\n",
      "[0.00107 0.00083 0.00071]\n",
      "[195.27 183.26 131.3 ]\n",
      "['AAPL', 'ABBV', 'ABT']\n"
     ]
    }
   ],
   "source": [
    "data_cov = pd.read_csv(\"../dataset/top_50_us_stocks_data_20250526_011226_covariance.csv\")\n",
    "data_ret_p = pd.read_csv(\"../dataset/top_50_us_stocks_returns_price.csv\")\n",
    "\n",
    "nn = 3\n",
    "# B = 1500\n",
    "B = 270\n",
    "lamb = 0 # Budget Penalty\n",
    "q = 0 # Volatility Weight\n",
    "\n",
    "data_cov = data_cov.drop(\"Ticker\", axis=1).iloc[:nn, :nn]\n",
    "print(data_cov)\n",
    "data_ret_p = data_ret_p.iloc[:nn]\n",
    "# data_ret_p.loc[0, \"Average_Return\"] = 0.002070\n",
    "# data_ret_p.loc[1, \"Average_Return\"] = 0.000050\n",
    "# data_ret_p.loc[2, \"Average_Return\"] = 0.002070\n",
    "print(data_ret_p)\n",
    "stock_names = data_ret_p[\"Ticker\"].tolist()\n",
    "data_ret_p = data_ret_p.drop(\"Ticker\", axis=1)\n",
    "\n",
    "data_cov = data_cov.to_numpy()\n",
    "data_ret_p = data_ret_p.to_numpy()\n",
    "\n",
    "data_ret = data_ret_p[:, 0]\n",
    "data_p = data_ret_p[:, 1]\n",
    "\n",
    "print(data_cov.shape)\n",
    "print(data_ret.round(5))\n",
    "print(data_p.round(2))\n",
    "print(stock_names)"
   ]
  },
  {
   "cell_type": "code",
   "execution_count": 241,
   "metadata": {},
   "outputs": [
    {
     "name": "stdout",
     "output_type": "stream",
     "text": [
      "n_max: [1 1 2]\n",
      "ret_bb: [0.00077414 0.00056486 0.00034333 0.00068666]\n",
      "n_qubit: 4\n"
     ]
    }
   ],
   "source": [
    "P_bb, ret_bb, cov_bb, n_qubit = po_normalize(B, data_p, data_ret, data_cov)\n",
    "\n",
    "print(\"n_qubit:\", n_qubit)\n",
    "\n",
    "QU = -ret_cov_to_QUBO(ret_bb, cov_bb, P_bb, lamb, q)\n",
    "H = qubo_to_ising(QU, lamb).canonicalize()*100"
   ]
  },
  {
   "cell_type": "code",
   "execution_count": 242,
   "metadata": {},
   "outputs": [
    {
     "name": "stdout",
     "output_type": "stream",
     "text": [
      "Hamiltonian: (-0.11845+0i) + (0.0387072+0i) * Z0 + (0.0282431+0i) * Z1 + (0.0171665+0i) * Z2 + (0.034333+0i) * Z3\n",
      "[0, 1, 2, 3]\n",
      "[0.03870724287719349, 0.02824307571581706, 0.017166494380170948, 0.034332988760341895]\n",
      "\n",
      "[]\n",
      "[]\n",
      "[]\n"
     ]
    }
   ],
   "source": [
    "print(\"Hamiltonian:\", H)\n",
    "# print(\"H canonicalized:\", H.canonicalize())\n",
    "idx_1, coeff_1, idx_2_a, idx_2_b, coeff_2 = process_ansatz_values(H)\n",
    "\n",
    "print(idx_1)\n",
    "print(coeff_1, end=\"\\n\\n\")\n",
    "print(idx_2_a)\n",
    "print(idx_2_b)\n",
    "print(coeff_2)"
   ]
  },
  {
   "cell_type": "markdown",
   "metadata": {},
   "source": [
    "# QISKIT QAOA"
   ]
  },
  {
   "cell_type": "code",
   "execution_count": 243,
   "metadata": {},
   "outputs": [],
   "source": [
    "# # cov[0, 2] = cov[2, 0] = 1\n",
    "# print(cov)\n",
    "# portfolio_qis = PortfolioOptimization(\n",
    "#     expected_returns=ret,\n",
    "#     covariances=cov,\n",
    "#     risk_factor=0,\n",
    "#     budget=1,\n",
    "#     bounds=[(0, 1), (0, 1), (0, 1)]\n",
    "# )\n",
    "# qp = portfolio_qis.to_quadratic_program()\n",
    "# converter = QuadraticProgramToQubo()\n",
    "# qubo = converter.convert(qp)\n",
    "# op, offset = to_ising(qubo)"
   ]
  },
  {
   "cell_type": "code",
   "execution_count": 244,
   "metadata": {},
   "outputs": [],
   "source": [
    "# opp = op.to_sparse_list()\n",
    "# print(opp)\n",
    "# idx_1_qis = []\n",
    "# coeff_1_qis = []\n",
    "# idx_2_a_qis, idx_2_b_qis = [], []\n",
    "# coeff_2_qis = []\n",
    "\n",
    "# for i in range(len(opp)):\n",
    "#     if len(opp[i][1]) == 1:\n",
    "#         idx_1_qis.append(opp[i][1][0])\n",
    "#         coeff_1_qis.append(opp[i][2].real)\n",
    "#     elif len(opp[i][1]) == 2:\n",
    "#         idx_2_a_qis.append(opp[i][1][0])\n",
    "#         idx_2_b_qis.append(opp[i][1][1])\n",
    "#         coeff_2_qis.append(opp[i][2].real)\n",
    "\n",
    "# print(idx_1_qis)\n",
    "# print(coeff_1_qis, end=\"\\n\\n\")\n",
    "# print(idx_2_a_qis)\n",
    "# print(idx_2_b_qis)\n",
    "# print(coeff_2_qis)"
   ]
  },
  {
   "cell_type": "code",
   "execution_count": 245,
   "metadata": {},
   "outputs": [],
   "source": [
    "# qaoa_ansatz = QAOAAnsatz(op, reps=2)\n",
    "# decomposed = qaoa_ansatz.decompose(reps=2)\n",
    "# decomposed.draw(output='text')"
   ]
  },
  {
   "cell_type": "code",
   "execution_count": 246,
   "metadata": {},
   "outputs": [],
   "source": [
    "# qaoa = QAOA(\n",
    "#     optimizer=COBYLA(maxiter=1000),\n",
    "#     reps=2,\n",
    "#     sampler=Sampler()\n",
    "# )\n",
    "\n",
    "# meo = MinimumEigenOptimizer(qaoa)\n",
    "\n",
    "# # result = meo.solve(qubo)"
   ]
  },
  {
   "cell_type": "code",
   "execution_count": 247,
   "metadata": {},
   "outputs": [],
   "source": [
    "# qaoa_result = qaoa.compute_minimum_eigenvalue(operator=op)\n",
    "# print(\"Optimized parameters:\", qaoa_result.optimal_point)"
   ]
  },
  {
   "cell_type": "code",
   "execution_count": 248,
   "metadata": {},
   "outputs": [],
   "source": [
    "# counts = qaoa_result.eigenstate\n",
    "# counts = np.array(list(counts.values()))"
   ]
  },
  {
   "cell_type": "code",
   "execution_count": 249,
   "metadata": {},
   "outputs": [],
   "source": [
    "# plt.figure(figsize=(10, 5))\n",
    "# # plt.bar(range(2**qubit_count), list(result.values()))\n",
    "# plt.bar(range(2**op.num_qubits), counts)\n",
    "# # plt.xlabel('Cut')\n",
    "# plt.ylabel('Frequency')\n",
    "# plt.title('Distribution')\n",
    "# # plt.gca().set_xticklabels([])\n",
    "# plt.xticks(rotation=90)\n",
    "# plt.xticks(visible=False)\n",
    "# plt.show()"
   ]
  },
  {
   "cell_type": "markdown",
   "metadata": {},
   "source": [
    "# Dedug Circuit"
   ]
  },
  {
   "cell_type": "code",
   "execution_count": 250,
   "metadata": {},
   "outputs": [
    {
     "name": "stdout",
     "output_type": "stream",
     "text": [
      "{ 0001:33443 0100:33428 1000:33129 }\n",
      "\n",
      "\n"
     ]
    }
   ],
   "source": [
    "@cudaq.kernel\n",
    "def kk():\n",
    "    a = cudaq.qvector([0.+0j, 0.577350269, 0.577350269, 0., 0., 0., 0., 0., 0.577350269, 0., 0., 0., 0., 0., 0., 0.])\n",
    "    # a = cudaq.qvector([0.+0j, 0., 0., 0., 0., 0., 0., 0., 1., 0., 0., 0., 0., 0., 0., 0.])\n",
    "\n",
    "    # h(a)\n",
    "    # exp_pauli(3.14 / 4, a, \"IXIX\")\n",
    "    # exp_pauli(3.14 / 4, a, \"IYIY\")\n",
    "    \n",
    "result = cudaq.sample(kk, shots_count=int(1e5))\n",
    "print(result)\n",
    "print(cudaq.draw(kk))"
   ]
  },
  {
   "cell_type": "markdown",
   "metadata": {},
   "source": [
    "# CUDA QAOA"
   ]
  },
  {
   "cell_type": "code",
   "execution_count": 251,
   "metadata": {},
   "outputs": [],
   "source": [
    "@cudaq.kernel\n",
    "def kernel_qaoa_ham(qubit_count: int, layer_count: int, thetas: List[float], idx_1: List[int], coeff_1: List[float], idx_2_a: List[int], idx_2_b: List[int], coeff_2: List[float], mixer_str: List[cudaq.pauli_word], mixer_coeff: List[float]):\n",
    "    # qreg = cudaq.qvector(qubit_count)\n",
    "    # h(qreg)\n",
    "\n",
    "    # qreg = cudaq.qvector([0.+0j, 0.577350269, 0.577350269, 0., 0.577350269, 0., 0., 0.])\n",
    "    qreg = cudaq.qvector([0.+0j, 0.577350269, 0.577350269, 0., 0., 0., 0., 0., 0.577350269, 0., 0., 0., 0., 0., 0., 0.])\n",
    "    \n",
    "    for i in range(layer_count):\n",
    "\n",
    "        for j in range(len(idx_1)):\n",
    "            rz(2 * coeff_1[j] * thetas[i], qreg[idx_1[j]])\n",
    "        \n",
    "        for j in range(len(idx_2_a)):\n",
    "            x.ctrl(qreg[idx_2_a[j]], qreg[idx_2_b[j]])\n",
    "            rz(2 * coeff_2[j] * thetas[i], qreg[idx_2_b[j]])\n",
    "            x.ctrl(qreg[idx_2_a[j]], qreg[idx_2_b[j]])\n",
    "\n",
    "        # exp_pauli(0.5, qreg, \"XXI\")\n",
    "        for j in range(len(mixer_str)):\n",
    "            exp_pauli(mixer_coeff[j] * thetas[layer_count + i], qreg, mixer_str[j])\n",
    "\n",
    "        # for j in range(qubit_count):\n",
    "        #     rx(2.0 * thetas[layer_count + i], qreg[j])\n"
   ]
  },
  {
   "cell_type": "code",
   "execution_count": 252,
   "metadata": {},
   "outputs": [],
   "source": [
    "idx_1_use, coeff_1_use = idx_1, coeff_1\n",
    "idx_2_a_use, idx_2_b_use, coeff_2_use = idx_2_a, idx_2_b, coeff_2\n",
    "\n",
    "# idx_1_use, coeff_1_use = idx_1_qis, coeff_1_qis\n",
    "# idx_2_a_use, idx_2_b_use, coeff_2_use = idx_2_a_qis, idx_2_b_qis, coeff_2_qis"
   ]
  },
  {
   "cell_type": "code",
   "execution_count": 253,
   "metadata": {},
   "outputs": [
    {
     "name": "stdout",
     "output_type": "stream",
     "text": [
      "(-0.11845+0i) + (0.0387072+0i) * Z0 + (0.0282431+0i) * Z1 + (0.0171665+0i) * Z2 + (0.034333+0i) * Z3\n",
      "4\n"
     ]
    }
   ],
   "source": [
    "print(H)\n",
    "print(n_qubit)"
   ]
  },
  {
   "cell_type": "code",
   "execution_count": 254,
   "metadata": {},
   "outputs": [],
   "source": [
    "# bases = [\"0001\", \"0010\"]\n",
    "# T = np.array([[0, 1], [1, 0]])\n",
    "# mixer_s, mixer_c, A_all = basis_T_to_pauli(bases, T, len(bases[0]))\n",
    "# print(f\"{mixer_s}\\n{mixer_c}\")\n",
    "\n",
    "# print(A_all.to_matrix())\n",
    "\n",
    "# # AA_all = A_all.copy()\n",
    "# AA_all = 0.25 * spin.x(0) * spin.x(2) + 0.25 * spin.x(0) * spin.z(1) * spin.x(2) \\\n",
    "#        + 0.25 * spin.y(0) * spin.y(2) + 0.25 * spin.y(0) * spin.z(1) * spin.y(2)\n",
    "# print(AA_all.to_matrix())"
   ]
  },
  {
   "cell_type": "code",
   "execution_count": 255,
   "metadata": {},
   "outputs": [
    {
     "name": "stdout",
     "output_type": "stream",
     "text": [
      "['XXII', 'XXIZ', 'XXZI', 'XXZZ', 'YYII', 'YYIZ', 'YYZI', 'YYZZ', 'XIIX', 'XIZX', 'XZIX', 'XZZX', 'YIIY', 'YIZY', 'YZIY', 'YZZY', 'IXIX', 'IXZX', 'ZXIX', 'ZXZX', 'IYIY', 'IYZY', 'ZYIY', 'ZYZY']\n",
      "[0.125, 0.125, 0.125, 0.125, 0.125, 0.125, 0.125, 0.125, 0.125, 0.125, 0.125, 0.125, 0.125, 0.125, 0.125, 0.125, 0.125, 0.125, 0.125, 0.125, 0.125, 0.125, 0.125, 0.125]\n"
     ]
    }
   ],
   "source": [
    "# bases = [\"100\", \"010\", \"001\"]\n",
    "# T = np.array([[0, 1, 1], [1, 0, 1], [1, 1, 0]])\n",
    "\n",
    "bases = [\"1000\", \"0100\", \"0001\"]\n",
    "T = np.array([[0, 1, 1], [1, 0, 1], [1, 1, 0]])\n",
    "# T = np.array([[0, 0, 1], [0, 0, 0], [0, 0, 0]])\n",
    "# T = np.array(\n",
    "#     [[0, 1, 0, 1],\n",
    "#      [1, 0, 1, 0],\n",
    "#      [0, 1, 0, 1],\n",
    "#      [1, 0, 1, 0]]\n",
    "# )\n",
    "\n",
    "mixer_s, mixer_c = basis_T_to_pauli(bases, T, n_qubit)\n",
    "\n",
    "# ss_i = [int_to_pauli(s, n_qubit) for s in mixer_s]\n",
    "# print(f\"{mixer_s}\\n{ss_i}\\n{mixer_c}\")\n",
    "\n",
    "print(f\"{mixer_s}\\n{mixer_c}\")"
   ]
  },
  {
   "cell_type": "code",
   "execution_count": 256,
   "metadata": {},
   "outputs": [
    {
     "name": "stdout",
     "output_type": "stream",
     "text": [
      "     ╭─────────────╮╭───╮                        ╭───╮╭───╮          »\n",
      "q0 : ┤ rz(0.03871) ├┤ h ├──●──────────────────●──┤ h ├┤ h ├──●───────»\n",
      "     ├─────────────┤├───┤╭─┴─╮╭────────────╮╭─┴─╮├───┤├───┤╭─┴─╮     »\n",
      "q1 : ┤ rz(0.02824) ├┤ h ├┤ x ├┤ rz(-0.125) ├┤ x ├┤ h ├┤ h ├┤ x ├──●──»\n",
      "     ├─────────────┤╰───╯╰───╯╰────────────╯╰───╯╰───╯╰───╯╰───╯  │  »\n",
      "q2 : ┤ rz(0.01717) ├──────────────────────────────────────────────┼──»\n",
      "     ├─────────────┤                                            ╭─┴─╮»\n",
      "q3 : ┤ rz(0.03433) ├────────────────────────────────────────────┤ x ├»\n",
      "     ╰─────────────╯                                            ╰───╯»\n",
      "\n",
      "################################################################################\n",
      "\n",
      "                        ╭───╮╭───╮                                  ╭───╮╭───╮»\n",
      "─────────────────────●──┤ h ├┤ h ├──●────────────────────────────●──┤ h ├┤ h ├»\n",
      "                   ╭─┴─╮├───┤├───┤╭─┴─╮                        ╭─┴─╮├───┤├───┤»\n",
      "────────────────●──┤ x ├┤ h ├┤ h ├┤ x ├──●──────────────────●──┤ x ├┤ h ├┤ h ├»\n",
      "                │  ╰───╯╰───╯╰───╯╰───╯╭─┴─╮╭────────────╮╭─┴─╮╰───╯╰───╯╰───╯»\n",
      "────────────────┼──────────────────────┤ x ├┤ rz(-0.125) ├┤ x ├───────────────»\n",
      "╭────────────╮╭─┴─╮                    ╰───╯╰────────────╯╰───╯               »\n",
      "┤ rz(-0.125) ├┤ x ├───────────────────────────────────────────────────────────»\n",
      "╰────────────╯╰───╯                                                           »\n",
      "\n",
      "################################################################################\n",
      "\n",
      "                                            ╭───╮╭───────────╮     »\n",
      "──●──────────────────────────────────────●──┤ h ├┤ rx(1.571) ├──●──»\n",
      "╭─┴─╮                                  ╭─┴─╮├───┤├───────────┤╭─┴─╮»\n",
      "┤ x ├──●────────────────────────────●──┤ x ├┤ h ├┤ rx(1.571) ├┤ x ├»\n",
      "╰───╯╭─┴─╮                        ╭─┴─╮╰───╯╰───╯╰───────────╯╰───╯»\n",
      "─────┤ x ├──●──────────────────●──┤ x ├────────────────────────────»\n",
      "     ╰───╯╭─┴─╮╭────────────╮╭─┴─╮╰───╯                            »\n",
      "──────────┤ x ├┤ rz(-0.125) ├┤ x ├─────────────────────────────────»\n",
      "          ╰───╯╰────────────╯╰───╯                                 »\n",
      "\n",
      "################################################################################\n",
      "\n",
      "                   ╭────────────╮╭───────────╮                             »\n",
      "────────────────●──┤ rx(-1.571) ├┤ rx(1.571) ├──●──────────────────────────»\n",
      "╭────────────╮╭─┴─╮├────────────┤├───────────┤╭─┴─╮                        »\n",
      "┤ rz(-0.125) ├┤ x ├┤ rx(-1.571) ├┤ rx(1.571) ├┤ x ├──●──────────────────●──»\n",
      "╰────────────╯╰───╯╰────────────╯╰───────────╯╰───╯  │                  │  »\n",
      "─────────────────────────────────────────────────────┼──────────────────┼──»\n",
      "                                                   ╭─┴─╮╭────────────╮╭─┴─╮»\n",
      "───────────────────────────────────────────────────┤ x ├┤ rz(-0.125) ├┤ x ├»\n",
      "                                                   ╰───╯╰────────────╯╰───╯»\n",
      "\n",
      "################################################################################\n",
      "\n",
      "     ╭────────────╮╭───────────╮                                  »\n",
      "──●──┤ rx(-1.571) ├┤ rx(1.571) ├──●────────────────────────────●──»\n",
      "╭─┴─╮├────────────┤├───────────┤╭─┴─╮                        ╭─┴─╮»\n",
      "┤ x ├┤ rx(-1.571) ├┤ rx(1.571) ├┤ x ├──●──────────────────●──┤ x ├»\n",
      "╰───╯╰────────────╯╰───────────╯╰───╯╭─┴─╮╭────────────╮╭─┴─╮╰───╯»\n",
      "─────────────────────────────────────┤ x ├┤ rz(-0.125) ├┤ x ├─────»\n",
      "                                     ╰───╯╰────────────╯╰───╯     »\n",
      "──────────────────────────────────────────────────────────────────»\n",
      "                                                                  »\n",
      "\n",
      "################################################################################\n",
      "\n",
      "╭────────────╮╭───────────╮                                            »\n",
      "┤ rx(-1.571) ├┤ rx(1.571) ├──●──────────────────────────────────────●──»\n",
      "├────────────┤├───────────┤╭─┴─╮                                  ╭─┴─╮»\n",
      "┤ rx(-1.571) ├┤ rx(1.571) ├┤ x ├──●────────────────────────────●──┤ x ├»\n",
      "╰────────────╯╰───────────╯╰───╯╭─┴─╮                        ╭─┴─╮╰───╯»\n",
      "────────────────────────────────┤ x ├──●──────────────────●──┤ x ├─────»\n",
      "                                ╰───╯╭─┴─╮╭────────────╮╭─┴─╮├───┤     »\n",
      "─────────────────────────────────────┤ x ├┤ rz(-0.125) ├┤ x ├┤ h ├─────»\n",
      "                                     ╰───╯╰────────────╯╰───╯╰───╯     »\n",
      "\n",
      "################################################################################\n",
      "\n",
      "╭────────────╮╭───╮                        ╭───╮╭───╮                        »\n",
      "┤ rx(-1.571) ├┤ h ├──●──────────────────●──┤ h ├┤ h ├──●─────────────────────»\n",
      "├────────────┤╰───╯  │                  │  ╰───╯╰───╯  │                     »\n",
      "┤ rx(-1.571) ├───────┼──────────────────┼──────────────┼─────────────────────»\n",
      "╰────────────╯       │                  │            ╭─┴─╮                   »\n",
      "─────────────────────┼──────────────────┼────────────┤ x ├──●────────────────»\n",
      "                   ╭─┴─╮╭────────────╮╭─┴─╮╭───╮╭───╮╰───╯╭─┴─╮╭────────────╮»\n",
      "───────────────────┤ x ├┤ rz(-0.125) ├┤ x ├┤ h ├┤ h ├─────┤ x ├┤ rz(-0.125) ├»\n",
      "                   ╰───╯╰────────────╯╰───╯╰───╯╰───╯     ╰───╯╰────────────╯»\n",
      "\n",
      "################################################################################\n",
      "\n",
      "          ╭───╮╭───╮                                  ╭───╮╭───╮          »\n",
      "───────●──┤ h ├┤ h ├──●────────────────────────────●──┤ h ├┤ h ├──●───────»\n",
      "       │  ╰───╯╰───╯╭─┴─╮                        ╭─┴─╮╰───╯╰───╯╭─┴─╮     »\n",
      "───────┼────────────┤ x ├──●──────────────────●──┤ x ├──────────┤ x ├──●──»\n",
      "     ╭─┴─╮          ╰───╯  │                  │  ╰───╯          ╰───╯╭─┴─╮»\n",
      "──●──┤ x ├─────────────────┼──────────────────┼──────────────────────┤ x ├»\n",
      "╭─┴─╮├───┤╭───╮          ╭─┴─╮╭────────────╮╭─┴─╮╭───╮╭───╮          ╰───╯»\n",
      "┤ x ├┤ h ├┤ h ├──────────┤ x ├┤ rz(-0.125) ├┤ x ├┤ h ├┤ h ├───────────────»\n",
      "╰───╯╰───╯╰───╯          ╰───╯╰────────────╯╰───╯╰───╯╰───╯               »\n",
      "\n",
      "################################################################################\n",
      "\n",
      "                                          ╭───╮╭───────────╮     »\n",
      "───────────────────────────────────●──────┤ h ├┤ rx(1.571) ├──●──»\n",
      "                                 ╭─┴─╮    ╰───╯╰───────────╯  │  »\n",
      "──────────────────────────●──────┤ x ├────────────────────────┼──»\n",
      "                        ╭─┴─╮    ╰───╯                        │  »\n",
      "──●──────────────────●──┤ x ├─────────────────────────────────┼──»\n",
      "╭─┴─╮╭────────────╮╭─┴─╮├───┤╭───────────╮                  ╭─┴─╮»\n",
      "┤ x ├┤ rz(-0.125) ├┤ x ├┤ h ├┤ rx(1.571) ├──────────────────┤ x ├»\n",
      "╰───╯╰────────────╯╰───╯╰───╯╰───────────╯                  ╰───╯»\n",
      "\n",
      "################################################################################\n",
      "\n",
      "                   ╭────────────╮╭───────────╮                             »\n",
      "────────────────●──┤ rx(-1.571) ├┤ rx(1.571) ├──●──────────────────────────»\n",
      "                │  ╰────────────╯╰───────────╯  │                          »\n",
      "────────────────┼───────────────────────────────┼──────────────────────────»\n",
      "                │                             ╭─┴─╮                        »\n",
      "────────────────┼─────────────────────────────┤ x ├──●──────────────────●──»\n",
      "╭────────────╮╭─┴─╮╭────────────╮╭───────────╮╰───╯╭─┴─╮╭────────────╮╭─┴─╮»\n",
      "┤ rz(-0.125) ├┤ x ├┤ rx(-1.571) ├┤ rx(1.571) ├─────┤ x ├┤ rz(-0.125) ├┤ x ├»\n",
      "╰────────────╯╰───╯╰────────────╯╰───────────╯     ╰───╯╰────────────╯╰───╯»\n",
      "\n",
      "################################################################################\n",
      "\n",
      "              ╭────────────╮╭───────────╮                             »\n",
      "──────●───────┤ rx(-1.571) ├┤ rx(1.571) ├──●──────────────────────────»\n",
      "      │       ╰────────────╯╰───────────╯╭─┴─╮                        »\n",
      "──────┼──────────────────────────────────┤ x ├──●──────────────────●──»\n",
      "    ╭─┴─╮                                ╰───╯  │                  │  »\n",
      "────┤ x ├───────────────────────────────────────┼──────────────────┼──»\n",
      "╭───┴───┴────╮╭───────────╮                   ╭─┴─╮╭────────────╮╭─┴─╮»\n",
      "┤ rx(-1.571) ├┤ rx(1.571) ├───────────────────┤ x ├┤ rz(-0.125) ├┤ x ├»\n",
      "╰────────────╯╰───────────╯                   ╰───╯╰────────────╯╰───╯»\n",
      "\n",
      "################################################################################\n",
      "\n",
      "              ╭────────────╮╭───────────╮                                  »\n",
      "──────●───────┤ rx(-1.571) ├┤ rx(1.571) ├──●───────────────────────────────»\n",
      "    ╭─┴─╮     ╰────────────╯╰───────────╯╭─┴─╮                             »\n",
      "────┤ x ├────────────────────────────────┤ x ├──●──────────────────────────»\n",
      "    ╰───╯                                ╰───╯╭─┴─╮                        »\n",
      "──────────────────────────────────────────────┤ x ├──●──────────────────●──»\n",
      "╭────────────╮╭───────────╮                   ╰───╯╭─┴─╮╭────────────╮╭─┴─╮»\n",
      "┤ rx(-1.571) ├┤ rx(1.571) ├────────────────────────┤ x ├┤ rz(-0.125) ├┤ x ├»\n",
      "╰────────────╯╰───────────╯                        ╰───╯╰────────────╯╰───╯»\n",
      "\n",
      "################################################################################\n",
      "\n",
      "                   ╭────────────╮                                            »\n",
      "────────────────●──┤ rx(-1.571) ├────────────────────────────────────────────»\n",
      "              ╭─┴─╮╰───┬───┬────╯                        ╭───╮╭───╮          »\n",
      "──────●───────┤ x ├────┤ h ├───────●──────────────────●──┤ h ├┤ h ├──●───────»\n",
      "    ╭─┴─╮     ╰───╯    ╰───╯       │                  │  ╰───╯╰───╯╭─┴─╮     »\n",
      "────┤ x ├──────────────────────────┼──────────────────┼────────────┤ x ├──●──»\n",
      "╭───┴───┴────╮╭───╮              ╭─┴─╮╭────────────╮╭─┴─╮╭───╮╭───╮╰───╯╭─┴─╮»\n",
      "┤ rx(-1.571) ├┤ h ├──────────────┤ x ├┤ rz(-0.125) ├┤ x ├┤ h ├┤ h ├─────┤ x ├»\n",
      "╰────────────╯╰───╯              ╰───╯╰────────────╯╰───╯╰───╯╰───╯     ╰───╯»\n",
      "\n",
      "################################################################################\n",
      "\n",
      "                                                                              »\n",
      "────────────────────────────────────●────────────────────────────●────────────»\n",
      "                        ╭───╮╭───╮╭─┴─╮                        ╭─┴─╮╭───╮╭───╮»\n",
      "─────────────────────●──┤ h ├┤ h ├┤ x ├──●──────────────────●──┤ x ├┤ h ├┤ h ├»\n",
      "                   ╭─┴─╮╰───╯╰───╯╰───╯  │                  │  ╰───╯╰───╯╰───╯»\n",
      "────────────────●──┤ x ├─────────────────┼──────────────────┼─────────────────»\n",
      "╭────────────╮╭─┴─╮├───┤╭───╮          ╭─┴─╮╭────────────╮╭─┴─╮╭───╮╭───╮     »\n",
      "┤ rz(-0.125) ├┤ x ├┤ h ├┤ h ├──────────┤ x ├┤ rz(-0.125) ├┤ x ├┤ h ├┤ h ├─────»\n",
      "╰────────────╯╰───╯╰───╯╰───╯          ╰───╯╰────────────╯╰───╯╰───╯╰───╯     »\n",
      "\n",
      "################################################################################\n",
      "\n",
      "                                                                           »\n",
      "──●──────────────────────────────────────────●─────────────────────────────»\n",
      "╭─┴─╮                                      ╭─┴─╮    ╭───╮╭───────────╮     »\n",
      "┤ x ├──●────────────────────────────●──────┤ x ├────┤ h ├┤ rx(1.571) ├──●──»\n",
      "╰───╯╭─┴─╮                        ╭─┴─╮    ╰───╯    ╰───╯╰───────────╯  │  »\n",
      "─────┤ x ├──●──────────────────●──┤ x ├─────────────────────────────────┼──»\n",
      "     ╰───╯╭─┴─╮╭────────────╮╭─┴─╮├───┤╭───────────╮                  ╭─┴─╮»\n",
      "──────────┤ x ├┤ rz(-0.125) ├┤ x ├┤ h ├┤ rx(1.571) ├──────────────────┤ x ├»\n",
      "          ╰───╯╰────────────╯╰───╯╰───╯╰───────────╯                  ╰───╯»\n",
      "\n",
      "################################################################################\n",
      "\n",
      "                                                                           »\n",
      "───────────────────────────────────────────────────────────────────────────»\n",
      "                   ╭────────────╮╭───────────╮                             »\n",
      "────────────────●──┤ rx(-1.571) ├┤ rx(1.571) ├──●──────────────────────────»\n",
      "                │  ╰────────────╯╰───────────╯╭─┴─╮                        »\n",
      "────────────────┼─────────────────────────────┤ x ├──●──────────────────●──»\n",
      "╭────────────╮╭─┴─╮╭────────────╮╭───────────╮╰───╯╭─┴─╮╭────────────╮╭─┴─╮»\n",
      "┤ rz(-0.125) ├┤ x ├┤ rx(-1.571) ├┤ rx(1.571) ├─────┤ x ├┤ rz(-0.125) ├┤ x ├»\n",
      "╰────────────╯╰───╯╰────────────╯╰───────────╯     ╰───╯╰────────────╯╰───╯»\n",
      "\n",
      "################################################################################\n",
      "\n",
      "                                                                      »\n",
      "───────────────────────────────────────────●──────────────────────────»\n",
      "              ╭────────────╮╭───────────╮╭─┴─╮                        »\n",
      "──────●───────┤ rx(-1.571) ├┤ rx(1.571) ├┤ x ├──●──────────────────●──»\n",
      "    ╭─┴─╮     ╰────────────╯╰───────────╯╰───╯  │                  │  »\n",
      "────┤ x ├───────────────────────────────────────┼──────────────────┼──»\n",
      "╭───┴───┴────╮╭───────────╮                   ╭─┴─╮╭────────────╮╭─┴─╮»\n",
      "┤ rx(-1.571) ├┤ rx(1.571) ├───────────────────┤ x ├┤ rz(-0.125) ├┤ x ├»\n",
      "╰────────────╯╰───────────╯                   ╰───╯╰────────────╯╰───╯»\n",
      "\n",
      "################################################################################\n",
      "\n",
      "                                                                           »\n",
      "──────●────────────────────────────────────●───────────────────────────────»\n",
      "    ╭─┴─╮     ╭────────────╮╭───────────╮╭─┴─╮                             »\n",
      "────┤ x ├─────┤ rx(-1.571) ├┤ rx(1.571) ├┤ x ├──●──────────────────────────»\n",
      "    ╰───╯     ╰────────────╯╰───────────╯╰───╯╭─┴─╮                        »\n",
      "──────────────────────────────────────────────┤ x ├──●──────────────────●──»\n",
      "╭────────────╮╭───────────╮                   ╰───╯╭─┴─╮╭────────────╮╭─┴─╮»\n",
      "┤ rx(-1.571) ├┤ rx(1.571) ├────────────────────────┤ x ├┤ rz(-0.125) ├┤ x ├»\n",
      "╰────────────╯╰───────────╯                        ╰───╯╰────────────╯╰───╯»\n",
      "\n",
      "################################################################################\n",
      "\n",
      "                                 \n",
      "────────────────●────────────────\n",
      "              ╭─┴─╮╭────────────╮\n",
      "──────●───────┤ x ├┤ rx(-1.571) ├\n",
      "    ╭─┴─╮     ╰───╯╰────────────╯\n",
      "────┤ x ├────────────────────────\n",
      "╭───┴───┴────╮                   \n",
      "┤ rx(-1.571) ├───────────────────\n",
      "╰────────────╯                   \n",
      "\n"
     ]
    }
   ],
   "source": [
    "print(cudaq.draw(kernel_qaoa_ham, n_qubit, 1, [0.5]*4, idx_1_use, coeff_1_use, idx_2_a_use, idx_2_b_use, coeff_2_use, mixer_s, mixer_c)) "
   ]
  },
  {
   "cell_type": "markdown",
   "metadata": {},
   "source": [
    "# Ansatz Architecture"
   ]
  },
  {
   "cell_type": "code",
   "execution_count": 277,
   "metadata": {},
   "outputs": [
    {
     "name": "stdout",
     "output_type": "stream",
     "text": [
      "Initial parameters =  [-0.37682028113795435, -0.36084381786743297, 0.11960276172958884, -0.3294021181301612, -0.014681400126058619, -0.3919414908084854, -0.03779951722933361, 0.27908966311785577, 0.01451902020512047, 0.1727481802736488]\n"
     ]
    }
   ],
   "source": [
    "idx = 3\n",
    "layer_count = 5\n",
    "\n",
    "parameter_count = layer_count * 2\n",
    "\n",
    "optimizer1 = cudaq.optimizers.NelderMead()\n",
    "optimizer2 = cudaq.optimizers.COBYLA()\n",
    "optimizer3 = cudaq.optimizers.SPSA()\n",
    "optimizer4 = cudaq.optimizers.Adam()\n",
    "optimizer5 = cudaq.optimizers.GradientDescent()\n",
    "\n",
    "optimizer = [optimizer1, optimizer2, optimizer3, optimizer4, optimizer5][idx]\n",
    "optimizer_names = [\"Nelder-Mead\", \"COBYLA\", \"SPSA\", \"Adam\", \"GradientDescent\"]\n",
    "optimizer_name = optimizer_names[idx]\n",
    "FIND_GRAD = True if optimizer.requires_gradients() else False\n",
    "\n",
    "optimizer.max_iterations = 1000\n",
    "\n",
    "optimizer.initial_parameters = np.random.uniform(-np.pi / 8, np.pi / 8, parameter_count)\n",
    "print(\"Initial parameters = \", optimizer.initial_parameters)"
   ]
  },
  {
   "cell_type": "code",
   "execution_count": 278,
   "metadata": {},
   "outputs": [
    {
     "name": "stdout",
     "output_type": "stream",
     "text": [
      "None\n"
     ]
    }
   ],
   "source": [
    "print(optimizer.episodes)"
   ]
  },
  {
   "cell_type": "markdown",
   "metadata": {},
   "source": [
    "# Optimize"
   ]
  },
  {
   "cell_type": "code",
   "execution_count": 279,
   "metadata": {},
   "outputs": [
    {
     "name": "stdout",
     "output_type": "stream",
     "text": [
      "Required Gradient =  True\n"
     ]
    }
   ],
   "source": [
    "expectations = []\n",
    "\n",
    "def cost_func(parameters):\n",
    "    # return cudaq.observe(kernel_qaoa, H, n_qubit, layer_count, parameters, 0).expectation()\n",
    "    return cudaq.observe(kernel_qaoa_ham, H, n_qubit, layer_count, parameters, idx_1_use, coeff_1_use, idx_2_a_use, idx_2_b_use, coeff_2_use, mixer_s, mixer_c).expectation()\n",
    "\n",
    "def objective(parameters):\n",
    "    expectation = cost_func(parameters)\n",
    "    expectations.append(expectation)\n",
    "    return expectation\n",
    "\n",
    "def objective_grad_cuda(parameters):\n",
    "    expectation = cost_func(parameters)\n",
    "    expectations.append(expectation)\n",
    "\n",
    "    gradient = cudaq.gradients.ForwardDifference().compute(parameters, cost_func, expectation)\n",
    "\n",
    "    return expectation, gradient\n",
    "\n",
    "objective_func = objective_grad_cuda if FIND_GRAD else objective\n",
    "print(\"Required Gradient = \", FIND_GRAD)"
   ]
  },
  {
   "cell_type": "code",
   "execution_count": 280,
   "metadata": {},
   "outputs": [
    {
     "name": "stdout",
     "output_type": "stream",
     "text": [
      "optimal_expectation = -0.07697710602303066\n",
      "optimal_parameters = [-0.5017966928143522, -0.3087190163100496, 0.33574226952017766, -0.4103258648136579, 0.1336863012766582, -0.8391012287904095, -0.35476938068211705, 0.7212987000304633, -0.3883020140864516, 0.2873297812965081]\n",
      "Time taken =  5.999079465866089\n"
     ]
    }
   ],
   "source": [
    "st = time.time()\n",
    "optimal_expectation, optimal_parameters = optimizer.optimize(\n",
    "    dimensions=parameter_count, function=objective_func)\n",
    "et = time.time()\n",
    "\n",
    "if not os.path.exists(\"./output_PO_mixer\"):\n",
    "    os.makedirs(\"./output_PO_mixer\")\n",
    "np.save(f\"./output_PO_mixer/expectations_{optimizer_name}.npy\", np.array(expectations))\n",
    "\n",
    "print('optimal_expectation =', optimal_expectation)\n",
    "print('optimal_parameters =', optimal_parameters)\n",
    "print('Time taken = ', et - st)"
   ]
  },
  {
   "cell_type": "code",
   "execution_count": 281,
   "metadata": {},
   "outputs": [
    {
     "name": "stdout",
     "output_type": "stream",
     "text": [
      "Sampling 1000000 times...\n",
      "Finding the best solution...\n",
      "1000 981308 0.981308\n",
      "|q0>|q1>|q2>...\n"
     ]
    }
   ],
   "source": [
    "shots_count = int(1e6)\n",
    "print(f\"Sampling {shots_count} times...\")\n",
    "# result = cudaq.sample(kernel_qaoa, int(n_qubit), layer_count, optimal_parameters, 0, shots_count=shots_count)\n",
    "result = cudaq.sample(kernel_qaoa_ham, int(n_qubit), layer_count, optimal_parameters, idx_1_use, coeff_1_use, idx_2_a_use, idx_2_b_use, coeff_2_use, mixer_s, mixer_c, shots_count=shots_count)\n",
    "\n",
    "print(\"Finding the best solution...\")\n",
    "idx_b2 = result.most_probable()\n",
    "idx = int(idx_b2, 2)\n",
    "idx_r = 2**n_qubit - 1 - int(idx_b2, 2)\n",
    "idx_r_b2 = bin(idx_r)[2:].zfill(n_qubit)\n",
    "\n",
    "print(idx_b2, result[idx_b2], result[idx_b2]/shots_count)\n",
    "# print(idx_r_b2, result[idx_r_b2], result[idx_r_b2]/shots_count)\n",
    "print(\"|q0>|q1>|q2>...\")\n",
    "\n"
   ]
  },
  {
   "cell_type": "code",
   "execution_count": 282,
   "metadata": {},
   "outputs": [
    {
     "name": "stdout",
     "output_type": "stream",
     "text": [
      "SV: [(0,0), (0.285061,-0.948728), (0.0737307,-0.101495), (0,0), (0,0), (0,0), (0,0), (0,0), (-0.0288856,-0.0456495), (0,0), (0,0), (-1.21137e-08,3.06606e-09), (0,0), (0,0), (0,0), (0,0)]\n",
      "\n",
      "0000 0.0\n",
      "0001 0.0029182550911899703\n",
      "0010 0.0\n",
      "0011 0.0\n",
      "0100 0.01573744474002148\n",
      "0101 0.0\n",
      "0110 0.0\n",
      "0111 0.0\n",
      "1000 0.9813437406127906\n",
      "1001 0.0\n",
      "1010 0.0\n",
      "1011 0.0\n",
      "1100 0.0\n",
      "1101 1.561424285256807e-16\n",
      "1110 0.0\n",
      "1111 0.0\n",
      "16\n"
     ]
    }
   ],
   "source": [
    "state = cudaq.get_state(kernel_qaoa_ham, int(n_qubit), layer_count, optimal_parameters, idx_1_use, coeff_1_use, idx_2_a_use, idx_2_b_use, coeff_2_use, mixer_s, mixer_c)\n",
    "print(state)\n",
    "\n",
    "for i in range(len(state)):\n",
    "    bb = bin(i)[2:].zfill(n_qubit)\n",
    "    print(bb, abs(state[i])**2)\n",
    "\n",
    "print(len(state))"
   ]
  },
  {
   "cell_type": "code",
   "execution_count": 283,
   "metadata": {},
   "outputs": [
    {
     "ename": "AssertionError",
     "evalue": "",
     "output_type": "error",
     "traceback": [
      "\u001b[31m---------------------------------------------------------------------------\u001b[39m",
      "\u001b[31mAssertionError\u001b[39m                            Traceback (most recent call last)",
      "\u001b[36mCell\u001b[39m\u001b[36m \u001b[39m\u001b[32mIn[283]\u001b[39m\u001b[32m, line 1\u001b[39m\n\u001b[32m----> \u001b[39m\u001b[32m1\u001b[39m \u001b[38;5;28;01massert\u001b[39;00m \u001b[38;5;28;01mFalse\u001b[39;00m\n",
      "\u001b[31mAssertionError\u001b[39m: "
     ]
    }
   ],
   "source": [
    "assert False"
   ]
  },
  {
   "cell_type": "code",
   "execution_count": 284,
   "metadata": {},
   "outputs": [],
   "source": [
    "result_final = np.zeros(2**n_qubit)\n",
    "for i in result:\n",
    "    result_final[int(i, 2)] = result[i]"
   ]
  },
  {
   "cell_type": "code",
   "execution_count": 285,
   "metadata": {},
   "outputs": [
    {
     "data": {
      "image/png": "[encoded data removed]",
      "text/plain": [
       "<Figure size 1500x500 with 1 Axes>"
      ]
     },
     "metadata": {},
     "output_type": "display_data"
    }
   ],
   "source": [
    "# plt.figure(figsize=(100, 15))\n",
    "plt.figure(figsize=(15, 5))\n",
    "# plt.bar(range(2**qubit_count), list(result.values()))\n",
    "plt.bar(range(2**n_qubit), result_final)\n",
    "# plt.bar(range(int(2**(n_qubit-3)*0.1)), result_final[2**(n_qubit-3)*4:int(2**(n_qubit-3)*4.1)])\n",
    "plt.ylabel('Frequency')\n",
    "plt.title('Distribution of Preserving Mixer')\n",
    "# plt.gca().set_xticklabels([])\n",
    "# plt.xticks(rotation=90)\n",
    "# plt.xticks(visible=False)\n",
    "plt.show()"
   ]
  },
  {
   "cell_type": "code",
   "execution_count": 286,
   "metadata": {},
   "outputs": [
    {
     "name": "stdout",
     "output_type": "stream",
     "text": [
      "Expectations file not found for Nelder-Mead\n",
      "Expectations file not found for COBYLA\n",
      "Expectations file not found for SPSA\n",
      "Loading expectations from Adam\n",
      "Expectations file not found for GradientDescent\n"
     ]
    },
    {
     "data": {
      "image/png": "[encoded data removed]",
      "text/plain": [
       "<Figure size 2000x1000 with 1 Axes>"
      ]
     },
     "metadata": {},
     "output_type": "display_data"
    }
   ],
   "source": [
    "plt.figure(figsize=(20, 10))\n",
    "for i in range(len(optimizer_names)):\n",
    "    if os.path.exists(f\"./output_PO_mixer/expectations_{optimizer_names[i]}.npy\"):\n",
    "        print(f\"Loading expectations from {optimizer_names[i]}\")\n",
    "    else:\n",
    "        print(f\"Expectations file not found for {optimizer_names[i]}\")\n",
    "        continue\n",
    "    expectations = np.load(f\"./output_PO_mixer/expectations_{optimizer_names[i]}.npy\")\n",
    "    plt.plot(expectations, label=optimizer_names[i])\n",
    "plt.xlabel('Iterations')\n",
    "plt.ylabel('Expectation')\n",
    "plt.title(f'Expectations vs Iterations ({n_qubit} qubits)')\n",
    "plt.legend()\n",
    "plt.show()"
   ]
  }
 ],
 "metadata": {
  "kernelspec": {
   "display_name": "cudaq",
   "language": "python",
   "name": "python3"
  },
  "language_info": {
   "codemirror_mode": {
    "name": "ipython",
    "version": 3
   },
   "file_extension": ".py",
   "mimetype": "text/x-python",
   "name": "python",
   "nbconvert_exporter": "python",
   "pygments_lexer": "ipython3",
   "version": "3.11.13"
  }
 },
 "nbformat": 4,
 "nbformat_minor": 2
}
