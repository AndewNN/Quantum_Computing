{
 "cells": [
  {
   "cell_type": "code",
   "execution_count": 121,
   "metadata": {},
   "outputs": [],
   "source": [
    "import numpy as np\n",
    "import pandas as pd\n",
    "import cudaq\n",
    "from cudaq import spin\n",
    "from typing import List, Tuple\n",
    "import matplotlib.pyplot as plt\n",
    "import sys\n",
    "import os\n",
    "sys.path.append(os.path.abspath(\"..\"))\n",
    "from Utils.qaoaCUDAQ import po_normalize, ret_cov_to_QUBO, qubo_to_ising, process_ansatz_values\n",
    "\n",
    "import time\n",
    "\n",
    "cudaq.set_target(\"nvidia\")"
   ]
  },
  {
   "cell_type": "markdown",
   "metadata": {},
   "source": [
    "# HAMILTONIAN BY CUDAQ"
   ]
  },
  {
   "cell_type": "markdown",
   "metadata": {},
   "source": [
    "### by random values"
   ]
  },
  {
   "cell_type": "code",
   "execution_count": 122,
   "metadata": {},
   "outputs": [
    {
     "name": "stdout",
     "output_type": "stream",
     "text": [
      "[[0.54755208 0.39360372 1.01524938]\n",
      " [0.39360372 1.76306622 0.50903263]\n",
      " [1.01524938 0.50903263 1.42755357]]\n",
      "n_max: [1 1 1]\n",
      "ret_bb: [1.   1.25 1.5 ]\n",
      "n_qubit: 3\n"
     ]
    }
   ],
   "source": [
    "B = 100\n",
    "ret = np.array([1.0, 1.25, 1.5])\n",
    "cov = np.random.rand(3, 3)\n",
    "cov += cov.T\n",
    "print(cov)\n",
    "P = np.array([100, 100, 100])\n",
    "lamb = 1 # Budget Penalty\n",
    "q = 0 # Volatility Weight\n",
    "\n",
    "# P_b, ret_b, cov_b = po_normalize(B, P, ret, cov)\n",
    "P_bb, ret_bb, cov_bb, n_qubit = po_normalize(B, P, ret, cov)\n",
    "\n",
    "print(\"n_qubit:\", n_qubit)\n",
    "\n",
    "QU = -ret_cov_to_QUBO(ret_bb, cov_bb, P_bb, lamb, q)\n",
    "H = qubo_to_ising(QU, lamb)\n"
   ]
  },
  {
   "cell_type": "code",
   "execution_count": 123,
   "metadata": {},
   "outputs": [
    {
     "name": "stdout",
     "output_type": "stream",
     "text": [
      "Hamiltonian: (-1+0i) * I0 + (1+0i) * Z0 + (1+0i) + (1+0i) * I0I1 + (-1+0i) * I0Z1 + (-1+0i) * Z0I1 + (1+0i) * Z0Z1 + (1+0i) * I0I2 + (-1+0i) * I0Z2 + (-1+0i) * Z0I2 + (1+0i) * Z0Z2 + (-1.125+0i) * I1 + (1.125+0i) * Z1 + (1+0i) * I1I2 + (-1+0i) * I1Z2 + (-1+0i) * Z1I2 + (1+0i) * Z1Z2 + (-1.25+0i) * I2 + (1.25+0i) * Z2\n",
      "[0, 0, 0, 1, 1, 1, 2, 2, 2]\n",
      "[1.0, -1.0, -1.0, -1.0, 1.125, -1.0, -1.0, -1.0, 1.25]\n",
      "\n",
      "[0, 0, 1]\n",
      "[1, 2, 2]\n",
      "[1.0, 1.0, 1.0]\n"
     ]
    }
   ],
   "source": [
    "print(\"Hamiltonian:\", H)\n",
    "idx_1, coeff_1, idx_2_a, idx_2_b, coeff_2 = process_ansatz_values(H)\n",
    "\n",
    "print(idx_1)\n",
    "print(coeff_1, end=\"\\n\\n\")\n",
    "print(idx_2_a)\n",
    "print(idx_2_b)\n",
    "print(coeff_2)"
   ]
  },
  {
   "cell_type": "markdown",
   "metadata": {},
   "source": [
    "### by stock values"
   ]
  },
  {
   "cell_type": "code",
   "execution_count": 124,
   "metadata": {},
   "outputs": [
    {
     "name": "stdout",
     "output_type": "stream",
     "text": [
      "       AAPL      ABBV       ABT\n",
      "0  0.000772  0.000078  0.000100\n",
      "1  0.000078  0.000279  0.000103\n",
      "2  0.000100  0.000103  0.000256\n",
      "  Ticker  Average_Return       Price\n",
      "0   AAPL        0.001070  195.270004\n",
      "1   ABBV        0.000832  183.259995\n",
      "2    ABT        0.000706  131.300003\n",
      "(3, 3)\n",
      "[0.00107 0.00083 0.00071]\n",
      "[195.27 183.26 131.3 ]\n",
      "['AAPL', 'ABBV', 'ABT']\n"
     ]
    }
   ],
   "source": [
    "data_cov = pd.read_csv(\"../dataset/top_50_us_stocks_data_20250526_011226_covariance.csv\")\n",
    "data_ret_p = pd.read_csv(\"../dataset/top_50_us_stocks_returns_price.csv\")\n",
    "\n",
    "nn = 3\n",
    "# B = 1500\n",
    "B = 270\n",
    "lamb = 1.5 # Budget Penalty\n",
    "q = 0 # Volatility Weight\n",
    "data_cov = data_cov.drop(\"Ticker\", axis=1).iloc[:nn, :nn]\n",
    "print(data_cov)\n",
    "data_ret_p = data_ret_p.iloc[:nn]\n",
    "# data_ret_p.loc[0, \"Average_Return\"] = 0.002070\n",
    "# data_ret_p.loc[1, \"Average_Return\"] = 0.000050\n",
    "# data_ret_p.loc[2, \"Average_Return\"] = 0.002070\n",
    "print(data_ret_p)\n",
    "stock_names = data_ret_p[\"Ticker\"].tolist()\n",
    "data_ret_p = data_ret_p.drop(\"Ticker\", axis=1)\n",
    "\n",
    "data_cov = data_cov.to_numpy()\n",
    "data_ret_p = data_ret_p.to_numpy()\n",
    "\n",
    "data_ret = data_ret_p[:, 0]\n",
    "data_p = data_ret_p[:, 1]\n",
    "\n",
    "print(data_cov.shape)\n",
    "print(data_ret.round(5))\n",
    "print(data_p.round(2))\n",
    "print(stock_names)"
   ]
  },
  {
   "cell_type": "code",
   "execution_count": 125,
   "metadata": {},
   "outputs": [
    {
     "name": "stdout",
     "output_type": "stream",
     "text": [
      "n_max: [1 1 2]\n",
      "ret_bb: [0.00077414 0.00056486 0.00034333 0.00068666]\n",
      "n_qubit: 4\n"
     ]
    }
   ],
   "source": [
    "P_bb, ret_bb, cov_bb, n_qubit = po_normalize(B, data_p, data_ret, data_cov)\n",
    "\n",
    "print(\"n_qubit:\", n_qubit)\n",
    "\n",
    "QU = -ret_cov_to_QUBO(ret_bb, cov_bb, P_bb, lamb, q)\n",
    "H = qubo_to_ising(QU, lamb)"
   ]
  },
  {
   "cell_type": "code",
   "execution_count": 126,
   "metadata": {},
   "outputs": [
    {
     "name": "stdout",
     "output_type": "stream",
     "text": [
      "(-0.692933+0i) * I0 + (0.692933+0i) * Z0 + (1.5+0i) + (0.736321+0i) * I0I1 + (-0.736321+0i) * I0Z1 + (-0.736321+0i) * Z0I1 + (0.736321+0i) * Z0Z1 + (0.52755+0i) * I0I2 + (-0.52755+0i) * I0Z2 + (-0.52755+0i) * Z0I2 + (0.52755+0i) * Z0Z2 + (1.0551+0i) * I0I3 + (-1.0551+0i) * I0Z3 + (-1.0551+0i) * Z0I3 + (1.0551+0i) * Z0Z3 + (-0.672877+0i) * I1 + (0.672877+0i) * Z1 + (0.495104+0i) * I1I2 + (-0.495104+0i) * I1Z2 + (-0.495104+0i) * Z1I2 + (0.495104+0i) * Z1Z2 + (0.990207+0i) * I1I3 + (-0.990207+0i) * I1Z3 + (-0.990207+0i) * Z1I3 + (0.990207+0i) * Z1Z3 + (-0.552253+0i) * I2 + (0.552253+0i) * Z2 + (0.709452+0i) * I2I3 + (-0.709452+0i) * I2Z3 + (-0.709452+0i) * Z2I3 + (0.709452+0i) * Z2Z3 + (-0.74978+0i) * I3 + (0.74978+0i) * Z3\n",
      "[0, 0, 0, 0, 1, 1, 1, 1, 2, 2, 2, 2, 3, 3, 3, 3]\n",
      "[0.692932625294636, -0.7363205742864409, -0.5275504559031046, -1.0551009118062091, -0.7363205742864409, 0.6728767872082475, -0.4951036592183681, -0.9902073184367362, -0.5275504559031046, -0.4951036592183681, 0.5522530522540651, -0.7094522963535643, -1.0551009118062091, -0.9902073184367362, -0.7094522963535643, 0.7497799563313481]\n",
      "\n",
      "[0, 0, 0, 1, 1, 2]\n",
      "[1, 2, 3, 2, 3, 3]\n",
      "[0.7363205742864409, 0.5275504559031046, 1.0551009118062091, 0.4951036592183681, 0.9902073184367362, 0.7094522963535643]\n"
     ]
    }
   ],
   "source": [
    "print(H)\n",
    "idx_1, coeff_1, idx_2_a, idx_2_b, coeff_2 = process_ansatz_values(H)\n",
    "\n",
    "print(idx_1)\n",
    "print(coeff_1, end=\"\\n\\n\")\n",
    "print(idx_2_a)\n",
    "print(idx_2_b)\n",
    "print(coeff_2)"
   ]
  },
  {
   "cell_type": "markdown",
   "metadata": {},
   "source": [
    "# CUDA QAOA"
   ]
  },
  {
   "cell_type": "code",
   "execution_count": 127,
   "metadata": {},
   "outputs": [],
   "source": [
    "@cudaq.kernel\n",
    "def realAmplitudeAnsatz(qreg: cudaq.qvector, qubit_count: int, ansatz: int, alpha: float):\n",
    "    if ansatz == 0:\n",
    "        for i in range(qubit_count):\n",
    "            x.ctrl(qreg[i], qreg[(i+1)%qubit_count])\n",
    "            rz(2.0*alpha, qreg[(i+1)%qubit_count])\n",
    "            x.ctrl(qreg[i], qreg[(i+1)%qubit_count])\n",
    "\n",
    "@cudaq.kernel\n",
    "def mixingAnsatz(qreg: cudaq.qvector, qubit_count: int, beta: float):\n",
    "    for i in range(qubit_count):\n",
    "        rx(2.0*beta, qreg[i])\n",
    "\n",
    "@cudaq.kernel\n",
    "def kernel_qaoa(qubit_count: int, layer_count: int, thetas: List[float], ansatz: int):\n",
    "    qreg = cudaq.qvector(qubit_count)\n",
    "    h(qreg)\n",
    "    for i in range(layer_count):\n",
    "        realAmplitudeAnsatz(qreg, qubit_count, ansatz, thetas[i])\n",
    "        mixingAnsatz(qreg, qubit_count, thetas[layer_count + i])"
   ]
  },
  {
   "cell_type": "code",
   "execution_count": 128,
   "metadata": {},
   "outputs": [],
   "source": [
    "# print(cudaq.draw(kernel_qaoa, 4, 2, [0.1]*4, 0))"
   ]
  },
  {
   "cell_type": "code",
   "execution_count": 129,
   "metadata": {},
   "outputs": [],
   "source": [
    "@cudaq.kernel\n",
    "def kernel_qaoa_ham(qubit_count: int, layer_count: int, thetas: List[float], idx_1: List[int], coeff_1: List[float], idx_2_a: List[int], idx_2_b: List[int], coeff_2: List[float]):\n",
    "    qreg = cudaq.qvector(qubit_count)\n",
    "    # qreg = cudaq.qvector(3)\n",
    "    h(qreg)\n",
    "\n",
    "    for i in range(layer_count):\n",
    "        # for idxs, coeff, l in sorted_raw_ham:\n",
    "        #     if l == 1:\n",
    "        #         rz(2 * coeff * thetas[i], qreg[idxs[0]])\n",
    "        #     elif l == 2:\n",
    "        #         x.ctrl(qreg[idxs[0]], qreg[idxs[1]])\n",
    "        #         rz(2 * coeff * thetas[i], qreg[idxs[1]])\n",
    "        #         x.ctrl(qreg[idxs[0]], qreg[idxs[1]])\n",
    "        # for i in range(qubit_count):\n",
    "        #     rx(2.0 * thetas[layer_count + i], qreg[i])\n",
    "\n",
    "        for j in range(len(idx_1)):\n",
    "            rz(2 * coeff_1[j] * thetas[i], qreg[idx_1[j]])\n",
    "        \n",
    "        for j in range(len(idx_2_a)):\n",
    "            x.ctrl(qreg[idx_2_a[j]], qreg[idx_2_b[j]])\n",
    "            rz(2 * coeff_2[j] * thetas[i], qreg[idx_2_b[j]])\n",
    "            x.ctrl(qreg[idx_2_a[j]], qreg[idx_2_b[j]])\n",
    "\n",
    "        for j in range(qubit_count):\n",
    "            rx(2.0 * thetas[layer_count + i], qreg[j])"
   ]
  },
  {
   "cell_type": "code",
   "execution_count": 130,
   "metadata": {},
   "outputs": [],
   "source": [
    "idx_1_use, coeff_1_use = idx_1, coeff_1\n",
    "idx_2_a_use, idx_2_b_use, coeff_2_use = idx_2_a, idx_2_b, coeff_2\n",
    "\n",
    "# idx_1_use, coeff_1_use = idx_1_qis, coeff_1_qis\n",
    "# idx_2_a_use, idx_2_b_use, coeff_2_use = idx_2_a_qis, idx_2_b_qis, coeff_2_qis"
   ]
  },
  {
   "cell_type": "code",
   "execution_count": 131,
   "metadata": {},
   "outputs": [
    {
     "name": "stdout",
     "output_type": "stream",
     "text": [
      "(-0.692933+0i) * I0 + (0.692933+0i) * Z0 + (1.5+0i) + (0.736321+0i) * I0I1 + (-0.736321+0i) * I0Z1 + (-0.736321+0i) * Z0I1 + (0.736321+0i) * Z0Z1 + (0.52755+0i) * I0I2 + (-0.52755+0i) * I0Z2 + (-0.52755+0i) * Z0I2 + (0.52755+0i) * Z0Z2 + (1.0551+0i) * I0I3 + (-1.0551+0i) * I0Z3 + (-1.0551+0i) * Z0I3 + (1.0551+0i) * Z0Z3 + (-0.672877+0i) * I1 + (0.672877+0i) * Z1 + (0.495104+0i) * I1I2 + (-0.495104+0i) * I1Z2 + (-0.495104+0i) * Z1I2 + (0.495104+0i) * Z1Z2 + (0.990207+0i) * I1I3 + (-0.990207+0i) * I1Z3 + (-0.990207+0i) * Z1I3 + (0.990207+0i) * Z1Z3 + (-0.552253+0i) * I2 + (0.552253+0i) * Z2 + (0.709452+0i) * I2I3 + (-0.709452+0i) * I2Z3 + (-0.709452+0i) * Z2I3 + (0.709452+0i) * Z2Z3 + (-0.74978+0i) * I3 + (0.74978+0i) * Z3\n"
     ]
    }
   ],
   "source": [
    "print(H)"
   ]
  },
  {
   "cell_type": "code",
   "execution_count": 132,
   "metadata": {},
   "outputs": [
    {
     "name": "stdout",
     "output_type": "stream",
     "text": [
      "     ╭───╮╭────────────╮ ╭─────────────╮╭─────────────╮╭────────────╮      »\n",
      "q0 : ┤ h ├┤ rz(0.6929) ├─┤ rz(-0.7363) ├┤ rz(-0.5276) ├┤ rz(-1.055) ├───●──»\n",
      "     ├───┤├────────────┴╮├────────────┬╯├─────────────┤├────────────┴╮╭─┴─╮»\n",
      "q1 : ┤ h ├┤ rz(-0.7363) ├┤ rz(0.6729) ├─┤ rz(-0.4951) ├┤ rz(-0.9902) ├┤ x ├»\n",
      "     ├───┤├─────────────┤├────────────┴╮├────────────┬╯├─────────────┤╰───╯»\n",
      "q2 : ┤ h ├┤ rz(-0.5276) ├┤ rz(-0.4951) ├┤ rz(0.5523) ├─┤ rz(-0.7095) ├─────»\n",
      "     ├───┤├────────────┬╯├─────────────┤├────────────┴╮├────────────┬╯     »\n",
      "q3 : ┤ h ├┤ rz(-1.055) ├─┤ rz(-0.9902) ├┤ rz(-0.7095) ├┤ rz(0.7498) ├──────»\n",
      "     ╰───╯╰────────────╯ ╰─────────────╯╰─────────────╯╰────────────╯      »\n",
      "\n",
      "################################################################################\n",
      "\n",
      "                                                                  ╭───────╮»\n",
      "────────────────●────●──────────────────●────●─────────────────●──┤ rx(1) ├»\n",
      "╭────────────╮╭─┴─╮  │                  │    │                 │  ╰───────╯»\n",
      "┤ rz(0.7363) ├┤ x ├──┼──────────────────┼────┼─────────────────┼──────●────»\n",
      "╰────────────╯╰───╯╭─┴─╮╭────────────╮╭─┴─╮  │                 │    ╭─┴─╮  »\n",
      "───────────────────┤ x ├┤ rz(0.5276) ├┤ x ├──┼─────────────────┼────┤ x ├──»\n",
      "                   ╰───╯╰────────────╯╰───╯╭─┴─╮╭───────────╮╭─┴─╮  ╰───╯  »\n",
      "───────────────────────────────────────────┤ x ├┤ rz(1.055) ├┤ x ├─────────»\n",
      "                                           ╰───╯╰───────────╯╰───╯         »\n",
      "\n",
      "################################################################################\n",
      "\n",
      "                                                                       »\n",
      "───────────────────────────────────────────────────────────────────────»\n",
      "                                           ╭───────╮                   »\n",
      "────────────────●────●──────────────────●──┤ rx(1) ├───────────────────»\n",
      "╭────────────╮╭─┴─╮  │                  │  ╰───────╯                   »\n",
      "┤ rz(0.4951) ├┤ x ├──┼──────────────────┼──────●────────────────────●──»\n",
      "╰────────────╯╰───╯╭─┴─╮╭────────────╮╭─┴─╮  ╭─┴─╮  ╭────────────╮╭─┴─╮»\n",
      "───────────────────┤ x ├┤ rz(0.9902) ├┤ x ├──┤ x ├──┤ rz(0.7095) ├┤ x ├»\n",
      "                   ╰───╯╰────────────╯╰───╯  ╰───╯  ╰────────────╯╰───╯»\n",
      "\n",
      "################################################################################\n",
      "\n",
      "         \n",
      "─────────\n",
      "         \n",
      "─────────\n",
      "╭───────╮\n",
      "┤ rx(1) ├\n",
      "├───────┤\n",
      "┤ rx(1) ├\n",
      "╰───────╯\n",
      "\n"
     ]
    }
   ],
   "source": [
    "print(cudaq.draw(kernel_qaoa_ham, n_qubit, 1, [0.5]*4, idx_1_use, coeff_1_use, idx_2_a_use, idx_2_b_use, coeff_2_use)) "
   ]
  },
  {
   "cell_type": "markdown",
   "metadata": {},
   "source": [
    "# Ansatz Architecture"
   ]
  },
  {
   "cell_type": "code",
   "execution_count": 133,
   "metadata": {},
   "outputs": [
    {
     "name": "stdout",
     "output_type": "stream",
     "text": [
      "Initial parameters =  [-0.26494246416913175, -0.3404074833621878, 0.3501137419781495, -0.16083111450588353, 0.22633407440665854, -0.02221903794518737, 0.1414056711393703, 0.3671920284695609, -0.07169730918222528, -0.28363177641905946]\n"
     ]
    }
   ],
   "source": [
    "idx = 3\n",
    "layer_count = 5\n",
    "\n",
    "parameter_count = layer_count * 2\n",
    "\n",
    "optimizer1 = cudaq.optimizers.NelderMead()\n",
    "optimizer2 = cudaq.optimizers.COBYLA()\n",
    "optimizer3 = cudaq.optimizers.SPSA()\n",
    "optimizer4 = cudaq.optimizers.Adam()\n",
    "optimizer5 = cudaq.optimizers.GradientDescent()\n",
    "\n",
    "optimizer = [optimizer1, optimizer2, optimizer3, optimizer4, optimizer5][idx]\n",
    "optimizer_names = [\"Nelder-Mead\", \"COBYLA\", \"SPSA\", \"Adam\", \"GradientDescent\"]\n",
    "optimizer_name = optimizer_names[idx]\n",
    "FIND_GRAD = True if optimizer.requires_gradients() else False\n",
    "\n",
    "optimizer.max_iterations = 1000\n",
    "\n",
    "optimizer.initial_parameters = np.random.uniform(-np.pi / 8, np.pi / 8, parameter_count)\n",
    "print(\"Initial parameters = \", optimizer.initial_parameters)"
   ]
  },
  {
   "cell_type": "markdown",
   "metadata": {},
   "source": [
    "# Optimize"
   ]
  },
  {
   "cell_type": "code",
   "execution_count": 134,
   "metadata": {},
   "outputs": [
    {
     "name": "stdout",
     "output_type": "stream",
     "text": [
      "Required Gradient =  True\n"
     ]
    }
   ],
   "source": [
    "expectations = []\n",
    "\n",
    "def cost_func(parameters):\n",
    "    # return cudaq.observe(kernel_qaoa, H, n_qubit, layer_count, parameters, 0).expectation()\n",
    "    return cudaq.observe(kernel_qaoa_ham, H, n_qubit, layer_count, parameters, idx_1_use, coeff_1_use, idx_2_a_use, idx_2_b_use, coeff_2_use).expectation()\n",
    "\n",
    "def objective(parameters):\n",
    "    expectation = cost_func(parameters)\n",
    "    expectations.append(expectation)\n",
    "    return expectation\n",
    "\n",
    "def objective_grad_cuda(parameters):\n",
    "    expectation = cost_func(parameters)\n",
    "    expectations.append(expectation)\n",
    "\n",
    "    gradient = cudaq.gradients.ForwardDifference().compute(parameters, cost_func, expectation)\n",
    "\n",
    "    return expectation, gradient\n",
    "\n",
    "objective_func = objective_grad_cuda if FIND_GRAD else objective\n",
    "print(\"Required Gradient = \", FIND_GRAD)"
   ]
  },
  {
   "cell_type": "code",
   "execution_count": 135,
   "metadata": {},
   "outputs": [
    {
     "name": "stdout",
     "output_type": "stream",
     "text": [
      "optimal_expectation = 0.5410765788134769\n",
      "optimal_parameters = [-0.20064175802145237, -0.28786506165155984, 0.43614983826799797, 0.004180770496066393, 0.3988981058650904, 0.09106664503748076, 0.09645331338384455, 0.3769873442296871, -0.08649343007029878, -0.2456340546792498]\n",
      "Time taken =  0.32633423805236816\n"
     ]
    }
   ],
   "source": [
    "st = time.time()\n",
    "optimal_expectation, optimal_parameters = optimizer.optimize(\n",
    "    dimensions=parameter_count, function=objective_func)\n",
    "et = time.time()\n",
    "\n",
    "if not os.path.exists(\"./output_PO\"):\n",
    "    os.makedirs(\"./output_PO\")\n",
    "np.save(f\"./output_PO/expectations_{optimizer_name}.npy\", np.array(expectations))\n",
    "\n",
    "print('optimal_expectation =', optimal_expectation)\n",
    "print('optimal_parameters =', optimal_parameters)\n",
    "print('Time taken = ', et - st)"
   ]
  },
  {
   "cell_type": "code",
   "execution_count": 136,
   "metadata": {},
   "outputs": [
    {
     "name": "stdout",
     "output_type": "stream",
     "text": [
      "Sampling 1000000 times...\n",
      "Finding the best solution...\n",
      "0001 223100 0.2231\n",
      "|q0>|q1>|q2>...\n"
     ]
    }
   ],
   "source": [
    "shots_count = int(1e6)\n",
    "print(f\"Sampling {shots_count} times...\")\n",
    "# result = cudaq.sample(kernel_qaoa, int(n_qubit), layer_count, optimal_parameters, 0, shots_count=shots_count)\n",
    "result = cudaq.sample(kernel_qaoa_ham, int(n_qubit), layer_count, optimal_parameters, idx_1_use, coeff_1_use, idx_2_a_use, idx_2_b_use, coeff_2_use, shots_count=shots_count)\n",
    "\n",
    "print(\"Finding the best solution...\")\n",
    "idx_b2 = result.most_probable()\n",
    "idx = int(idx_b2, 2)\n",
    "idx_r = 2**n_qubit - 1 - int(idx_b2, 2)\n",
    "idx_r_b2 = bin(idx_r)[2:].zfill(n_qubit)\n",
    "\n",
    "print(idx_b2, result[idx_b2], result[idx_b2]/shots_count)\n",
    "# print(idx_r_b2, result[idx_r_b2], result[idx_r_b2]/shots_count)\n",
    "print(\"|q0>|q1>|q2>...\")\n",
    "\n"
   ]
  },
  {
   "cell_type": "code",
   "execution_count": 137,
   "metadata": {},
   "outputs": [
    {
     "name": "stdout",
     "output_type": "stream",
     "text": [
      "SV: [(0.0430011,-0.0353433), (0.442193,0.09007), (0.439451,0.0807464), (0.170727,-0.0155903), (0.410227,0.0319677), (0.230894,0.0184957), (0.240369,0.0233209), (-0.0579288,0.0237231), (0.456696,0.120874), (0.0626421,-0.0199449), (0.0806782,-0.0216204), (0.00554104,0.0376094), (0.164812,-0.0032395), (-0.0304048,0.0681675), (-0.0384554,0.067242), (-0.0569814,0.0332541)]\n",
      "\n",
      "0000 0.0031\n",
      "0001 0.2232\n",
      "0010 0.1693\n",
      "0011 0.0272\n",
      "0100 0.1996\n",
      "0101 0.007\n",
      "0110 0.0583\n",
      "0111 0.006\n",
      "1000 0.2036\n",
      "1001 0.0043\n",
      "1010 0.0537\n",
      "1011 0.0056\n",
      "1100 0.0294\n",
      "1101 0.0014\n",
      "1110 0.0039\n",
      "1111 0.0044\n",
      "16\n"
     ]
    }
   ],
   "source": [
    "state = cudaq.get_state(kernel_qaoa_ham, int(n_qubit), layer_count, optimal_parameters, idx_1_use, coeff_1_use, idx_2_a_use, idx_2_b_use, coeff_2_use)\n",
    "print(state)\n",
    "\n",
    "for i in range(len(state)):\n",
    "    bb = bin(i)[2:].zfill(n_qubit)\n",
    "    print(bb, round(abs(state[i])**2, 4))\n",
    "\n",
    "print(len(state))"
   ]
  },
  {
   "cell_type": "code",
   "execution_count": 138,
   "metadata": {},
   "outputs": [
    {
     "ename": "AssertionError",
     "evalue": "",
     "output_type": "error",
     "traceback": [
      "\u001b[31m---------------------------------------------------------------------------\u001b[39m",
      "\u001b[31mAssertionError\u001b[39m                            Traceback (most recent call last)",
      "\u001b[36mCell\u001b[39m\u001b[36m \u001b[39m\u001b[32mIn[138]\u001b[39m\u001b[32m, line 1\u001b[39m\n\u001b[32m----> \u001b[39m\u001b[32m1\u001b[39m \u001b[38;5;28;01massert\u001b[39;00m \u001b[38;5;28;01mFalse\u001b[39;00m\n",
      "\u001b[31mAssertionError\u001b[39m: "
     ]
    }
   ],
   "source": [
    "assert False"
   ]
  },
  {
   "cell_type": "code",
   "execution_count": 139,
   "metadata": {},
   "outputs": [],
   "source": [
    "result_final = np.zeros(2**n_qubit)\n",
    "for i in result:\n",
    "    result_final[int(i, 2)] = result[i]"
   ]
  },
  {
   "cell_type": "code",
   "execution_count": 140,
   "metadata": {},
   "outputs": [
    {
     "data": {
      "image/png": "[encoded data removed]",
      "text/plain": [
       "<Figure size 1500x500 with 1 Axes>"
      ]
     },
     "metadata": {},
     "output_type": "display_data"
    }
   ],
   "source": [
    "# plt.figure(figsize=(100, 15))\n",
    "plt.figure(figsize=(15, 5))\n",
    "# plt.bar(range(2**qubit_count), list(result.values()))\n",
    "plt.bar(range(2**n_qubit), result_final)\n",
    "# plt.bar(range(int(2**(n_qubit-3)*0.1)), result_final[2**(n_qubit-3)*4:int(2**(n_qubit-3)*4.1)])\n",
    "plt.ylabel('Frequency')\n",
    "plt.title('Distribution of Normal Mixer')\n",
    "# plt.gca().set_xticklabels([])\n",
    "# plt.xticks(rotation=90)\n",
    "# plt.xticks(visible=False)\n",
    "plt.show()"
   ]
  },
  {
   "cell_type": "code",
   "execution_count": 142,
   "metadata": {},
   "outputs": [
    {
     "name": "stdout",
     "output_type": "stream",
     "text": [
      "Expectations file not found for Nelder-Mead\n",
      "Expectations file not found for COBYLA\n",
      "Expectations file not found for SPSA\n",
      "Loading expectations from Adam\n",
      "Expectations file not found for GradientDescent\n"
     ]
    },
    {
     "data": {
      "image/png": "[encoded data removed]",
      "text/plain": [
       "<Figure size 2000x1000 with 1 Axes>"
      ]
     },
     "metadata": {},
     "output_type": "display_data"
    }
   ],
   "source": [
    "plt.figure(figsize=(20, 10))\n",
    "for i in range(len(optimizer_names)):\n",
    "    if os.path.exists(f\"./output_PO/expectations_{optimizer_names[i]}.npy\"):\n",
    "        print(f\"Loading expectations from {optimizer_names[i]}\")\n",
    "    else:\n",
    "        print(f\"Expectations file not found for {optimizer_names[i]}\")\n",
    "        continue\n",
    "    expectations = np.load(f\"./output_PO/expectations_{optimizer_names[i]}.npy\")\n",
    "    plt.plot(expectations, label=optimizer_names[i])\n",
    "plt.xlabel('Iterations')\n",
    "plt.ylabel('Expectation')\n",
    "plt.title(f'Expectations vs Iterations ({n_qubit} qubits)')\n",
    "plt.legend()\n",
    "plt.show()"
   ]
  }
 ],
 "metadata": {
  "kernelspec": {
   "display_name": "cudaq",
   "language": "python",
   "name": "python3"
  },
  "language_info": {
   "codemirror_mode": {
    "name": "ipython",
    "version": 3
   },
   "file_extension": ".py",
   "mimetype": "text/x-python",
   "name": "python",
   "nbconvert_exporter": "python",
   "pygments_lexer": "ipython3",
   "version": "3.11.13"
  }
 },
 "nbformat": 4,
 "nbformat_minor": 2
}
