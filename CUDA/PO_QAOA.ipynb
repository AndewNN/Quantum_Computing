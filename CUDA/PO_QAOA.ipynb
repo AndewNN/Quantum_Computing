{
 "cells": [
  {
   "cell_type": "code",
   "execution_count": 1,
   "metadata": {},
   "outputs": [],
   "source": [
    "import numpy as np\n",
    "import pandas as pd\n",
    "import cudaq\n",
    "from cudaq import spin\n",
    "from typing import List, Tuple\n",
    "import matplotlib.pyplot as plt\n",
    "import sys\n",
    "import os\n",
    "sys.path.append(os.path.abspath(\"..\"))\n",
    "from Utils.qaoaCUDAQ import po_normalize, ret_cov_to_QUBO, qubo_to_ising, process_ansatz_values, state_to_return, kernel_qaoa_X, get_optimizer,\\\n",
    "    optimizer_names\n",
    "\n",
    "import time\n",
    "\n",
    "cudaq.set_target(\"nvidia\")"
   ]
  },
  {
   "cell_type": "markdown",
   "metadata": {},
   "source": [
    "# HAMILTONIAN BY CUDAQ"
   ]
  },
  {
   "cell_type": "markdown",
   "metadata": {},
   "source": [
    "### by random values"
   ]
  },
  {
   "cell_type": "code",
   "execution_count": 2,
   "metadata": {},
   "outputs": [
    {
     "name": "stdout",
     "output_type": "stream",
     "text": [
      "[[1.83536116 1.12528953 1.04849935]\n",
      " [1.12528953 0.5762369  1.00854588]\n",
      " [1.04849935 1.00854588 0.52274442]]\n",
      "n_max: [1 1 1]\n",
      "ret_bb: [1.   1.25 1.5 ]\n",
      "n_qubit: 3\n"
     ]
    }
   ],
   "source": [
    "B = 100\n",
    "ret = np.array([1.0, 1.25, 1.5])\n",
    "cov = np.random.rand(3, 3)\n",
    "cov += cov.T\n",
    "print(cov)\n",
    "P = np.array([100, 100, 100])\n",
    "lamb = 1 # Budget Penalty\n",
    "q = 0 # Volatility Weight\n",
    "\n",
    "# P_b, ret_b, cov_b = po_normalize(B, P, ret, cov)\n",
    "P_bb, ret_bb, cov_bb, n_qubit, n_max, C = po_normalize(B, P, ret, cov)\n",
    "\n",
    "print(\"n_qubit:\", n_qubit)\n",
    "\n",
    "QU = -ret_cov_to_QUBO(ret_bb, cov_bb, P_bb, lamb, q)\n",
    "H = qubo_to_ising(QU, lamb)\n"
   ]
  },
  {
   "cell_type": "code",
   "execution_count": 3,
   "metadata": {},
   "outputs": [
    {
     "name": "stdout",
     "output_type": "stream",
     "text": [
      "Hamiltonian: (-1+0i) * I0 + (1+0i) * Z0 + (1+0i) + (1+0i) * I0I1 + (-1+0i) * I0Z1 + (-1+0i) * Z0I1 + (1+0i) * Z0Z1 + (1+0i) * I0I2 + (-1+0i) * I0Z2 + (-1+0i) * Z0I2 + (1+0i) * Z0Z2 + (-1.125+0i) * I1 + (1.125+0i) * Z1 + (1+0i) * I1I2 + (-1+0i) * I1Z2 + (-1+0i) * Z1I2 + (1+0i) * Z1Z2 + (-1.25+0i) * I2 + (1.25+0i) * Z2\n",
      "[0, 0, 0, 1, 1, 1, 2, 2, 2]\n",
      "[1.0, -1.0, -1.0, -1.0, 1.125, -1.0, -1.0, -1.0, 1.25]\n",
      "\n",
      "[0, 0, 1]\n",
      "[1, 2, 2]\n",
      "[1.0, 1.0, 1.0]\n"
     ]
    }
   ],
   "source": [
    "print(\"Hamiltonian:\", H)\n",
    "idx_1, coeff_1, idx_2_a, idx_2_b, coeff_2 = process_ansatz_values(H)\n",
    "\n",
    "print(idx_1)\n",
    "print(coeff_1, end=\"\\n\\n\")\n",
    "print(idx_2_a)\n",
    "print(idx_2_b)\n",
    "print(coeff_2)"
   ]
  },
  {
   "cell_type": "markdown",
   "metadata": {},
   "source": [
    "### by stock values"
   ]
  },
  {
   "cell_type": "code",
   "execution_count": 4,
   "metadata": {},
   "outputs": [
    {
     "name": "stdout",
     "output_type": "stream",
     "text": [
      "       AAPL      ABBV       ABT\n",
      "0  0.000772  0.000078  0.000100\n",
      "1  0.000078  0.000279  0.000103\n",
      "2  0.000100  0.000103  0.000256\n",
      "  Ticker  Average_Return       Price\n",
      "0   AAPL        0.001070  195.270004\n",
      "1   ABBV        0.000832  183.259995\n",
      "2    ABT        0.000706  131.300003\n",
      "(3, 3)\n",
      "[0.00107 0.00083 0.00071]\n",
      "[195.27 183.26 131.3 ]\n",
      "['AAPL', 'ABBV', 'ABT']\n"
     ]
    }
   ],
   "source": [
    "data_cov = pd.read_csv(\"../dataset/top_50_us_stocks_data_20250526_011226_covariance.csv\")\n",
    "data_ret_p = pd.read_csv(\"../dataset/top_50_us_stocks_returns_price.csv\")\n",
    "\n",
    "nn = 3\n",
    "# B = 1500\n",
    "B = 270\n",
    "lamb = 1.5 # Budget Penalty\n",
    "q = 0 # Volatility Weight\n",
    "data_cov = data_cov.drop(\"Ticker\", axis=1).iloc[:nn, :nn]\n",
    "print(data_cov)\n",
    "data_ret_p = data_ret_p.iloc[:nn]\n",
    "# data_ret_p.loc[0, \"Average_Return\"] = 0.002070\n",
    "# data_ret_p.loc[1, \"Average_Return\"] = 0.000050\n",
    "# data_ret_p.loc[2, \"Average_Return\"] = 0.002070\n",
    "print(data_ret_p)\n",
    "stock_names = data_ret_p[\"Ticker\"].tolist()\n",
    "data_ret_p = data_ret_p.drop(\"Ticker\", axis=1)\n",
    "\n",
    "data_cov = data_cov.to_numpy()\n",
    "data_ret_p = data_ret_p.to_numpy()\n",
    "\n",
    "data_ret = data_ret_p[:, 0]\n",
    "data_p = data_ret_p[:, 1]\n",
    "\n",
    "print(data_cov.shape)\n",
    "print(data_ret.round(5))\n",
    "print(data_p.round(2))\n",
    "print(stock_names)"
   ]
  },
  {
   "cell_type": "code",
   "execution_count": 5,
   "metadata": {},
   "outputs": [
    {
     "name": "stdout",
     "output_type": "stream",
     "text": [
      "n_max: [1 1 2]\n",
      "ret_bb: [0.00077414 0.00056486 0.00034333 0.00068666]\n",
      "n_qubit: 4\n"
     ]
    }
   ],
   "source": [
    "P_bb, ret_bb, cov_bb, n_qubit, n_max, C = po_normalize(B, data_p, data_ret, data_cov)\n",
    "\n",
    "print(\"n_qubit:\", n_qubit)\n",
    "\n",
    "QU = -ret_cov_to_QUBO(ret_bb, cov_bb, P_bb, lamb, q)\n",
    "H = qubo_to_ising(QU, lamb).canonicalize()"
   ]
  },
  {
   "cell_type": "code",
   "execution_count": 6,
   "metadata": {},
   "outputs": [
    {
     "name": "stdout",
     "output_type": "stream",
     "text": [
      "(3.34589+0i) + (-1.62604+0i) * Z0 + (-1.54875+0i) * Z1 + (0.736321+0i) * Z0Z1 + (-1.17985+0i) * Z2 + (0.52755+0i) * Z0Z2 + (-2.00498+0i) * Z3 + (1.0551+0i) * Z0Z3 + (0.495104+0i) * Z1Z2 + (0.990207+0i) * Z1Z3 + (0.709452+0i) * Z2Z3\n",
      "[0, 1, 2, 3]\n",
      "[-1.6260393167011187, -1.5487547647332978, -1.1798533592209717, -2.0049805702651615]\n",
      "\n",
      "[0, 0, 0, 1, 1, 2]\n",
      "[1, 2, 3, 2, 3, 3]\n",
      "[0.7363205742864409, 0.5275504559031046, 1.0551009118062091, 0.4951036592183681, 0.9902073184367362, 0.7094522963535643]\n"
     ]
    }
   ],
   "source": [
    "print(H)\n",
    "idx_1, coeff_1, idx_2_a, idx_2_b, coeff_2 = process_ansatz_values(H)\n",
    "\n",
    "print(idx_1)\n",
    "print(coeff_1, end=\"\\n\\n\")\n",
    "print(idx_2_a)\n",
    "print(idx_2_b)\n",
    "print(coeff_2)"
   ]
  },
  {
   "cell_type": "markdown",
   "metadata": {},
   "source": [
    "# CUDA QAOA"
   ]
  },
  {
   "cell_type": "code",
   "execution_count": 7,
   "metadata": {},
   "outputs": [],
   "source": [
    "@cudaq.kernel\n",
    "def realAmplitudeAnsatz(qreg: cudaq.qvector, qubit_count: int, ansatz: int, alpha: float):\n",
    "    if ansatz == 0:\n",
    "        for i in range(qubit_count):\n",
    "            x.ctrl(qreg[i], qreg[(i+1)%qubit_count])\n",
    "            rz(2.0*alpha, qreg[(i+1)%qubit_count])\n",
    "            x.ctrl(qreg[i], qreg[(i+1)%qubit_count])\n",
    "\n",
    "@cudaq.kernel\n",
    "def mixingAnsatz(qreg: cudaq.qvector, qubit_count: int, beta: float):\n",
    "    for i in range(qubit_count):\n",
    "        rx(2.0*beta, qreg[i])\n",
    "\n",
    "@cudaq.kernel\n",
    "def kernel_qaoa(qubit_count: int, layer_count: int, thetas: List[float], ansatz: int):\n",
    "    qreg = cudaq.qvector(qubit_count)\n",
    "    h(qreg)\n",
    "    for i in range(layer_count):\n",
    "        realAmplitudeAnsatz(qreg, qubit_count, ansatz, thetas[i])\n",
    "        mixingAnsatz(qreg, qubit_count, thetas[layer_count + i])"
   ]
  },
  {
   "cell_type": "code",
   "execution_count": 8,
   "metadata": {},
   "outputs": [],
   "source": [
    "# print(cudaq.draw(kernel_qaoa, 4, 2, [0.1]*4, 0))"
   ]
  },
  {
   "cell_type": "code",
   "execution_count": null,
   "metadata": {},
   "outputs": [],
   "source": []
  },
  {
   "cell_type": "code",
   "execution_count": 9,
   "metadata": {},
   "outputs": [],
   "source": [
    "idx_1_use, coeff_1_use = idx_1, coeff_1\n",
    "idx_2_a_use, idx_2_b_use, coeff_2_use = idx_2_a, idx_2_b, coeff_2\n",
    "\n",
    "# idx_1_use, coeff_1_use = idx_1_qis, coeff_1_qis\n",
    "# idx_2_a_use, idx_2_b_use, coeff_2_use = idx_2_a_qis, idx_2_b_qis, coeff_2_qis"
   ]
  },
  {
   "cell_type": "code",
   "execution_count": 10,
   "metadata": {},
   "outputs": [
    {
     "name": "stdout",
     "output_type": "stream",
     "text": [
      "(3.34589+0i) + (-1.62604+0i) * Z0 + (-1.54875+0i) * Z1 + (0.736321+0i) * Z0Z1 + (-1.17985+0i) * Z2 + (0.52755+0i) * Z0Z2 + (-2.00498+0i) * Z3 + (1.0551+0i) * Z0Z3 + (0.495104+0i) * Z1Z2 + (0.990207+0i) * Z1Z3 + (0.709452+0i) * Z2Z3\n"
     ]
    }
   ],
   "source": [
    "print(H)"
   ]
  },
  {
   "cell_type": "code",
   "execution_count": 11,
   "metadata": {},
   "outputs": [
    {
     "name": "stdout",
     "output_type": "stream",
     "text": [
      "     ╭───╮╭────────────╮                                                     »\n",
      "q0 : ┤ h ├┤ rz(-1.626) ├──●──────────────────●────●──────────────────●────●──»\n",
      "     ├───┤├────────────┤╭─┴─╮╭────────────╮╭─┴─╮  │                  │    │  »\n",
      "q1 : ┤ h ├┤ rz(-1.549) ├┤ x ├┤ rz(0.7363) ├┤ x ├──┼──────────────────┼────┼──»\n",
      "     ├───┤├───────────┬╯╰───╯╰────────────╯╰───╯╭─┴─╮╭────────────╮╭─┴─╮  │  »\n",
      "q2 : ┤ h ├┤ rz(-1.18) ├─────────────────────────┤ x ├┤ rz(0.5276) ├┤ x ├──┼──»\n",
      "     ├───┤├───────────┴╮                        ╰───╯╰────────────╯╰───╯╭─┴─╮»\n",
      "q3 : ┤ h ├┤ rz(-2.005) ├────────────────────────────────────────────────┤ x ├»\n",
      "     ╰───╯╰────────────╯                                                ╰───╯»\n",
      "\n",
      "################################################################################\n",
      "\n",
      "                  ╭───────╮                                           »\n",
      "───────────────●──┤ rx(1) ├───────────────────────────────────────────»\n",
      "               │  ╰───────╯                                           »\n",
      "───────────────┼──────●────────────────────●────●──────────────────●──»\n",
      "               │    ╭─┴─╮  ╭────────────╮╭─┴─╮  │                  │  »\n",
      "───────────────┼────┤ x ├──┤ rz(0.4951) ├┤ x ├──┼──────────────────┼──»\n",
      "╭───────────╮╭─┴─╮  ╰───╯  ╰────────────╯╰───╯╭─┴─╮╭────────────╮╭─┴─╮»\n",
      "┤ rz(1.055) ├┤ x ├────────────────────────────┤ x ├┤ rz(0.9902) ├┤ x ├»\n",
      "╰───────────╯╰───╯                            ╰───╯╰────────────╯╰───╯»\n",
      "\n",
      "################################################################################\n",
      "\n",
      "                                     \n",
      "─────────────────────────────────────\n",
      "╭───────╮                            \n",
      "┤ rx(1) ├────────────────────────────\n",
      "╰───────╯                   ╭───────╮\n",
      "────●────────────────────●──┤ rx(1) ├\n",
      "  ╭─┴─╮  ╭────────────╮╭─┴─╮├───────┤\n",
      "──┤ x ├──┤ rz(0.7095) ├┤ x ├┤ rx(1) ├\n",
      "  ╰───╯  ╰────────────╯╰───╯╰───────╯\n",
      "\n"
     ]
    }
   ],
   "source": [
    "print(cudaq.draw(kernel_qaoa_X, [0.5]*4, n_qubit, 1, idx_1_use, coeff_1_use, idx_2_a_use, idx_2_b_use, coeff_2_use)) "
   ]
  },
  {
   "cell_type": "markdown",
   "metadata": {},
   "source": [
    "# Ansatz Architecture"
   ]
  },
  {
   "cell_type": "code",
   "execution_count": 12,
   "metadata": {},
   "outputs": [
    {
     "name": "stdout",
     "output_type": "stream",
     "text": [
      "Initial parameters =  [0.2376739817247563, -0.3779395367957993, -0.2976835849370592, -0.11479879786424207, 0.20332908203221933, 0.1754572675801318, 0.14667328955390269, 0.27772514306248464, 0.3484765879370184, 0.3432347513324261]\n"
     ]
    }
   ],
   "source": [
    "idx = 3\n",
    "layer_count = 5\n",
    "\n",
    "parameter_count = layer_count * 2\n",
    "optimizer, optimizer_name, FIND_GRAD = get_optimizer(idx)\n",
    "\n",
    "optimizer.max_iterations = 1000\n",
    "\n",
    "\n",
    "optimizer.initial_parameters = np.random.uniform(-np.pi / 8, np.pi / 8, parameter_count)\n",
    "print(\"Initial parameters = \", optimizer.initial_parameters)\n",
    "\n",
    "ansatz_fixed_param = (int(n_qubit), layer_count, idx_1_use, coeff_1_use, idx_2_a_use, idx_2_b_use, coeff_2_use)"
   ]
  },
  {
   "cell_type": "markdown",
   "metadata": {},
   "source": [
    "# Optimize"
   ]
  },
  {
   "cell_type": "code",
   "execution_count": 13,
   "metadata": {},
   "outputs": [
    {
     "name": "stdout",
     "output_type": "stream",
     "text": [
      "Required Gradient =  True\n"
     ]
    }
   ],
   "source": [
    "expectations = []\n",
    "\n",
    "def cost_func(parameters):\n",
    "    # return cudaq.observe(kernel_qaoa, H, n_qubit, layer_count, parameters, 0).expectation()\n",
    "    return cudaq.observe(kernel_qaoa_X, H, parameters, *ansatz_fixed_param).expectation()\n",
    "\n",
    "def objective(parameters):\n",
    "    expectation = cost_func(parameters)\n",
    "    expectations.append(expectation)\n",
    "    return expectation\n",
    "\n",
    "def objective_grad_cuda(parameters):\n",
    "    expectation = cost_func(parameters)\n",
    "    expectations.append(expectation)\n",
    "\n",
    "    gradient = cudaq.gradients.ForwardDifference().compute(parameters, cost_func, expectation)\n",
    "\n",
    "    return expectation, gradient\n",
    "\n",
    "objective_func = objective_grad_cuda if FIND_GRAD else objective\n",
    "print(\"Required Gradient = \", FIND_GRAD)"
   ]
  },
  {
   "cell_type": "code",
   "execution_count": 14,
   "metadata": {},
   "outputs": [
    {
     "name": "stdout",
     "output_type": "stream",
     "text": [
      "optimal_expectation = 0.6943558307537098\n",
      "optimal_parameters = [0.6520273787951295, -0.5967712264766825, -0.23462703927841624, -0.1011445809808305, 0.45427723035564993, 0.2640057479730885, 0.11325901393990451, 0.3388520147215651, 0.41857118220413786, 0.6618125444061101]\n",
      "Time taken =  0.8353090286254883\n"
     ]
    }
   ],
   "source": [
    "st = time.time()\n",
    "optimal_expectation, optimal_parameters = optimizer.optimize(\n",
    "    dimensions=parameter_count, function=objective_func)\n",
    "et = time.time()\n",
    "\n",
    "if not os.path.exists(\"./output_PO\"):\n",
    "    os.makedirs(\"./output_PO\")\n",
    "np.save(f\"./output_PO/expectations_{optimizer_name}.npy\", np.array(expectations))\n",
    "\n",
    "print('optimal_expectation =', optimal_expectation)\n",
    "print('optimal_parameters =', optimal_parameters)\n",
    "print('Time taken = ', et - st)"
   ]
  },
  {
   "cell_type": "code",
   "execution_count": 15,
   "metadata": {},
   "outputs": [
    {
     "name": "stdout",
     "output_type": "stream",
     "text": [
      "Sampling 1000000 times...\n",
      "Finding the best solution...\n",
      "0001 269791 0.269791\n",
      "|q0>|q1>|q2>...\n"
     ]
    }
   ],
   "source": [
    "shots_count = int(1e6)\n",
    "print(f\"Sampling {shots_count} times...\")\n",
    "# result = cudaq.sample(kernel_qaoa, int(n_qubit), layer_count, optimal_parameters, 0, shots_count=shots_count)\n",
    "result = cudaq.sample(kernel_qaoa_X, optimal_parameters, *ansatz_fixed_param, shots_count=shots_count)\n",
    "\n",
    "print(\"Finding the best solution...\")\n",
    "idx_b2 = result.most_probable()\n",
    "idx = int(idx_b2, 2)\n",
    "idx_r = 2**n_qubit - 1 - int(idx_b2, 2)\n",
    "idx_r_b2 = bin(idx_r)[2:].zfill(n_qubit)\n",
    "\n",
    "print(idx_b2, result[idx_b2], result[idx_b2]/shots_count)\n",
    "# print(idx_r_b2, result[idx_r_b2], result[idx_r_b2]/shots_count)\n",
    "print(\"|q0>|q1>|q2>...\")\n",
    "\n"
   ]
  },
  {
   "cell_type": "code",
   "execution_count": 16,
   "metadata": {},
   "outputs": [
    {
     "name": "stdout",
     "output_type": "stream",
     "text": [
      "SV: [(-0.326197,0.140765), (-0.0446128,0.36578), (-0.0990909,0.351369), (0.133728,0.0101329), (-0.288959,0.326007), (0.0495956,-0.113673), (0.038677,-0.122793), (0.0137675,0.101312), (0.239275,0.461019), (0.141738,0.104096), (0.132206,0.0650095), (-0.0582433,0.00948786), (0.0542297,-0.12341), (0.0274128,-0.0711819), (0.032145,-0.0535595), (0.0194821,0.0191943)]\n",
      "\n",
      "   State Probability  Return In_Budget\n",
      "0   0000      0.1262     0.0      True\n",
      "1   0001      0.2698  0.1854      True\n",
      "2   0010      0.1898  0.0927      True\n",
      "3   0011      0.0182  0.2781     False\n",
      "4   0100      0.1333  0.1525      True\n",
      "5   0101      0.0217  0.3379     False\n",
      "6   0110      0.0166  0.2452     False\n",
      "7   0111      0.0039  0.4306     False\n",
      "8   1000      0.1358   0.209      True\n",
      "9   1001      0.0309  0.3944     False\n",
      "10  1010      0.0154  0.3017     False\n",
      "11  1011      0.0058  0.4871     False\n",
      "12  1100       0.018  0.3615     False\n",
      "13  1101      0.0035  0.5469     False\n",
      "14  1110      0.0105  0.4542     False\n",
      "15  1111      0.0007  0.6396     False\n",
      "Expected Return: 0.1678\n",
      "Best state: 1000 Return: 0.20901911153684485\n",
      "Most probable state: 0001 Return: 0.18539813930584623\n"
     ]
    }
   ],
   "source": [
    "state = cudaq.get_state(kernel_qaoa_X, optimal_parameters, *ansatz_fixed_param)\n",
    "print(state)\n",
    "\n",
    "rows = []\n",
    "col = [\"State\", \"Probability\", \"Return\", \"In_Budget\"]\n",
    "ret_sum = 0\n",
    "state_best, return_best = \"\", 0\n",
    "state_high, return_high = result.most_probable(), 0\n",
    "for i in range(len(state)):\n",
    "    bb = bin(i)[2:].zfill(n_qubit)\n",
    "    ret, in_bud = state_to_return(bb, B, C, data_ret, data_p)\n",
    "    if in_bud and ret > return_best:\n",
    "        state_best, return_best = bb, ret\n",
    "    if state_high == bb:\n",
    "        return_high = ret\n",
    "    prob = abs(state[i])**2\n",
    "    # print(bb, \"\\t\", round(abs(state[i])**2, 4), \"\\t\", round(ret, 4))\n",
    "    al = np.array([bb, round(abs(state[i])**2, 4), round(ret, 4), in_bud])\n",
    "    rows.append(al)\n",
    "    ret_sum += ret * prob\n",
    "    # print(al)\n",
    "\n",
    "df = pd.DataFrame(rows, columns=col)\n",
    "print(df)\n",
    "print(\"Expected Return:\", round(ret_sum, 4))\n",
    "\n",
    "colorr = [\"blue\" if in_bud == \"True\" else \"red\" for in_bud in df[\"In_Budget\"]]\n",
    "ex_ret = df[\"Return\"].to_numpy()\n",
    "# print(len(state))\n",
    "\n",
    "print(\"Best state:\", state_best, \"Return:\", return_best)\n",
    "print(\"Most probable state:\", state_high, \"Return:\", return_high)"
   ]
  },
  {
   "cell_type": "code",
   "execution_count": 17,
   "metadata": {},
   "outputs": [
    {
     "ename": "AssertionError",
     "evalue": "",
     "output_type": "error",
     "traceback": [
      "\u001b[31m---------------------------------------------------------------------------\u001b[39m",
      "\u001b[31mAssertionError\u001b[39m                            Traceback (most recent call last)",
      "\u001b[36mCell\u001b[39m\u001b[36m \u001b[39m\u001b[32mIn[17]\u001b[39m\u001b[32m, line 1\u001b[39m\n\u001b[32m----> \u001b[39m\u001b[32m1\u001b[39m \u001b[38;5;28;01massert\u001b[39;00m \u001b[38;5;28;01mFalse\u001b[39;00m\n",
      "\u001b[31mAssertionError\u001b[39m: "
     ]
    }
   ],
   "source": [
    "assert False"
   ]
  },
  {
   "cell_type": "code",
   "execution_count": 18,
   "metadata": {},
   "outputs": [],
   "source": [
    "result_final = np.zeros(2**n_qubit)\n",
    "for i in result:\n",
    "    result_final[int(i, 2)] = result[i]"
   ]
  },
  {
   "cell_type": "code",
   "execution_count": 19,
   "metadata": {},
   "outputs": [
    {
     "data": {
      "image/png": "[encoded data removed]",
      "text/plain": [
       "<Figure size 1500x500 with 1 Axes>"
      ]
     },
     "metadata": {},
     "output_type": "display_data"
    }
   ],
   "source": [
    "# plt.figure(figsize=(100, 15))\n",
    "x = np.arange(2**n_qubit)\n",
    "plt.figure(figsize=(15, 5))\n",
    "\n",
    "# plt.bar(range(2**qubit_count), list(result.values()))\n",
    "plt.bar(range(2**n_qubit), result_final, color=colorr)\n",
    "# plt.bar(range(int(2**(n_qubit-3)*0.1)), result_final[2**(n_qubit-3)*4:int(2**(n_qubit-3)*4.1)])\n",
    "plt.ylabel('Frequency')\n",
    "plt.title('Distribution of Normal Mixer')\n",
    "# plt.gca().set_xticklabels([])\n",
    "# plt.xticks(rotation=90)\n",
    "# plt.xticks(visible=False)\n",
    "# plt.xticks(xlocs, xlabs)\n",
    "plt.xticks(x, [f\"{i:0{n_qubit}b}\" for i in x])\n",
    "xlocs, xlabs = plt.xticks()\n",
    "# print(xlocs, xlabs)\n",
    "for i, s in enumerate(ex_ret):\n",
    "    plt.text(xlocs[i]-0.4, result_final[i]+shots_count/400, s, color=colorr[i])\n",
    "\n",
    "plt.show()"
   ]
  },
  {
   "cell_type": "code",
   "execution_count": 20,
   "metadata": {},
   "outputs": [
    {
     "name": "stdout",
     "output_type": "stream",
     "text": [
      "Expectations file not found for Nelder-Mead\n",
      "Expectations file not found for COBYLA\n",
      "Expectations file not found for SPSA\n",
      "Loading expectations from Adam\n",
      "Expectations file not found for GradientDescent\n"
     ]
    },
    {
     "data": {
      "image/png": "[encoded data removed]",
      "text/plain": [
       "<Figure size 2000x1000 with 1 Axes>"
      ]
     },
     "metadata": {},
     "output_type": "display_data"
    }
   ],
   "source": [
    "plt.figure(figsize=(20, 10))\n",
    "for i in range(len(optimizer_names)):\n",
    "    if os.path.exists(f\"./output_PO/expectations_{optimizer_names[i]}.npy\"):\n",
    "        print(f\"Loading expectations from {optimizer_names[i]}\")\n",
    "    else:\n",
    "        print(f\"Expectations file not found for {optimizer_names[i]}\")\n",
    "        continue\n",
    "    expectations = np.load(f\"./output_PO/expectations_{optimizer_names[i]}.npy\")\n",
    "    plt.plot(expectations, label=optimizer_names[i])\n",
    "plt.xlabel('Iterations')\n",
    "plt.ylabel('Expectation')\n",
    "plt.title(f'Expectations vs Iterations ({n_qubit} qubits)')\n",
    "plt.legend()\n",
    "plt.show()"
   ]
  }
 ],
 "metadata": {
  "kernelspec": {
   "display_name": "cudaq",
   "language": "python",
   "name": "python3"
  },
  "language_info": {
   "codemirror_mode": {
    "name": "ipython",
    "version": 3
   },
   "file_extension": ".py",
   "mimetype": "text/x-python",
   "name": "python",
   "nbconvert_exporter": "python",
   "pygments_lexer": "ipython3",
   "version": "3.11.13"
  }
 },
 "nbformat": 4,
 "nbformat_minor": 2
}
