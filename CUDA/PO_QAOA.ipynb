{
 "cells": [
  {
   "cell_type": "code",
   "execution_count": 30,
   "metadata": {},
   "outputs": [],
   "source": [
    "import numpy as np\n",
    "import pandas as pd\n",
    "import cudaq\n",
    "from cudaq import spin\n",
    "from typing import List, Tuple\n",
    "import matplotlib.pyplot as plt\n",
    "import sys\n",
    "import os\n",
    "sys.path.append(os.path.abspath(\"..\"))\n",
    "from Utils.qaoaCUDAQ import po_normalize, ret_cov_to_QUBO, qubo_to_ising, process_ansatz_values\n",
    "\n",
    "import time\n",
    "\n",
    "cudaq.set_target(\"nvidia\")"
   ]
  },
  {
   "cell_type": "code",
   "execution_count": 31,
   "metadata": {},
   "outputs": [],
   "source": [
    "# from qiskit_finance.applications.optimization import PortfolioOptimization\n",
    "# from qiskit_optimization.algorithms import MinimumEigenOptimizer\n",
    "# from qiskit_algorithms import QAOA\n",
    "# from qiskit_algorithms.optimizers import COBYLA\n",
    "# from qiskit.primitives import Sampler\n",
    "# from qiskit_optimization.converters import QuadraticProgramToQubo\n",
    "# from qiskit.circuit.library import QAOAAnsatz\n",
    "# from qiskit_optimization.translators import to_ising\n",
    "# from qiskit.result import marginal_distribution"
   ]
  },
  {
   "cell_type": "code",
   "execution_count": 32,
   "metadata": {},
   "outputs": [],
   "source": [
    "# def po_normalize(B, P, ret, cov):\n",
    "#     P_b = P / B\n",
    "#     ret_b = ret * P_b\n",
    "#     cov_b = np.diag(P_b) @ cov @ np.diag(P_b)\n",
    "    \n",
    "#     n_max = np.int32(np.floor(np.log2(B/P))) + 1\n",
    "#     print(\"n_max:\", n_max)\n",
    "#     n_qs = np.cumsum(n_max)\n",
    "#     n_qs = np.insert(n_qs, 0, 0)\n",
    "#     n_qubit = n_qs[-1]\n",
    "#     C = np.zeros((len(P), n_qubit))\n",
    "#     for i in range(len(P)):\n",
    "#          for j in range(n_max[i]):\n",
    "#               C[i, n_qs[i] + j] = 2**j\n",
    "\n",
    "#     P_bb = C.T @ P_b\n",
    "#     ret_bb = C.T @ ret_b\n",
    "#     print(\"ret_bb:\", ret_bb)\n",
    "#     cov_bb = C.T @ cov_b @ C\n",
    "#     return P_bb, ret_bb, cov_bb, int(n_qubit)\n",
    "\n",
    "# def ret_cov_to_QUBO(ret: np.ndarray, cov: np.ndarray, P: np.ndarray, lamb: float, q:float) -> np.ndarray:\n",
    "#     di = np.diag(ret + lamb * (P*P + 2*P))\n",
    "#     mat = 2 * lamb * np.outer(P, P) + q * cov\n",
    "#     return di - mat\n",
    "\n",
    "# def qubo_to_ising(qubo: np.ndarray, lamb: float) -> cudaq.SpinOperator:\n",
    "#     spin_op = lamb\n",
    "#     for i in range(qubo.shape[0]):\n",
    "#         for j in range(qubo.shape[1]):\n",
    "#                 if i != j:\n",
    "#                     spin_op += qubo[i, j] * ((spin.i(i) - spin.z(i)) / 2 * (spin.i(j) - spin.z(j)) / 2)\n",
    "#                 else:\n",
    "#                     spin_op += qubo[i, j] * (spin.i(i) - spin.z(i)) / 2\n",
    "#     return spin_op\n",
    "\n",
    "# def process_ansatz_values(H: cudaq.SpinOperator) -> Tuple[List[int], List[float], List[int], List[int], List[float]]:\n",
    "#     HH = H.get_raw_data()\n",
    "\n",
    "#     idxs = [[j - len(HH[0][i])//2 for j in range(len(HH[0][i])) if HH[0][i][j]] for i in range(len(HH[0]))]\n",
    "\n",
    "#     HH = [(idxs[i], HH[1][i], sum(HH[0][i])) for i in range(len(HH[0]))]\n",
    "#     HH = sorted(HH, key=lambda x: (x[2], x[0]), reverse=False)\n",
    "\n",
    "#     idx_1 = []\n",
    "#     coeff_1 = []\n",
    "#     idx_2_a, idx_2_b = [], []\n",
    "#     coeff_2 = []\n",
    "#     for i in range(len(HH)):\n",
    "#         if HH[i][2] == 1:\n",
    "#             idx_1.append(HH[i][0][0])\n",
    "#             coeff_1.append(HH[i][1].real)\n",
    "#         elif HH[i][2] == 2:\n",
    "#             idx_2_a.append(HH[i][0][0])\n",
    "#             idx_2_b.append(HH[i][0][1])\n",
    "#             coeff_2.append(HH[i][1].real)\n",
    "#     # print(HH)\n",
    "\n",
    "#     return idx_1, coeff_1, idx_2_a, idx_2_b, coeff_2"
   ]
  },
  {
   "cell_type": "markdown",
   "metadata": {},
   "source": [
    "# HAMILTONIAN BY CUDAQ"
   ]
  },
  {
   "cell_type": "markdown",
   "metadata": {},
   "source": [
    "### by random values"
   ]
  },
  {
   "cell_type": "code",
   "execution_count": 33,
   "metadata": {},
   "outputs": [
    {
     "name": "stdout",
     "output_type": "stream",
     "text": [
      "[[1.84734856 0.54860184 0.88939372]\n",
      " [0.54860184 0.52002288 1.14167388]\n",
      " [0.88939372 1.14167388 1.29056196]]\n",
      "n_max: [1 1 1]\n",
      "ret_bb: [1.   1.25 1.5 ]\n",
      "n_qubit: 3\n"
     ]
    }
   ],
   "source": [
    "B = 100\n",
    "ret = np.array([1.0, 1.25, 1.5])\n",
    "cov = np.random.rand(3, 3)\n",
    "cov += cov.T\n",
    "print(cov)\n",
    "P = np.array([100, 100, 100])\n",
    "lamb = 1 # Budget Penalty\n",
    "q = 0 # Volatility Weight\n",
    "\n",
    "# P_b, ret_b, cov_b = po_normalize(B, P, ret, cov)\n",
    "P_bb, ret_bb, cov_bb, n_qubit = po_normalize(B, P, ret, cov)\n",
    "\n",
    "print(\"n_qubit:\", n_qubit)\n",
    "\n",
    "QU = -ret_cov_to_QUBO(ret_bb, cov_bb, P_bb, lamb, q)\n",
    "H = qubo_to_ising(QU, lamb)\n"
   ]
  },
  {
   "cell_type": "code",
   "execution_count": 34,
   "metadata": {},
   "outputs": [
    {
     "name": "stdout",
     "output_type": "stream",
     "text": [
      "Hamiltonian: (-1+0i) * I0 + (1+0i) * Z0 + (1+0i) + (1+0i) * I0I1 + (-1+0i) * I0Z1 + (-1+0i) * Z0I1 + (1+0i) * Z0Z1 + (1+0i) * I0I2 + (-1+0i) * I0Z2 + (-1+0i) * Z0I2 + (1+0i) * Z0Z2 + (-1.125+0i) * I1 + (1.125+0i) * Z1 + (1+0i) * I1I2 + (-1+0i) * I1Z2 + (-1+0i) * Z1I2 + (1+0i) * Z1Z2 + (-1.25+0i) * I2 + (1.25+0i) * Z2\n",
      "[0, 0, 0, 1, 1, 1, 2, 2, 2]\n",
      "[1.0, -1.0, -1.0, -1.0, 1.125, -1.0, -1.0, -1.0, 1.25]\n",
      "\n",
      "[0, 0, 1]\n",
      "[1, 2, 2]\n",
      "[1.0, 1.0, 1.0]\n"
     ]
    }
   ],
   "source": [
    "print(\"Hamiltonian:\", H)\n",
    "idx_1, coeff_1, idx_2_a, idx_2_b, coeff_2 = process_ansatz_values(H)\n",
    "\n",
    "print(idx_1)\n",
    "print(coeff_1, end=\"\\n\\n\")\n",
    "print(idx_2_a)\n",
    "print(idx_2_b)\n",
    "print(coeff_2)"
   ]
  },
  {
   "cell_type": "markdown",
   "metadata": {},
   "source": [
    "### by stock values"
   ]
  },
  {
   "cell_type": "code",
   "execution_count": 35,
   "metadata": {},
   "outputs": [
    {
     "name": "stdout",
     "output_type": "stream",
     "text": [
      "       AAPL      ABBV       ABT\n",
      "0  0.000772  0.000078  0.000100\n",
      "1  0.000078  0.000279  0.000103\n",
      "2  0.000100  0.000103  0.000256\n",
      "  Ticker  Average_Return       Price\n",
      "0   AAPL        0.001070  195.270004\n",
      "1   ABBV        0.000832  183.259995\n",
      "2    ABT        0.000706  131.300003\n",
      "(3, 3)\n",
      "[0.00107 0.00083 0.00071]\n",
      "[195.27 183.26 131.3 ]\n",
      "['AAPL', 'ABBV', 'ABT']\n"
     ]
    }
   ],
   "source": [
    "data_cov = pd.read_csv(\"../dataset/top_50_us_stocks_data_20250526_011226_covariance.csv\")\n",
    "data_ret_p = pd.read_csv(\"../dataset/top_50_us_stocks_returns_price.csv\")\n",
    "\n",
    "nn = 3\n",
    "# B = 1500\n",
    "B = 270\n",
    "lamb = 1.5 # Budget Penalty\n",
    "q = 0 # Volatility Weight\n",
    "data_cov = data_cov.drop(\"Ticker\", axis=1).iloc[:nn, :nn]\n",
    "print(data_cov)\n",
    "data_ret_p = data_ret_p.iloc[:nn]\n",
    "# data_ret_p.loc[0, \"Average_Return\"] = 0.002070\n",
    "# data_ret_p.loc[1, \"Average_Return\"] = 0.000050\n",
    "# data_ret_p.loc[2, \"Average_Return\"] = 0.002070\n",
    "print(data_ret_p)\n",
    "stock_names = data_ret_p[\"Ticker\"].tolist()\n",
    "data_ret_p = data_ret_p.drop(\"Ticker\", axis=1)\n",
    "\n",
    "data_cov = data_cov.to_numpy()\n",
    "data_ret_p = data_ret_p.to_numpy()\n",
    "\n",
    "data_ret = data_ret_p[:, 0]\n",
    "data_p = data_ret_p[:, 1]\n",
    "\n",
    "print(data_cov.shape)\n",
    "print(data_ret.round(5))\n",
    "print(data_p.round(2))\n",
    "print(stock_names)"
   ]
  },
  {
   "cell_type": "code",
   "execution_count": null,
   "metadata": {},
   "outputs": [
    {
     "name": "stdout",
     "output_type": "stream",
     "text": [
      "n_max: [1 1 2]\n",
      "ret_bb: [0.00077414 0.00056486 0.00034333 0.00068666]\n",
      "n_qubit: 4\n"
     ]
    }
   ],
   "source": [
    "P_bb, ret_bb, cov_bb, n_qubit = po_normalize(B, data_p, data_ret, data_cov)\n",
    "\n",
    "print(\"n_qubit:\", n_qubit)\n",
    "\n",
    "QU = -ret_cov_to_QUBO(ret_bb, cov_bb, P_bb, lamb, q)\n",
    "H = qubo_to_ising(QU, lamb)"
   ]
  },
  {
   "cell_type": "code",
   "execution_count": 37,
   "metadata": {},
   "outputs": [
    {
     "name": "stdout",
     "output_type": "stream",
     "text": [
      "(-69.2933+0i) * I0 + (69.2933+0i) * Z0 + (150+0i) + (73.6321+0i) * I0I1 + (-73.6321+0i) * I0Z1 + (-73.6321+0i) * Z0I1 + (73.6321+0i) * Z0Z1 + (52.755+0i) * I0I2 + (-52.755+0i) * I0Z2 + (-52.755+0i) * Z0I2 + (52.755+0i) * Z0Z2 + (105.51+0i) * I0I3 + (-105.51+0i) * I0Z3 + (-105.51+0i) * Z0I3 + (105.51+0i) * Z0Z3 + (-67.2877+0i) * I1 + (67.2877+0i) * Z1 + (49.5104+0i) * I1I2 + (-49.5104+0i) * I1Z2 + (-49.5104+0i) * Z1I2 + (49.5104+0i) * Z1Z2 + (99.0207+0i) * I1I3 + (-99.0207+0i) * I1Z3 + (-99.0207+0i) * Z1I3 + (99.0207+0i) * Z1Z3 + (-55.2253+0i) * I2 + (55.2253+0i) * Z2 + (70.9452+0i) * I2I3 + (-70.9452+0i) * I2Z3 + (-70.9452+0i) * Z2I3 + (70.9452+0i) * Z2Z3 + (-74.978+0i) * I3 + (74.978+0i) * Z3\n",
      "[0, 0, 0, 0, 1, 1, 1, 1, 2, 2, 2, 2, 3, 3, 3, 3]\n",
      "[69.29326252946359, -73.63205742864409, -52.75504559031046, -105.51009118062092, -73.63205742864409, 67.28767872082474, -49.51036592183681, -99.02073184367362, -52.75504559031046, -49.51036592183681, 55.22530522540651, -70.94522963535643, -105.51009118062092, -99.02073184367362, -70.94522963535643, 74.97799563313481]\n",
      "\n",
      "[0, 0, 0, 1, 1, 2]\n",
      "[1, 2, 3, 2, 3, 3]\n",
      "[73.63205742864409, 52.75504559031046, 105.51009118062092, 49.51036592183681, 99.02073184367362, 70.94522963535643]\n"
     ]
    }
   ],
   "source": [
    "print(H)\n",
    "idx_1, coeff_1, idx_2_a, idx_2_b, coeff_2 = process_ansatz_values(H)\n",
    "\n",
    "print(idx_1)\n",
    "print(coeff_1, end=\"\\n\\n\")\n",
    "print(idx_2_a)\n",
    "print(idx_2_b)\n",
    "print(coeff_2)"
   ]
  },
  {
   "cell_type": "markdown",
   "metadata": {},
   "source": [
    "# QISKIT QAOA"
   ]
  },
  {
   "cell_type": "code",
   "execution_count": 38,
   "metadata": {},
   "outputs": [],
   "source": [
    "# # cov[0, 2] = cov[2, 0] = 1\n",
    "# print(cov)\n",
    "# portfolio_qis = PortfolioOptimization(\n",
    "#     expected_returns=ret,\n",
    "#     covariances=cov,\n",
    "#     risk_factor=0,\n",
    "#     budget=1,\n",
    "#     bounds=[(0, 1), (0, 1), (0, 1)]\n",
    "# )\n",
    "# qp = portfolio_qis.to_quadratic_program()\n",
    "# converter = QuadraticProgramToQubo()\n",
    "# qubo = converter.convert(qp)\n",
    "# op, offset = to_ising(qubo)"
   ]
  },
  {
   "cell_type": "code",
   "execution_count": 39,
   "metadata": {},
   "outputs": [],
   "source": [
    "# opp = op.to_sparse_list()\n",
    "# print(opp)\n",
    "# idx_1_qis = []\n",
    "# coeff_1_qis = []\n",
    "# idx_2_a_qis, idx_2_b_qis = [], []\n",
    "# coeff_2_qis = []\n",
    "\n",
    "# for i in range(len(opp)):\n",
    "#     if len(opp[i][1]) == 1:\n",
    "#         idx_1_qis.append(opp[i][1][0])\n",
    "#         coeff_1_qis.append(opp[i][2].real)\n",
    "#     elif len(opp[i][1]) == 2:\n",
    "#         idx_2_a_qis.append(opp[i][1][0])\n",
    "#         idx_2_b_qis.append(opp[i][1][1])\n",
    "#         coeff_2_qis.append(opp[i][2].real)\n",
    "\n",
    "# print(idx_1_qis)\n",
    "# print(coeff_1_qis, end=\"\\n\\n\")\n",
    "# print(idx_2_a_qis)\n",
    "# print(idx_2_b_qis)\n",
    "# print(coeff_2_qis)"
   ]
  },
  {
   "cell_type": "code",
   "execution_count": 40,
   "metadata": {},
   "outputs": [],
   "source": [
    "# qaoa_ansatz = QAOAAnsatz(op, reps=2)\n",
    "# decomposed = qaoa_ansatz.decompose(reps=2)\n",
    "# decomposed.draw(output='text')"
   ]
  },
  {
   "cell_type": "code",
   "execution_count": 41,
   "metadata": {},
   "outputs": [],
   "source": [
    "# qaoa = QAOA(\n",
    "#     optimizer=COBYLA(maxiter=1000),\n",
    "#     reps=2,\n",
    "#     sampler=Sampler()\n",
    "# )\n",
    "\n",
    "# meo = MinimumEigenOptimizer(qaoa)\n",
    "\n",
    "# # result = meo.solve(qubo)"
   ]
  },
  {
   "cell_type": "code",
   "execution_count": 42,
   "metadata": {},
   "outputs": [],
   "source": [
    "# qaoa_result = qaoa.compute_minimum_eigenvalue(operator=op)\n",
    "# print(\"Optimized parameters:\", qaoa_result.optimal_point)"
   ]
  },
  {
   "cell_type": "code",
   "execution_count": 43,
   "metadata": {},
   "outputs": [],
   "source": [
    "# counts = qaoa_result.eigenstate\n",
    "# counts = np.array(list(counts.values()))"
   ]
  },
  {
   "cell_type": "code",
   "execution_count": 44,
   "metadata": {},
   "outputs": [],
   "source": [
    "# plt.figure(figsize=(10, 5))\n",
    "# # plt.bar(range(2**qubit_count), list(result.values()))\n",
    "# plt.bar(range(2**op.num_qubits), counts)\n",
    "# # plt.xlabel('Cut')\n",
    "# plt.ylabel('Frequency')\n",
    "# plt.title('Distribution')\n",
    "# # plt.gca().set_xticklabels([])\n",
    "# plt.xticks(rotation=90)\n",
    "# plt.xticks(visible=False)\n",
    "# plt.show()"
   ]
  },
  {
   "cell_type": "markdown",
   "metadata": {},
   "source": [
    "# CUDA QAOA"
   ]
  },
  {
   "cell_type": "code",
   "execution_count": 45,
   "metadata": {},
   "outputs": [],
   "source": [
    "@cudaq.kernel\n",
    "def realAmplitudeAnsatz(qreg: cudaq.qvector, qubit_count: int, ansatz: int, alpha: float):\n",
    "    if ansatz == 0:\n",
    "        for i in range(qubit_count):\n",
    "            x.ctrl(qreg[i], qreg[(i+1)%qubit_count])\n",
    "            rz(2.0*alpha, qreg[(i+1)%qubit_count])\n",
    "            x.ctrl(qreg[i], qreg[(i+1)%qubit_count])\n",
    "\n",
    "@cudaq.kernel\n",
    "def mixingAnsatz(qreg: cudaq.qvector, qubit_count: int, beta: float):\n",
    "    for i in range(qubit_count):\n",
    "        rx(2.0*beta, qreg[i])\n",
    "\n",
    "@cudaq.kernel\n",
    "def kernel_qaoa(qubit_count: int, layer_count: int, thetas: List[float], ansatz: int):\n",
    "    qreg = cudaq.qvector(qubit_count)\n",
    "    h(qreg)\n",
    "    for i in range(layer_count):\n",
    "        realAmplitudeAnsatz(qreg, qubit_count, ansatz, thetas[i])\n",
    "        mixingAnsatz(qreg, qubit_count, thetas[layer_count + i])"
   ]
  },
  {
   "cell_type": "code",
   "execution_count": 46,
   "metadata": {},
   "outputs": [],
   "source": [
    "# print(cudaq.draw(kernel_qaoa, 4, 2, [0.1]*4, 0))"
   ]
  },
  {
   "cell_type": "code",
   "execution_count": 47,
   "metadata": {},
   "outputs": [],
   "source": [
    "@cudaq.kernel\n",
    "def kernel_qaoa_ham(qubit_count: int, layer_count: int, thetas: List[float], idx_1: List[int], coeff_1: List[float], idx_2_a: List[int], idx_2_b: List[int], coeff_2: List[float]):\n",
    "    qreg = cudaq.qvector(qubit_count)\n",
    "    # qreg = cudaq.qvector(3)\n",
    "    h(qreg)\n",
    "\n",
    "    for i in range(layer_count):\n",
    "        # for idxs, coeff, l in sorted_raw_ham:\n",
    "        #     if l == 1:\n",
    "        #         rz(2 * coeff * thetas[i], qreg[idxs[0]])\n",
    "        #     elif l == 2:\n",
    "        #         x.ctrl(qreg[idxs[0]], qreg[idxs[1]])\n",
    "        #         rz(2 * coeff * thetas[i], qreg[idxs[1]])\n",
    "        #         x.ctrl(qreg[idxs[0]], qreg[idxs[1]])\n",
    "        # for i in range(qubit_count):\n",
    "        #     rx(2.0 * thetas[layer_count + i], qreg[i])\n",
    "\n",
    "        for j in range(len(idx_1)):\n",
    "            rz(2 * coeff_1[j] * thetas[i], qreg[idx_1[j]])\n",
    "        \n",
    "        for j in range(len(idx_2_a)):\n",
    "            x.ctrl(qreg[idx_2_a[j]], qreg[idx_2_b[j]])\n",
    "            rz(2 * coeff_2[j] * thetas[i], qreg[idx_2_b[j]])\n",
    "            x.ctrl(qreg[idx_2_a[j]], qreg[idx_2_b[j]])\n",
    "\n",
    "        for j in range(qubit_count):\n",
    "            rx(2.0 * thetas[layer_count + i], qreg[j])"
   ]
  },
  {
   "cell_type": "code",
   "execution_count": 48,
   "metadata": {},
   "outputs": [],
   "source": [
    "idx_1_use, coeff_1_use = idx_1, coeff_1\n",
    "idx_2_a_use, idx_2_b_use, coeff_2_use = idx_2_a, idx_2_b, coeff_2\n",
    "\n",
    "# idx_1_use, coeff_1_use = idx_1_qis, coeff_1_qis\n",
    "# idx_2_a_use, idx_2_b_use, coeff_2_use = idx_2_a_qis, idx_2_b_qis, coeff_2_qis"
   ]
  },
  {
   "cell_type": "code",
   "execution_count": 49,
   "metadata": {},
   "outputs": [
    {
     "name": "stdout",
     "output_type": "stream",
     "text": [
      "(-69.2933+0i) * I0 + (69.2933+0i) * Z0 + (150+0i) + (73.6321+0i) * I0I1 + (-73.6321+0i) * I0Z1 + (-73.6321+0i) * Z0I1 + (73.6321+0i) * Z0Z1 + (52.755+0i) * I0I2 + (-52.755+0i) * I0Z2 + (-52.755+0i) * Z0I2 + (52.755+0i) * Z0Z2 + (105.51+0i) * I0I3 + (-105.51+0i) * I0Z3 + (-105.51+0i) * Z0I3 + (105.51+0i) * Z0Z3 + (-67.2877+0i) * I1 + (67.2877+0i) * Z1 + (49.5104+0i) * I1I2 + (-49.5104+0i) * I1Z2 + (-49.5104+0i) * Z1I2 + (49.5104+0i) * Z1Z2 + (99.0207+0i) * I1I3 + (-99.0207+0i) * I1Z3 + (-99.0207+0i) * Z1I3 + (99.0207+0i) * Z1Z3 + (-55.2253+0i) * I2 + (55.2253+0i) * Z2 + (70.9452+0i) * I2I3 + (-70.9452+0i) * I2Z3 + (-70.9452+0i) * Z2I3 + (70.9452+0i) * Z2Z3 + (-74.978+0i) * I3 + (74.978+0i) * Z3\n"
     ]
    }
   ],
   "source": [
    "print(H)"
   ]
  },
  {
   "cell_type": "code",
   "execution_count": 50,
   "metadata": {},
   "outputs": [
    {
     "name": "stdout",
     "output_type": "stream",
     "text": [
      "     ╭───╮╭───────────╮ ╭────────────╮╭────────────╮╭────────────╮     »\n",
      "q0 : ┤ h ├┤ rz(69.29) ├─┤ rz(-73.63) ├┤ rz(-52.76) ├┤ rz(-105.5) ├──●──»\n",
      "     ├───┤├───────────┴╮├───────────┬╯├────────────┤├────────────┤╭─┴─╮»\n",
      "q1 : ┤ h ├┤ rz(-73.63) ├┤ rz(67.29) ├─┤ rz(-49.51) ├┤ rz(-99.02) ├┤ x ├»\n",
      "     ├───┤├────────────┤├───────────┴╮├───────────┬╯├────────────┤╰───╯»\n",
      "q2 : ┤ h ├┤ rz(-52.76) ├┤ rz(-49.51) ├┤ rz(55.23) ├─┤ rz(-70.95) ├─────»\n",
      "     ├───┤├────────────┤├────────────┤├───────────┴╮├───────────┬╯     »\n",
      "q3 : ┤ h ├┤ rz(-105.5) ├┤ rz(-99.02) ├┤ rz(-70.95) ├┤ rz(74.98) ├──────»\n",
      "     ╰───╯╰────────────╯╰────────────╯╰────────────╯╰───────────╯      »\n",
      "\n",
      "################################################################################\n",
      "\n",
      "                                                                ╭───────╮»\n",
      "───────────────●────●─────────────────●────●─────────────────●──┤ rx(1) ├»\n",
      "╭───────────╮╭─┴─╮  │                 │    │                 │  ╰───────╯»\n",
      "┤ rz(73.63) ├┤ x ├──┼─────────────────┼────┼─────────────────┼──────●────»\n",
      "╰───────────╯╰───╯╭─┴─╮╭───────────╮╭─┴─╮  │                 │    ╭─┴─╮  »\n",
      "──────────────────┤ x ├┤ rz(52.76) ├┤ x ├──┼─────────────────┼────┤ x ├──»\n",
      "                  ╰───╯╰───────────╯╰───╯╭─┴─╮╭───────────╮╭─┴─╮  ╰───╯  »\n",
      "─────────────────────────────────────────┤ x ├┤ rz(105.5) ├┤ x ├─────────»\n",
      "                                         ╰───╯╰───────────╯╰───╯         »\n",
      "\n",
      "################################################################################\n",
      "\n",
      "                                                                             \n",
      "─────────────────────────────────────────────────────────────────────────────\n",
      "                                         ╭───────╮                           \n",
      "───────────────●────●─────────────────●──┤ rx(1) ├───────────────────────────\n",
      "╭───────────╮╭─┴─╮  │                 │  ╰───────╯                  ╭───────╮\n",
      "┤ rz(49.51) ├┤ x ├──┼─────────────────┼──────●───────────────────●──┤ rx(1) ├\n",
      "╰───────────╯╰───╯╭─┴─╮╭───────────╮╭─┴─╮  ╭─┴─╮  ╭───────────╮╭─┴─╮├───────┤\n",
      "──────────────────┤ x ├┤ rz(99.02) ├┤ x ├──┤ x ├──┤ rz(70.95) ├┤ x ├┤ rx(1) ├\n",
      "                  ╰───╯╰───────────╯╰───╯  ╰───╯  ╰───────────╯╰───╯╰───────╯\n",
      "\n"
     ]
    }
   ],
   "source": [
    "print(cudaq.draw(kernel_qaoa_ham, n_qubit, 1, [0.5]*4, idx_1_use, coeff_1_use, idx_2_a_use, idx_2_b_use, coeff_2_use)) "
   ]
  },
  {
   "cell_type": "markdown",
   "metadata": {},
   "source": [
    "# Ansatz Architecture"
   ]
  },
  {
   "cell_type": "code",
   "execution_count": 51,
   "metadata": {},
   "outputs": [
    {
     "name": "stdout",
     "output_type": "stream",
     "text": [
      "Initial parameters =  [-0.14196387370672703, 0.028443247146677786, -0.32306370742577295, 0.3885465759307699, -0.3010710288581717, 0.16922826950813452, 0.38199245537399273, -0.287317447724161, -0.02608406955964715, 0.2511857837926855]\n"
     ]
    }
   ],
   "source": [
    "idx = 3\n",
    "layer_count = 5\n",
    "\n",
    "parameter_count = layer_count * 2\n",
    "\n",
    "optimizer1 = cudaq.optimizers.NelderMead()\n",
    "optimizer2 = cudaq.optimizers.COBYLA()\n",
    "optimizer3 = cudaq.optimizers.SPSA()\n",
    "optimizer4 = cudaq.optimizers.Adam()\n",
    "optimizer5 = cudaq.optimizers.GradientDescent()\n",
    "\n",
    "optimizer = [optimizer1, optimizer2, optimizer3, optimizer4, optimizer5][idx]\n",
    "optimizer_names = [\"Nelder-Mead\", \"COBYLA\", \"SPSA\", \"Adam\", \"GradientDescent\"]\n",
    "optimizer_name = optimizer_names[idx]\n",
    "FIND_GRAD = True if optimizer.requires_gradients() else False\n",
    "\n",
    "optimizer.max_iterations = 1000\n",
    "\n",
    "optimizer.initial_parameters = np.random.uniform(-np.pi / 8, np.pi / 8, parameter_count)\n",
    "print(\"Initial parameters = \", optimizer.initial_parameters)"
   ]
  },
  {
   "cell_type": "markdown",
   "metadata": {},
   "source": [
    "# Optimize"
   ]
  },
  {
   "cell_type": "code",
   "execution_count": 52,
   "metadata": {},
   "outputs": [
    {
     "name": "stdout",
     "output_type": "stream",
     "text": [
      "Required Gradient =  True\n"
     ]
    }
   ],
   "source": [
    "expectations = []\n",
    "\n",
    "def cost_func(parameters):\n",
    "    # return cudaq.observe(kernel_qaoa, H, n_qubit, layer_count, parameters, 0).expectation()\n",
    "    return cudaq.observe(kernel_qaoa_ham, H, n_qubit, layer_count, parameters, idx_1_use, coeff_1_use, idx_2_a_use, idx_2_b_use, coeff_2_use).expectation()\n",
    "\n",
    "def objective(parameters):\n",
    "    expectation = cost_func(parameters)\n",
    "    expectations.append(expectation)\n",
    "    return expectation\n",
    "\n",
    "def objective_grad_cuda(parameters):\n",
    "    expectation = cost_func(parameters)\n",
    "    expectations.append(expectation)\n",
    "\n",
    "    gradient = cudaq.gradients.ForwardDifference().compute(parameters, cost_func, expectation)\n",
    "\n",
    "    return expectation, gradient\n",
    "\n",
    "objective_func = objective_grad_cuda if FIND_GRAD else objective\n",
    "print(\"Required Gradient = \", FIND_GRAD)"
   ]
  },
  {
   "cell_type": "code",
   "execution_count": 53,
   "metadata": {},
   "outputs": [
    {
     "ename": "KeyboardInterrupt",
     "evalue": "",
     "output_type": "error",
     "traceback": [
      "\u001b[31m---------------------------------------------------------------------------\u001b[39m",
      "\u001b[31mKeyboardInterrupt\u001b[39m                         Traceback (most recent call last)",
      "\u001b[36mCell\u001b[39m\u001b[36m \u001b[39m\u001b[32mIn[53]\u001b[39m\u001b[32m, line 2\u001b[39m\n\u001b[32m      1\u001b[39m st = time.time()\n\u001b[32m----> \u001b[39m\u001b[32m2\u001b[39m optimal_expectation, optimal_parameters = \u001b[43moptimizer\u001b[49m\u001b[43m.\u001b[49m\u001b[43moptimize\u001b[49m\u001b[43m(\u001b[49m\n\u001b[32m      3\u001b[39m \u001b[43m    \u001b[49m\u001b[43mdimensions\u001b[49m\u001b[43m=\u001b[49m\u001b[43mparameter_count\u001b[49m\u001b[43m,\u001b[49m\u001b[43m \u001b[49m\u001b[43mfunction\u001b[49m\u001b[43m=\u001b[49m\u001b[43mobjective_func\u001b[49m\u001b[43m)\u001b[49m\n\u001b[32m      4\u001b[39m et = time.time()\n\u001b[32m      6\u001b[39m \u001b[38;5;28;01mif\u001b[39;00m \u001b[38;5;129;01mnot\u001b[39;00m os.path.exists(\u001b[33m\"\u001b[39m\u001b[33m./output_PO\u001b[39m\u001b[33m\"\u001b[39m):\n",
      "\u001b[36mCell\u001b[39m\u001b[36m \u001b[39m\u001b[32mIn[52]\u001b[39m\u001b[32m, line 16\u001b[39m, in \u001b[36mobjective_grad_cuda\u001b[39m\u001b[34m(parameters)\u001b[39m\n\u001b[32m     13\u001b[39m expectation = cost_func(parameters)\n\u001b[32m     14\u001b[39m expectations.append(expectation)\n\u001b[32m---> \u001b[39m\u001b[32m16\u001b[39m gradient = \u001b[43mcudaq\u001b[49m\u001b[43m.\u001b[49m\u001b[43mgradients\u001b[49m\u001b[43m.\u001b[49m\u001b[43mForwardDifference\u001b[49m\u001b[43m(\u001b[49m\u001b[43m)\u001b[49m\u001b[43m.\u001b[49m\u001b[43mcompute\u001b[49m\u001b[43m(\u001b[49m\u001b[43mparameters\u001b[49m\u001b[43m,\u001b[49m\u001b[43m \u001b[49m\u001b[43mcost_func\u001b[49m\u001b[43m,\u001b[49m\u001b[43m \u001b[49m\u001b[43mexpectation\u001b[49m\u001b[43m)\u001b[49m\n\u001b[32m     18\u001b[39m \u001b[38;5;28;01mreturn\u001b[39;00m expectation, gradient\n",
      "\u001b[36mCell\u001b[39m\u001b[36m \u001b[39m\u001b[32mIn[52]\u001b[39m\u001b[32m, line 5\u001b[39m, in \u001b[36mcost_func\u001b[39m\u001b[34m(parameters)\u001b[39m\n\u001b[32m      3\u001b[39m \u001b[38;5;28;01mdef\u001b[39;00m\u001b[38;5;250m \u001b[39m\u001b[34mcost_func\u001b[39m(parameters):\n\u001b[32m      4\u001b[39m     \u001b[38;5;66;03m# return cudaq.observe(kernel_qaoa, H, n_qubit, layer_count, parameters, 0).expectation()\u001b[39;00m\n\u001b[32m----> \u001b[39m\u001b[32m5\u001b[39m     \u001b[38;5;28;01mreturn\u001b[39;00m \u001b[43mcudaq\u001b[49m\u001b[43m.\u001b[49m\u001b[43mobserve\u001b[49m\u001b[43m(\u001b[49m\u001b[43mkernel_qaoa_ham\u001b[49m\u001b[43m,\u001b[49m\u001b[43m \u001b[49m\u001b[43mH\u001b[49m\u001b[43m,\u001b[49m\u001b[43m \u001b[49m\u001b[43mn_qubit\u001b[49m\u001b[43m,\u001b[49m\u001b[43m \u001b[49m\u001b[43mlayer_count\u001b[49m\u001b[43m,\u001b[49m\u001b[43m \u001b[49m\u001b[43mparameters\u001b[49m\u001b[43m,\u001b[49m\u001b[43m \u001b[49m\u001b[43midx_1_use\u001b[49m\u001b[43m,\u001b[49m\u001b[43m \u001b[49m\u001b[43mcoeff_1_use\u001b[49m\u001b[43m,\u001b[49m\u001b[43m \u001b[49m\u001b[43midx_2_a_use\u001b[49m\u001b[43m,\u001b[49m\u001b[43m \u001b[49m\u001b[43midx_2_b_use\u001b[49m\u001b[43m,\u001b[49m\u001b[43m \u001b[49m\u001b[43mcoeff_2_use\u001b[49m\u001b[43m)\u001b[49m.expectation()\n",
      "\u001b[36mFile \u001b[39m\u001b[32m~/miniconda3/envs/cudaq/lib/python3.11/site-packages/cudaq/runtime/observe.py:128\u001b[39m, in \u001b[36mobserve\u001b[39m\u001b[34m(kernel, spin_operator, shots_count, noise_model, num_trajectories, execution, *args)\u001b[39m\n\u001b[32m    126\u001b[39m     ctx.numberTrajectories = num_trajectories\n\u001b[32m    127\u001b[39m cudaq_runtime.setExecutionContext(ctx)\n\u001b[32m--> \u001b[39m\u001b[32m128\u001b[39m \u001b[43mkernel\u001b[49m\u001b[43m(\u001b[49m\u001b[43m*\u001b[49m\u001b[43margs\u001b[49m\u001b[43m)\u001b[49m\n\u001b[32m    129\u001b[39m res = ctx.result\n\u001b[32m    130\u001b[39m cudaq_runtime.resetExecutionContext()\n",
      "\u001b[36mFile \u001b[39m\u001b[32m~/miniconda3/envs/cudaq/lib/python3.11/site-packages/cudaq/kernel/kernel_decorator.py:467\u001b[39m, in \u001b[36mPyKernelDecorator.__call__\u001b[39m\u001b[34m(self, *args)\u001b[39m\n\u001b[32m    464\u001b[39m         tmpBridge.visit(globalAstRegistry[arg.name][\u001b[32m0\u001b[39m])\n\u001b[32m    466\u001b[39m \u001b[38;5;66;03m# Convert `numpy` arrays to lists\u001b[39;00m\n\u001b[32m--> \u001b[39m\u001b[32m467\u001b[39m \u001b[38;5;28;01mif\u001b[39;00m \u001b[43mcc\u001b[49m\u001b[43m.\u001b[49m\u001b[43mStdvecType\u001b[49m\u001b[43m.\u001b[49m\u001b[43misinstance\u001b[49m\u001b[43m(\u001b[49m\u001b[43mmlirType\u001b[49m\u001b[43m)\u001b[49m \u001b[38;5;129;01mand\u001b[39;00m \u001b[38;5;28mhasattr\u001b[39m(arg, \u001b[33m\"\u001b[39m\u001b[33mtolist\u001b[39m\u001b[33m\"\u001b[39m):\n\u001b[32m    468\u001b[39m     \u001b[38;5;28;01mif\u001b[39;00m arg.ndim != \u001b[32m1\u001b[39m:\n\u001b[32m    469\u001b[39m         emitFatalError(\n\u001b[32m    470\u001b[39m             \u001b[33mf\u001b[39m\u001b[33m\"\u001b[39m\u001b[33mCUDA-Q kernels only support array arguments from NumPy that are one dimensional (input argument \u001b[39m\u001b[38;5;132;01m{\u001b[39;00mi\u001b[38;5;132;01m}\u001b[39;00m\u001b[33m has shape = \u001b[39m\u001b[38;5;132;01m{\u001b[39;00marg.shape\u001b[38;5;132;01m}\u001b[39;00m\u001b[33m).\u001b[39m\u001b[33m\"\u001b[39m\n\u001b[32m    471\u001b[39m         )\n",
      "\u001b[31mKeyboardInterrupt\u001b[39m: "
     ]
    }
   ],
   "source": [
    "st = time.time()\n",
    "optimal_expectation, optimal_parameters = optimizer.optimize(\n",
    "    dimensions=parameter_count, function=objective_func)\n",
    "et = time.time()\n",
    "\n",
    "if not os.path.exists(\"./output_PO\"):\n",
    "    os.makedirs(\"./output_PO\")\n",
    "np.save(f\"./output_PO/expectations_{optimizer_name}.npy\", np.array(expectations))\n",
    "\n",
    "print('optimal_expectation =', optimal_expectation)\n",
    "print('optimal_parameters =', optimal_parameters)\n",
    "print('Time taken = ', et - st)"
   ]
  },
  {
   "cell_type": "code",
   "execution_count": null,
   "metadata": {},
   "outputs": [
    {
     "name": "stdout",
     "output_type": "stream",
     "text": [
      "Sampling 1000000 times...\n",
      "Finding the best solution...\n",
      "0010 267879 0.267879\n",
      "|q0>|q1>|q2>...\n"
     ]
    }
   ],
   "source": [
    "shots_count = int(1e6)\n",
    "print(f\"Sampling {shots_count} times...\")\n",
    "# result = cudaq.sample(kernel_qaoa, int(n_qubit), layer_count, optimal_parameters, 0, shots_count=shots_count)\n",
    "result = cudaq.sample(kernel_qaoa_ham, int(n_qubit), layer_count, optimal_parameters, idx_1_use, coeff_1_use, idx_2_a_use, idx_2_b_use, coeff_2_use, shots_count=shots_count)\n",
    "\n",
    "print(\"Finding the best solution...\")\n",
    "idx_b2 = result.most_probable()\n",
    "idx = int(idx_b2, 2)\n",
    "idx_r = 2**n_qubit - 1 - int(idx_b2, 2)\n",
    "idx_r_b2 = bin(idx_r)[2:].zfill(n_qubit)\n",
    "\n",
    "print(idx_b2, result[idx_b2], result[idx_b2]/shots_count)\n",
    "# print(idx_r_b2, result[idx_r_b2], result[idx_r_b2]/shots_count)\n",
    "print(\"|q0>|q1>|q2>...\")\n",
    "\n"
   ]
  },
  {
   "cell_type": "code",
   "execution_count": null,
   "metadata": {},
   "outputs": [
    {
     "name": "stdout",
     "output_type": "stream",
     "text": [
      "SV: [(0.180468,0.272169), (0.343185,-0.164596), (0.316308,-0.203451), (-0.00135268,-0.011108), (0.236234,-0.460848), (-0.0625468,0.0658717), (-0.0712041,0.0909455), (0.0916309,-0.0413195), (0.511348,-0.0785418), (-0.0274597,-0.116964), (-0.0313646,-0.105321), (-0.0165733,-0.0297057), (-0.0872244,-0.0548588), (-0.00335168,0.0146039), (0.00905958,0.0111963), (0.0258576,-0.00249793)]\n",
      "\n",
      "0000 0.10664475996174816\n",
      "0001 0.26764529604006376\n",
      "0010 0.26818708603916624\n",
      "0011 0.010617576438033405\n",
      "0100 0.14144339758969782\n",
      "0101 0.012076148012366339\n",
      "0110 0.013341105690190258\n",
      "0111 0.0002074331378542184\n",
      "1000 0.1448675092610703\n",
      "1001 0.014434566705830239\n",
      "1010 0.008251183457155808\n",
      "1011 0.0002245063251166257\n",
      "1100 0.00012521635871668796\n",
      "1101 0.001157102619615685\n",
      "1110 0.010103530603367395\n",
      "1111 0.0006748568182243474\n",
      "16\n"
     ]
    }
   ],
   "source": [
    "state = cudaq.get_state(kernel_qaoa_ham, int(n_qubit), layer_count, optimal_parameters, idx_1_use, coeff_1_use, idx_2_a_use, idx_2_b_use, coeff_2_use)\n",
    "print(state)\n",
    "\n",
    "for i in range(len(state)):\n",
    "    bb = bin(i)[2:].zfill(n_qubit)\n",
    "    print(bb, abs(state[i])**2)\n",
    "\n",
    "print(len(state))"
   ]
  },
  {
   "cell_type": "code",
   "execution_count": null,
   "metadata": {},
   "outputs": [
    {
     "ename": "AssertionError",
     "evalue": "",
     "output_type": "error",
     "traceback": [
      "\u001b[31m---------------------------------------------------------------------------\u001b[39m",
      "\u001b[31mAssertionError\u001b[39m                            Traceback (most recent call last)",
      "\u001b[36mCell\u001b[39m\u001b[36m \u001b[39m\u001b[32mIn[27]\u001b[39m\u001b[32m, line 1\u001b[39m\n\u001b[32m----> \u001b[39m\u001b[32m1\u001b[39m \u001b[38;5;28;01massert\u001b[39;00m \u001b[38;5;28;01mFalse\u001b[39;00m\n",
      "\u001b[31mAssertionError\u001b[39m: "
     ]
    }
   ],
   "source": [
    "assert False"
   ]
  },
  {
   "cell_type": "code",
   "execution_count": null,
   "metadata": {},
   "outputs": [],
   "source": [
    "result_final = np.zeros(2**n_qubit)\n",
    "for i in result:\n",
    "    result_final[int(i, 2)] = result[i]"
   ]
  },
  {
   "cell_type": "code",
   "execution_count": null,
   "metadata": {},
   "outputs": [
    {
     "data": {
      "image/png": "[encoded data removed]",
      "text/plain": [
       "<Figure size 1500x500 with 1 Axes>"
      ]
     },
     "metadata": {},
     "output_type": "display_data"
    }
   ],
   "source": [
    "# plt.figure(figsize=(100, 15))\n",
    "plt.figure(figsize=(15, 5))\n",
    "# plt.bar(range(2**qubit_count), list(result.values()))\n",
    "plt.bar(range(2**n_qubit), result_final)\n",
    "# plt.bar(range(int(2**(n_qubit-3)*0.1)), result_final[2**(n_qubit-3)*4:int(2**(n_qubit-3)*4.1)])\n",
    "plt.ylabel('Frequency')\n",
    "plt.title('Distribution of Normal Mixer')\n",
    "# plt.gca().set_xticklabels([])\n",
    "# plt.xticks(rotation=90)\n",
    "# plt.xticks(visible=False)\n",
    "plt.show()"
   ]
  },
  {
   "cell_type": "code",
   "execution_count": 54,
   "metadata": {},
   "outputs": [
    {
     "name": "stdout",
     "output_type": "stream",
     "text": [
      "Expectations file not found for Nelder-Mead\n",
      "Expectations file not found for COBYLA\n",
      "Expectations file not found for SPSA\n",
      "Loading expectations from Adam\n",
      "Expectations file not found for GradientDescent\n"
     ]
    },
    {
     "data": {
      "image/png": "[encoded data removed]",
      "text/plain": [
       "<Figure size 2000x1000 with 1 Axes>"
      ]
     },
     "metadata": {},
     "output_type": "display_data"
    }
   ],
   "source": [
    "plt.figure(figsize=(20, 10))\n",
    "for i in range(len(optimizer_names)):\n",
    "    if os.path.exists(f\"./output_PO/expectations_{optimizer_names[i]}.npy\"):\n",
    "        print(f\"Loading expectations from {optimizer_names[i]}\")\n",
    "    else:\n",
    "        print(f\"Expectations file not found for {optimizer_names[i]}\")\n",
    "        continue\n",
    "    expectations = np.load(f\"./output_PO/expectations_{optimizer_names[i]}.npy\")\n",
    "    plt.plot(expectations, label=optimizer_names[i])\n",
    "plt.xlabel('Iterations')\n",
    "plt.ylabel('Expectation')\n",
    "plt.title(f'Expectations vs Iterations ({n_qubit} qubits)')\n",
    "plt.legend()\n",
    "plt.show()"
   ]
  }
 ],
 "metadata": {
  "kernelspec": {
   "display_name": "cudaq",
   "language": "python",
   "name": "python3"
  },
  "language_info": {
   "codemirror_mode": {
    "name": "ipython",
    "version": 3
   },
   "file_extension": ".py",
   "mimetype": "text/x-python",
   "name": "python",
   "nbconvert_exporter": "python",
   "pygments_lexer": "ipython3",
   "version": "3.11.13"
  }
 },
 "nbformat": 4,
 "nbformat_minor": 2
}
