{
 "cells": [
  {
   "cell_type": "code",
   "execution_count": 2,
   "metadata": {},
   "outputs": [],
   "source": [
    "import numpy as np\n",
    "import pandas as pd\n",
    "import cudaq\n",
    "from cudaq import spin\n",
    "from typing import List, Tuple\n",
    "import matplotlib.pyplot as plt\n",
    "import sys\n",
    "import os\n",
    "sys.path.append(os.path.abspath(\"..\"))\n",
    "from Utils.qaoaCUDAQ import po_normalize, ret_cov_to_QUBO, qubo_to_ising, process_ansatz_values\n",
    "\n",
    "import time\n",
    "\n",
    "cudaq.set_target(\"nvidia\")"
   ]
  },
  {
   "cell_type": "code",
   "execution_count": 3,
   "metadata": {},
   "outputs": [],
   "source": [
    "# from qiskit_finance.applications.optimization import PortfolioOptimization\n",
    "# from qiskit_optimization.algorithms import MinimumEigenOptimizer\n",
    "# from qiskit_algorithms import QAOA\n",
    "# from qiskit_algorithms.optimizers import COBYLA\n",
    "# from qiskit.primitives import Sampler\n",
    "# from qiskit_optimization.converters import QuadraticProgramToQubo\n",
    "# from qiskit.circuit.library import QAOAAnsatz\n",
    "# from qiskit_optimization.translators import to_ising\n",
    "# from qiskit.result import marginal_distribution"
   ]
  },
  {
   "cell_type": "code",
   "execution_count": 4,
   "metadata": {},
   "outputs": [],
   "source": [
    "# def po_normalize(B, P, ret, cov):\n",
    "#     P_b = P / B\n",
    "#     ret_b = ret * P_b\n",
    "#     cov_b = np.diag(P_b) @ cov @ np.diag(P_b)\n",
    "    \n",
    "#     n_max = np.int32(np.floor(np.log2(B/P))) + 1\n",
    "#     print(\"n_max:\", n_max)\n",
    "#     n_qs = np.cumsum(n_max)\n",
    "#     n_qs = np.insert(n_qs, 0, 0)\n",
    "#     n_qubit = n_qs[-1]\n",
    "#     C = np.zeros((len(P), n_qubit))\n",
    "#     for i in range(len(P)):\n",
    "#          for j in range(n_max[i]):\n",
    "#               C[i, n_qs[i] + j] = 2**j\n",
    "\n",
    "#     P_bb = C.T @ P_b\n",
    "#     ret_bb = C.T @ ret_b\n",
    "#     print(\"ret_bb:\", ret_bb)\n",
    "#     cov_bb = C.T @ cov_b @ C\n",
    "#     return P_bb, ret_bb, cov_bb, int(n_qubit)\n",
    "\n",
    "# def ret_cov_to_QUBO(ret: np.ndarray, cov: np.ndarray, P: np.ndarray, lamb: float, q:float) -> np.ndarray:\n",
    "#     di = np.diag(ret + lamb * (P*P + 2*P))\n",
    "#     mat = 2 * lamb * np.outer(P, P) + q * cov\n",
    "#     return di - mat\n",
    "\n",
    "# def qubo_to_ising(qubo: np.ndarray, lamb: float) -> cudaq.SpinOperator:\n",
    "#     spin_op = lamb\n",
    "#     for i in range(qubo.shape[0]):\n",
    "#         for j in range(qubo.shape[1]):\n",
    "#                 if i != j:\n",
    "#                     spin_op += qubo[i, j] * ((spin.i(i) - spin.z(i)) / 2 * (spin.i(j) - spin.z(j)) / 2)\n",
    "#                 else:\n",
    "#                     spin_op += qubo[i, j] * (spin.i(i) - spin.z(i)) / 2\n",
    "#     return spin_op\n",
    "\n",
    "# def process_ansatz_values(H: cudaq.SpinOperator) -> Tuple[List[int], List[float], List[int], List[int], List[float]]:\n",
    "#     HH = H.get_raw_data()\n",
    "\n",
    "#     idxs = [[j - len(HH[0][i])//2 for j in range(len(HH[0][i])) if HH[0][i][j]] for i in range(len(HH[0]))]\n",
    "\n",
    "#     HH = [(idxs[i], HH[1][i], sum(HH[0][i])) for i in range(len(HH[0]))]\n",
    "#     HH = sorted(HH, key=lambda x: (x[2], x[0]), reverse=False)\n",
    "\n",
    "#     idx_1 = []\n",
    "#     coeff_1 = []\n",
    "#     idx_2_a, idx_2_b = [], []\n",
    "#     coeff_2 = []\n",
    "#     for i in range(len(HH)):\n",
    "#         if HH[i][2] == 1:\n",
    "#             idx_1.append(HH[i][0][0])\n",
    "#             coeff_1.append(HH[i][1].real)\n",
    "#         elif HH[i][2] == 2:\n",
    "#             idx_2_a.append(HH[i][0][0])\n",
    "#             idx_2_b.append(HH[i][0][1])\n",
    "#             coeff_2.append(HH[i][1].real)\n",
    "#     # print(HH)\n",
    "\n",
    "#     return idx_1, coeff_1, idx_2_a, idx_2_b, coeff_2"
   ]
  },
  {
   "cell_type": "markdown",
   "metadata": {},
   "source": [
    "# HAMILTONIAN BY CUDAQ"
   ]
  },
  {
   "cell_type": "markdown",
   "metadata": {},
   "source": [
    "### by random values"
   ]
  },
  {
   "cell_type": "code",
   "execution_count": 34,
   "metadata": {},
   "outputs": [
    {
     "name": "stdout",
     "output_type": "stream",
     "text": [
      "[[1.02611046 0.96014178 1.33774952]\n",
      " [0.96014178 0.62213764 1.04182701]\n",
      " [1.33774952 1.04182701 1.40406044]]\n",
      "n_max: [1 1 1]\n",
      "ret_bb: [1.   1.25 1.5 ]\n",
      "n_qubit: 3\n"
     ]
    }
   ],
   "source": [
    "B = 100\n",
    "ret = np.array([1.0, 1.25, 1.5])\n",
    "cov = np.random.rand(3, 3)\n",
    "cov += cov.T\n",
    "print(cov)\n",
    "P = np.array([100, 100, 100])\n",
    "lamb = 1 # Budget Penalty\n",
    "q = 0 # Volatility Weight\n",
    "\n",
    "# P_b, ret_b, cov_b = po_normalize(B, P, ret, cov)\n",
    "P_bb, ret_bb, cov_bb, n_qubit = po_normalize(B, P, ret, cov)\n",
    "\n",
    "print(\"n_qubit:\", n_qubit)\n",
    "\n",
    "QU = -ret_cov_to_QUBO(ret_bb, cov_bb, P_bb, lamb, q)\n",
    "H = qubo_to_ising(QU, lamb)\n"
   ]
  },
  {
   "cell_type": "code",
   "execution_count": 35,
   "metadata": {},
   "outputs": [
    {
     "name": "stdout",
     "output_type": "stream",
     "text": [
      "Hamiltonian: (-1+0i) * I0 + (1+0i) * Z0 + (1+0i) + (1+0i) * I0I1 + (-1+0i) * I0Z1 + (-1+0i) * Z0I1 + (1+0i) * Z0Z1 + (1+0i) * I0I2 + (-1+0i) * I0Z2 + (-1+0i) * Z0I2 + (1+0i) * Z0Z2 + (-1.125+0i) * I1 + (1.125+0i) * Z1 + (1+0i) * I1I2 + (-1+0i) * I1Z2 + (-1+0i) * Z1I2 + (1+0i) * Z1Z2 + (-1.25+0i) * I2 + (1.25+0i) * Z2\n",
      "[0, 0, 0, 1, 1, 1, 2, 2, 2]\n",
      "[1.0, -1.0, -1.0, -1.0, 1.125, -1.0, -1.0, -1.0, 1.25]\n",
      "\n",
      "[0, 0, 1]\n",
      "[1, 2, 2]\n",
      "[1.0, 1.0, 1.0]\n"
     ]
    }
   ],
   "source": [
    "print(\"Hamiltonian:\", H)\n",
    "idx_1, coeff_1, idx_2_a, idx_2_b, coeff_2 = process_ansatz_values(H)\n",
    "\n",
    "print(idx_1)\n",
    "print(coeff_1, end=\"\\n\\n\")\n",
    "print(idx_2_a)\n",
    "print(idx_2_b)\n",
    "print(coeff_2)"
   ]
  },
  {
   "cell_type": "markdown",
   "metadata": {},
   "source": [
    "### by stock values"
   ]
  },
  {
   "cell_type": "code",
   "execution_count": 36,
   "metadata": {},
   "outputs": [],
   "source": [
    "# data_cov = pd.read_csv(\"../dataset/top_50_us_stocks_data_20250526_011226_covariance.csv\")\n",
    "# data_ret_p = pd.read_csv(\"../dataset/top_50_us_stocks_returns_price.csv\")\n",
    "\n",
    "# nn = 3\n",
    "# # B = 1500\n",
    "# B = 270\n",
    "# lamb = 3 # Budget Penalty\n",
    "# q = 0 # Volatility Weight\n",
    "\n",
    "# data_cov = data_cov.drop(\"Ticker\", axis=1).iloc[:nn, :nn]\n",
    "# print(data_cov)\n",
    "# data_ret_p = data_ret_p.iloc[:nn]\n",
    "# stock_names = data_ret_p[\"Ticker\"].tolist()\n",
    "# data_ret_p = data_ret_p.drop(\"Ticker\", axis=1)\n",
    "\n",
    "# data_cov = data_cov.to_numpy()\n",
    "# data_ret_p = data_ret_p.to_numpy()\n",
    "\n",
    "# data_ret = data_ret_p[:, 0]\n",
    "# data_p = data_ret_p[:, 1]\n",
    "\n",
    "# print(data_cov.shape)\n",
    "# print(data_ret.round(5))\n",
    "# print(data_p.round(2))\n",
    "# print(stock_names)"
   ]
  },
  {
   "cell_type": "code",
   "execution_count": 37,
   "metadata": {},
   "outputs": [],
   "source": [
    "# P_bb, ret_bb, cov_bb, n_qubit = po_normalize(B, data_p, data_ret, data_cov)\n",
    "\n",
    "# print(\"n_qubit:\", n_qubit)\n",
    "\n",
    "# QU = -ret_cov_to_QUBO(ret_bb, cov_bb, P_bb, lamb, q)\n",
    "# H = qubo_to_ising(QU, lamb)"
   ]
  },
  {
   "cell_type": "code",
   "execution_count": 38,
   "metadata": {},
   "outputs": [],
   "source": [
    "# idx_1, coeff_1, idx_2_a, idx_2_b, coeff_2 = process_ansatz_values(H)"
   ]
  },
  {
   "cell_type": "markdown",
   "metadata": {},
   "source": [
    "# QISKIT QAOA"
   ]
  },
  {
   "cell_type": "code",
   "execution_count": 39,
   "metadata": {},
   "outputs": [],
   "source": [
    "# # cov[0, 2] = cov[2, 0] = 1\n",
    "# print(cov)\n",
    "# portfolio_qis = PortfolioOptimization(\n",
    "#     expected_returns=ret,\n",
    "#     covariances=cov,\n",
    "#     risk_factor=0,\n",
    "#     budget=1,\n",
    "#     bounds=[(0, 1), (0, 1), (0, 1)]\n",
    "# )\n",
    "# qp = portfolio_qis.to_quadratic_program()\n",
    "# converter = QuadraticProgramToQubo()\n",
    "# qubo = converter.convert(qp)\n",
    "# op, offset = to_ising(qubo)"
   ]
  },
  {
   "cell_type": "code",
   "execution_count": 40,
   "metadata": {},
   "outputs": [],
   "source": [
    "# opp = op.to_sparse_list()\n",
    "# print(opp)\n",
    "# idx_1_qis = []\n",
    "# coeff_1_qis = []\n",
    "# idx_2_a_qis, idx_2_b_qis = [], []\n",
    "# coeff_2_qis = []\n",
    "\n",
    "# for i in range(len(opp)):\n",
    "#     if len(opp[i][1]) == 1:\n",
    "#         idx_1_qis.append(opp[i][1][0])\n",
    "#         coeff_1_qis.append(opp[i][2].real)\n",
    "#     elif len(opp[i][1]) == 2:\n",
    "#         idx_2_a_qis.append(opp[i][1][0])\n",
    "#         idx_2_b_qis.append(opp[i][1][1])\n",
    "#         coeff_2_qis.append(opp[i][2].real)\n",
    "\n",
    "# print(idx_1_qis)\n",
    "# print(coeff_1_qis, end=\"\\n\\n\")\n",
    "# print(idx_2_a_qis)\n",
    "# print(idx_2_b_qis)\n",
    "# print(coeff_2_qis)"
   ]
  },
  {
   "cell_type": "code",
   "execution_count": 41,
   "metadata": {},
   "outputs": [],
   "source": [
    "# qaoa_ansatz = QAOAAnsatz(op, reps=2)\n",
    "# decomposed = qaoa_ansatz.decompose(reps=2)\n",
    "# decomposed.draw(output='text')"
   ]
  },
  {
   "cell_type": "code",
   "execution_count": 42,
   "metadata": {},
   "outputs": [],
   "source": [
    "# qaoa = QAOA(\n",
    "#     optimizer=COBYLA(maxiter=1000),\n",
    "#     reps=2,\n",
    "#     sampler=Sampler()\n",
    "# )\n",
    "\n",
    "# meo = MinimumEigenOptimizer(qaoa)\n",
    "\n",
    "# # result = meo.solve(qubo)"
   ]
  },
  {
   "cell_type": "code",
   "execution_count": 43,
   "metadata": {},
   "outputs": [],
   "source": [
    "# qaoa_result = qaoa.compute_minimum_eigenvalue(operator=op)\n",
    "# print(\"Optimized parameters:\", qaoa_result.optimal_point)"
   ]
  },
  {
   "cell_type": "code",
   "execution_count": 44,
   "metadata": {},
   "outputs": [],
   "source": [
    "# counts = qaoa_result.eigenstate\n",
    "# counts = np.array(list(counts.values()))"
   ]
  },
  {
   "cell_type": "code",
   "execution_count": 45,
   "metadata": {},
   "outputs": [],
   "source": [
    "# plt.figure(figsize=(10, 5))\n",
    "# # plt.bar(range(2**qubit_count), list(result.values()))\n",
    "# plt.bar(range(2**op.num_qubits), counts)\n",
    "# # plt.xlabel('Cut')\n",
    "# plt.ylabel('Frequency')\n",
    "# plt.title('Distribution')\n",
    "# # plt.gca().set_xticklabels([])\n",
    "# plt.xticks(rotation=90)\n",
    "# plt.xticks(visible=False)\n",
    "# plt.show()"
   ]
  },
  {
   "cell_type": "markdown",
   "metadata": {},
   "source": [
    "# CUDA QAOA"
   ]
  },
  {
   "cell_type": "code",
   "execution_count": 46,
   "metadata": {},
   "outputs": [],
   "source": [
    "@cudaq.kernel\n",
    "def realAmplitudeAnsatz(qreg: cudaq.qvector, qubit_count: int, ansatz: int, alpha: float):\n",
    "    if ansatz == 0:\n",
    "        for i in range(qubit_count):\n",
    "            x.ctrl(qreg[i], qreg[(i+1)%qubit_count])\n",
    "            rz(2.0*alpha, qreg[(i+1)%qubit_count])\n",
    "            x.ctrl(qreg[i], qreg[(i+1)%qubit_count])\n",
    "\n",
    "@cudaq.kernel\n",
    "def mixingAnsatz(qreg: cudaq.qvector, qubit_count: int, beta: float):\n",
    "    for i in range(qubit_count):\n",
    "        rx(2.0*beta, qreg[i])\n",
    "\n",
    "@cudaq.kernel\n",
    "def kernel_qaoa(qubit_count: int, layer_count: int, thetas: List[float], ansatz: int):\n",
    "    qreg = cudaq.qvector(qubit_count)\n",
    "    h(qreg)\n",
    "    for i in range(layer_count):\n",
    "        realAmplitudeAnsatz(qreg, qubit_count, ansatz, thetas[i])\n",
    "        mixingAnsatz(qreg, qubit_count, thetas[layer_count + i])"
   ]
  },
  {
   "cell_type": "code",
   "execution_count": 47,
   "metadata": {},
   "outputs": [],
   "source": [
    "# print(cudaq.draw(kernel_qaoa, 4, 2, [0.1]*4, 0))"
   ]
  },
  {
   "cell_type": "code",
   "execution_count": 48,
   "metadata": {},
   "outputs": [],
   "source": [
    "@cudaq.kernel\n",
    "def kernel_qaoa_ham(qubit_count: int, layer_count: int, thetas: List[float], idx_1: List[int], coeff_1: List[float], idx_2_a: List[int], idx_2_b: List[int], coeff_2: List[float]):\n",
    "    qreg = cudaq.qvector(qubit_count)\n",
    "    # qreg = cudaq.qvector(3)\n",
    "    h(qreg)\n",
    "\n",
    "    for i in range(layer_count):\n",
    "        # for idxs, coeff, l in sorted_raw_ham:\n",
    "        #     if l == 1:\n",
    "        #         rz(2 * coeff * thetas[i], qreg[idxs[0]])\n",
    "        #     elif l == 2:\n",
    "        #         x.ctrl(qreg[idxs[0]], qreg[idxs[1]])\n",
    "        #         rz(2 * coeff * thetas[i], qreg[idxs[1]])\n",
    "        #         x.ctrl(qreg[idxs[0]], qreg[idxs[1]])\n",
    "        # for i in range(qubit_count):\n",
    "        #     rx(2.0 * thetas[layer_count + i], qreg[i])\n",
    "\n",
    "        for j in range(len(idx_1)):\n",
    "            rz(2 * coeff_1[j] * thetas[i], qreg[idx_1[j]])\n",
    "        \n",
    "        for j in range(len(idx_2_a)):\n",
    "            x.ctrl(qreg[idx_2_a[j]], qreg[idx_2_b[j]])\n",
    "            rz(2 * coeff_2[j] * thetas[i], qreg[idx_2_b[j]])\n",
    "            x.ctrl(qreg[idx_2_a[j]], qreg[idx_2_b[j]])\n",
    "\n",
    "        for j in range(qubit_count):\n",
    "            rx(2.0 * thetas[layer_count + i], qreg[j])"
   ]
  },
  {
   "cell_type": "code",
   "execution_count": 49,
   "metadata": {},
   "outputs": [],
   "source": [
    "idx_1_use, coeff_1_use = idx_1, coeff_1\n",
    "idx_2_a_use, idx_2_b_use, coeff_2_use = idx_2_a, idx_2_b, coeff_2\n",
    "\n",
    "# idx_1_use, coeff_1_use = idx_1_qis, coeff_1_qis\n",
    "# idx_2_a_use, idx_2_b_use, coeff_2_use = idx_2_a_qis, idx_2_b_qis, coeff_2_qis"
   ]
  },
  {
   "cell_type": "code",
   "execution_count": 50,
   "metadata": {},
   "outputs": [
    {
     "name": "stdout",
     "output_type": "stream",
     "text": [
      "(-1+0i) * I0 + (1+0i) * Z0 + (1+0i) + (1+0i) * I0I1 + (-1+0i) * I0Z1 + (-1+0i) * Z0I1 + (1+0i) * Z0Z1 + (1+0i) * I0I2 + (-1+0i) * I0Z2 + (-1+0i) * Z0I2 + (1+0i) * Z0Z2 + (-1.125+0i) * I1 + (1.125+0i) * Z1 + (1+0i) * I1I2 + (-1+0i) * I1Z2 + (-1+0i) * Z1I2 + (1+0i) * Z1Z2 + (-1.25+0i) * I2 + (1.25+0i) * Z2\n"
     ]
    }
   ],
   "source": [
    "print(H)"
   ]
  },
  {
   "cell_type": "code",
   "execution_count": 51,
   "metadata": {},
   "outputs": [
    {
     "name": "stdout",
     "output_type": "stream",
     "text": [
      "     ╭───╮╭───────╮  ╭────────╮   ╭────────╮                                  »\n",
      "q0 : ┤ h ├┤ rz(1) ├──┤ rz(-1) ├───┤ rz(-1) ├───●─────────────●────●───────────»\n",
      "     ├───┤├───────┴╮╭┴────────┴─╮ ├────────┤ ╭─┴─╮╭───────╮╭─┴─╮  │           »\n",
      "q1 : ┤ h ├┤ rz(-1) ├┤ rz(1.125) ├─┤ rz(-1) ├─┤ x ├┤ rz(1) ├┤ x ├──┼───────────»\n",
      "     ├───┤├────────┤╰┬────────┬─╯╭┴────────┴╮╰───╯╰───────╯╰───╯╭─┴─╮╭───────╮»\n",
      "q2 : ┤ h ├┤ rz(-1) ├─┤ rz(-1) ├──┤ rz(1.25) ├───────────────────┤ x ├┤ rz(1) ├»\n",
      "     ╰───╯╰────────╯ ╰────────╯  ╰──────────╯                   ╰───╯╰───────╯»\n",
      "\n",
      "################################################################################\n",
      "\n",
      "     ╭───────╮                       \n",
      "──●──┤ rx(1) ├───────────────────────\n",
      "  │  ╰───────╯              ╭───────╮\n",
      "──┼──────●───────────────●──┤ rx(1) ├\n",
      "╭─┴─╮  ╭─┴─╮  ╭───────╮╭─┴─╮├───────┤\n",
      "┤ x ├──┤ x ├──┤ rz(1) ├┤ x ├┤ rx(1) ├\n",
      "╰───╯  ╰───╯  ╰───────╯╰───╯╰───────╯\n",
      "\n"
     ]
    }
   ],
   "source": [
    "print(cudaq.draw(kernel_qaoa_ham, n_qubit, 1, [0.5]*4, idx_1_use, coeff_1_use, idx_2_a_use, idx_2_b_use, coeff_2_use)) "
   ]
  },
  {
   "cell_type": "markdown",
   "metadata": {},
   "source": [
    "# Ansatz Architecture"
   ]
  },
  {
   "cell_type": "code",
   "execution_count": 52,
   "metadata": {},
   "outputs": [
    {
     "name": "stdout",
     "output_type": "stream",
     "text": [
      "Initial parameters =  [0.3346580724713807, 0.2799938314848557, 0.20689641354822474, -0.2539974843172311, -0.23591569273978233, -0.3599561033690433, -0.23407637784583618, -0.25332090171234023, 0.29348741619783836, -0.08748281286363074]\n"
     ]
    }
   ],
   "source": [
    "idx = 3\n",
    "layer_count = 5\n",
    "\n",
    "parameter_count = layer_count * 2\n",
    "\n",
    "optimizer1 = cudaq.optimizers.NelderMead()\n",
    "optimizer2 = cudaq.optimizers.COBYLA()\n",
    "optimizer3 = cudaq.optimizers.SPSA()\n",
    "optimizer4 = cudaq.optimizers.Adam()\n",
    "optimizer5 = cudaq.optimizers.GradientDescent()\n",
    "\n",
    "optimizer = [optimizer1, optimizer2, optimizer3, optimizer4, optimizer5][idx]\n",
    "optimizer_names = [\"Nelder-Mead\", \"COBYLA\", \"SPSA\", \"Adam\", \"GradientDescent\"]\n",
    "optimizer_name = optimizer_names[idx]\n",
    "FIND_GRAD = True if optimizer.requires_gradients() else False\n",
    "\n",
    "optimizer.max_iterations = 1000\n",
    "\n",
    "optimizer.initial_parameters = np.random.uniform(-np.pi / 8, np.pi / 8, parameter_count)\n",
    "print(\"Initial parameters = \", optimizer.initial_parameters)"
   ]
  },
  {
   "cell_type": "markdown",
   "metadata": {},
   "source": [
    "# Optimize"
   ]
  },
  {
   "cell_type": "code",
   "execution_count": 53,
   "metadata": {},
   "outputs": [
    {
     "name": "stdout",
     "output_type": "stream",
     "text": [
      "Required Gradient =  True\n"
     ]
    }
   ],
   "source": [
    "expectations = []\n",
    "\n",
    "def cost_func(parameters):\n",
    "    # return cudaq.observe(kernel_qaoa, H, n_qubit, layer_count, parameters, 0).expectation()\n",
    "    return cudaq.observe(kernel_qaoa_ham, H, n_qubit, layer_count, parameters, idx_1_use, coeff_1_use, idx_2_a_use, idx_2_b_use, coeff_2_use).expectation()\n",
    "\n",
    "def objective(parameters):\n",
    "    expectation = cost_func(parameters)\n",
    "    expectations.append(expectation)\n",
    "    return expectation\n",
    "\n",
    "def objective_grad_cuda(parameters):\n",
    "    expectation = cost_func(parameters)\n",
    "    expectations.append(expectation)\n",
    "\n",
    "    gradient = cudaq.gradients.ForwardDifference().compute(parameters, cost_func, expectation)\n",
    "\n",
    "    return expectation, gradient\n",
    "\n",
    "objective_func = objective_grad_cuda if FIND_GRAD else objective\n",
    "print(\"Required Gradient = \", FIND_GRAD)"
   ]
  },
  {
   "cell_type": "code",
   "execution_count": 54,
   "metadata": {},
   "outputs": [
    {
     "name": "stdout",
     "output_type": "stream",
     "text": [
      "optimal_expectation = -1.2431493759067962\n",
      "optimal_parameters = [0.25488511513151996, 0.2704621409350851, 0.10806992462628354, -0.39638369910572857, -0.11042206170171759, -0.3468278901392633, -0.21254813105366008, -0.26264029123518173, 0.3188455821917272, -0.02372373980984758]\n",
      "Time taken =  2.8230013847351074\n"
     ]
    }
   ],
   "source": [
    "st = time.time()\n",
    "optimal_expectation, optimal_parameters = optimizer.optimize(\n",
    "    dimensions=parameter_count, function=objective_func)\n",
    "et = time.time()\n",
    "\n",
    "if not os.path.exists(\"./output_PO\"):\n",
    "    os.makedirs(\"./output_PO\")\n",
    "np.save(f\"./output_PO/expectations_{optimizer_name}.npy\", np.array(expectations))\n",
    "\n",
    "print('optimal_expectation =', optimal_expectation)\n",
    "print('optimal_parameters =', optimal_parameters)\n",
    "print('Time taken = ', et - st)"
   ]
  },
  {
   "cell_type": "code",
   "execution_count": 55,
   "metadata": {},
   "outputs": [
    {
     "name": "stdout",
     "output_type": "stream",
     "text": [
      "Sampling 1000000 times...\n",
      "Finding the best solution...\n",
      "001 382151 0.382151\n",
      "|q0>|q1>|q2>...\n"
     ]
    }
   ],
   "source": [
    "shots_count = int(1e6)\n",
    "print(f\"Sampling {shots_count} times...\")\n",
    "# result = cudaq.sample(kernel_qaoa, int(n_qubit), layer_count, optimal_parameters, 0, shots_count=shots_count)\n",
    "result = cudaq.sample(kernel_qaoa_ham, int(n_qubit), layer_count, optimal_parameters, idx_1_use, coeff_1_use, idx_2_a_use, idx_2_b_use, coeff_2_use, shots_count=shots_count)\n",
    "\n",
    "print(\"Finding the best solution...\")\n",
    "idx_b2 = result.most_probable()\n",
    "idx = int(idx_b2, 2)\n",
    "idx_r = 2**n_qubit - 1 - int(idx_b2, 2)\n",
    "idx_r_b2 = bin(idx_r)[2:].zfill(n_qubit)\n",
    "\n",
    "print(idx_b2, result[idx_b2], result[idx_b2]/shots_count)\n",
    "# print(idx_r_b2, result[idx_r_b2], result[idx_r_b2]/shots_count)\n",
    "print(\"|q0>|q1>|q2>...\")\n",
    "\n"
   ]
  },
  {
   "cell_type": "code",
   "execution_count": 64,
   "metadata": {},
   "outputs": [
    {
     "name": "stdout",
     "output_type": "stream",
     "text": [
      "SV: [(-0.0858815,-0.0486754), (0.0224171,0.526219), (0.0204573,0.570191), (0.0261438,-0.012466), (0.0225021,0.618069), (0.0184426,0.0186674), (0.00429381,0.0530065), (0.00438167,0.0204815)]\n",
      "\n",
      "000 0.09871640511276733\n",
      "001 0.6184785339722385\n",
      "010 0.5705575914505614\n",
      "011 0.05318014534352691\n",
      "100 0.5266966409025111\n",
      "101 0.026241259604876045\n",
      "110 0.0289637692505846\n",
      "111 0.020944901309402547\n",
      "8\n"
     ]
    }
   ],
   "source": [
    "state = cudaq.get_state(kernel_qaoa_ham, int(n_qubit), layer_count, optimal_parameters, idx_1_use, coeff_1_use, idx_2_a_use, idx_2_b_use, coeff_2_use)\n",
    "print(state)\n",
    "\n",
    "for i in range(len(state)):\n",
    "    bb = bin(i)[2:].zfill(n_qubit)\n",
    "    print(bb, abs(state[i]))\n",
    "\n",
    "print(len(state))"
   ]
  },
  {
   "cell_type": "code",
   "execution_count": 57,
   "metadata": {},
   "outputs": [
    {
     "ename": "AssertionError",
     "evalue": "",
     "output_type": "error",
     "traceback": [
      "\u001b[31m---------------------------------------------------------------------------\u001b[39m",
      "\u001b[31mAssertionError\u001b[39m                            Traceback (most recent call last)",
      "\u001b[36mCell\u001b[39m\u001b[36m \u001b[39m\u001b[32mIn[57]\u001b[39m\u001b[32m, line 1\u001b[39m\n\u001b[32m----> \u001b[39m\u001b[32m1\u001b[39m \u001b[38;5;28;01massert\u001b[39;00m \u001b[38;5;28;01mFalse\u001b[39;00m\n",
      "\u001b[31mAssertionError\u001b[39m: "
     ]
    }
   ],
   "source": [
    "assert False"
   ]
  },
  {
   "cell_type": "code",
   "execution_count": 60,
   "metadata": {},
   "outputs": [],
   "source": [
    "result_final = np.zeros(2**n_qubit)\n",
    "for i in result:\n",
    "    result_final[int(i, 2)] = result[i]"
   ]
  },
  {
   "cell_type": "code",
   "execution_count": 61,
   "metadata": {},
   "outputs": [
    {
     "data": {
      "image/png": "[encoded data removed]",
      "text/plain": [
       "<Figure size 1500x500 with 1 Axes>"
      ]
     },
     "metadata": {},
     "output_type": "display_data"
    }
   ],
   "source": [
    "# plt.figure(figsize=(100, 15))\n",
    "plt.figure(figsize=(15, 5))\n",
    "# plt.bar(range(2**qubit_count), list(result.values()))\n",
    "plt.bar(range(2**n_qubit), result_final)\n",
    "# plt.bar(range(int(2**(n_qubit-3)*0.1)), result_final[2**(n_qubit-3)*4:int(2**(n_qubit-3)*4.1)])\n",
    "plt.ylabel('Frequency')\n",
    "plt.title('Distribution of Normal Mixer')\n",
    "# plt.gca().set_xticklabels([])\n",
    "# plt.xticks(rotation=90)\n",
    "# plt.xticks(visible=False)\n",
    "plt.show()"
   ]
  },
  {
   "cell_type": "code",
   "execution_count": 62,
   "metadata": {},
   "outputs": [
    {
     "name": "stdout",
     "output_type": "stream",
     "text": [
      "Expectations file not found for Nelder-Mead\n",
      "Expectations file not found for COBYLA\n",
      "Expectations file not found for SPSA\n",
      "Loading expectations from Adam\n",
      "Expectations file not found for GradientDescent\n"
     ]
    },
    {
     "data": {
      "image/png": "[encoded data removed]",
      "text/plain": [
       "<Figure size 2000x1000 with 1 Axes>"
      ]
     },
     "metadata": {},
     "output_type": "display_data"
    }
   ],
   "source": [
    "plt.figure(figsize=(20, 10))\n",
    "for i in range(len(optimizer_names)):\n",
    "    if os.path.exists(f\"./output_PO/expectations_{optimizer_names[i]}.npy\"):\n",
    "        print(f\"Loading expectations from {optimizer_names[i]}\")\n",
    "    else:\n",
    "        print(f\"Expectations file not found for {optimizer_names[i]}\")\n",
    "        continue\n",
    "    expectations = np.load(f\"./output_PO/expectations_{optimizer_names[i]}.npy\")\n",
    "    plt.plot(expectations, label=optimizer_names[i])\n",
    "plt.xlabel('Iterations')\n",
    "plt.ylabel('Expectation')\n",
    "plt.title(f'Expectations vs Iterations ({n_qubit} qubits)')\n",
    "plt.legend()\n",
    "plt.show()"
   ]
  }
 ],
 "metadata": {
  "kernelspec": {
   "display_name": "cudaq",
   "language": "python",
   "name": "python3"
  },
  "language_info": {
   "codemirror_mode": {
    "name": "ipython",
    "version": 3
   },
   "file_extension": ".py",
   "mimetype": "text/x-python",
   "name": "python",
   "nbconvert_exporter": "python",
   "pygments_lexer": "ipython3",
   "version": "3.11.13"
  }
 },
 "nbformat": 4,
 "nbformat_minor": 2
}
