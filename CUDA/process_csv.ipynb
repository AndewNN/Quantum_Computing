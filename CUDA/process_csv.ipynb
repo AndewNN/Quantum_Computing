{
 "cells": [
  {
   "cell_type": "code",
   "execution_count": 1,
   "metadata": {},
   "outputs": [],
   "source": [
    "import pandas as pd\n",
    "import numpy as np"
   ]
  },
  {
   "cell_type": "code",
   "execution_count": 2,
   "metadata": {},
   "outputs": [
    {
     "name": "stdout",
     "output_type": "stream",
     "text": [
      "count     521805\n",
      "unique        50\n",
      "top          CVX\n",
      "freq       15956\n",
      "Name: Ticker, dtype: object\n"
     ]
    }
   ],
   "source": [
    "data = pd.read_csv(\"../dataset/top_50_us_stocks_data_20250526_011226_with_returns.csv\")\n",
    "\n",
    "print(data[\"Ticker\"].describe())"
   ]
  },
  {
   "cell_type": "code",
   "execution_count": 3,
   "metadata": {},
   "outputs": [
    {
     "name": "stdout",
     "output_type": "stream",
     "text": [
      "   Ticker  Average_Return\n",
      "0    AAPL        0.001070\n",
      "1    ABBV        0.000832\n",
      "2     ABT        0.000706\n",
      "3     ACN        0.000737\n",
      "4    ADBE        0.001244\n",
      "5     AMD        0.001006\n",
      "6    AMZN        0.001688\n",
      "7    AVGO        0.001614\n",
      "8     BMY        0.000517\n",
      "9   BRK-B        0.000520\n",
      "10  CMCSA        0.000798\n",
      "11   COST        0.000696\n",
      "12    CRM        0.001136\n",
      "13   CSCO        0.001108\n",
      "14    CVX        0.000511\n",
      "15    DHR        0.000958\n",
      "16    DIS        0.000671\n",
      "17   GOOG        0.000995\n",
      "18  GOOGL        0.000993\n",
      "19     HD        0.001166\n",
      "20   INTC        0.000738\n",
      "21    JNJ        0.000593\n",
      "22    JPM        0.000729\n",
      "23     KO        0.000565\n",
      "24    LLY        0.000649\n",
      "25     MA        0.001238\n",
      "26    MCD        0.000711\n",
      "27   META        0.001175\n",
      "28    MRK        0.000566\n",
      "29   MSFT        0.001126\n",
      "30    NEE        0.000492\n",
      "31    NKE        0.000784\n",
      "32   NVDA        0.001944\n",
      "33    PEP        0.000551\n",
      "34    PFE        0.000525\n",
      "35     PG        0.000498\n",
      "36     PM        0.000591\n",
      "37    RTX        0.000612\n",
      "38   SPGI        0.000731\n",
      "39      T        0.000564\n",
      "40    TMO        0.000679\n",
      "41   TSLA        0.002095\n",
      "42    TXN        0.000693\n",
      "43    UNH        0.001085\n",
      "44    UPS        0.000282\n",
      "45      V        0.000937\n",
      "46     VZ        0.000463\n",
      "47    WFC        0.000683\n",
      "48    WMT        0.000848\n",
      "49    XOM        0.000546\n"
     ]
    }
   ],
   "source": [
    "columns = [\"Ticker\", \"Average_Return\"]\n",
    "# data_avg = data.groupby(\"Ticker\").mean().reset_index()\n",
    "data_avg = data.groupby(\"Ticker\").agg({\"Daily_Return\": \"mean\"}).reset_index()\n",
    "data_avg.columns = columns\n",
    "print(data_avg)"
   ]
  },
  {
   "cell_type": "code",
   "execution_count": 4,
   "metadata": {},
   "outputs": [
    {
     "name": "stdout",
     "output_type": "stream",
     "text": [
      "   Ticker  Average_Return        Price\n",
      "0    AAPL        0.001070   195.270004\n",
      "1    ABBV        0.000832   183.259995\n",
      "2     ABT        0.000706   131.300003\n",
      "3     ACN        0.000737   309.579987\n",
      "4    ADBE        0.001244   407.690002\n",
      "5     AMD        0.001006   110.309998\n",
      "6    AMZN        0.001688   200.990005\n",
      "7    AVGO        0.001614   228.720001\n",
      "8     BMY        0.000517    46.849998\n",
      "9   BRK-B        0.000520   503.459991\n",
      "10  CMCSA        0.000798    34.520000\n",
      "11   COST        0.000696  1008.500000\n",
      "12    CRM        0.001136   273.130005\n",
      "13   CSCO        0.001108    63.110001\n",
      "14    CVX        0.000511   136.539993\n",
      "15    DHR        0.000958   184.539993\n",
      "16    DIS        0.000671   109.720001\n",
      "17   GOOG        0.000995   169.589996\n",
      "18  GOOGL        0.000993   168.470001\n",
      "19     HD        0.001166   362.709991\n",
      "20   INTC        0.000738    20.049999\n",
      "21    JNJ        0.000593   152.940002\n",
      "22    JPM        0.000729   260.709991\n",
      "23     KO        0.000565    71.769997\n",
      "24    LLY        0.000649   713.710022\n",
      "25     MA        0.001238   563.580017\n",
      "26    MCD        0.000711   314.570007\n",
      "27   META        0.001175   627.059998\n",
      "28    MRK        0.000566    77.580002\n",
      "29   MSFT        0.001126   450.179993\n",
      "30    NEE        0.000492    67.760002\n",
      "31    NKE        0.000784    60.020000\n",
      "32   NVDA        0.001944   131.289993\n",
      "33    PEP        0.000551   129.339996\n",
      "34    PFE        0.000525    23.320000\n",
      "35     PG        0.000498   165.860001\n",
      "36     PM        0.000591   178.190002\n",
      "37    RTX        0.000612   132.350006\n",
      "38   SPGI        0.000731   510.019989\n",
      "39      T        0.000564    27.420000\n",
      "40    TMO        0.000679   393.660004\n",
      "41   TSLA        0.002095   339.339996\n",
      "42    TXN        0.000693   176.300003\n",
      "43    UNH        0.001085   295.570007\n",
      "44    UPS        0.000282    95.370003\n",
      "45      V        0.000937   353.540009\n",
      "46     VZ        0.000463    43.320000\n",
      "47    WFC        0.000683    72.830002\n",
      "48    WMT        0.000848    96.339996\n",
      "49    XOM        0.000546   103.029999\n"
     ]
    }
   ],
   "source": [
    "# add Price column using last closed price of each ticker\n",
    "data_avg[\"Price\"] = data.groupby(\"Ticker\")[\"Close\"].last().values\n",
    "\n",
    "print(data_avg)"
   ]
  },
  {
   "cell_type": "code",
   "execution_count": 5,
   "metadata": {},
   "outputs": [],
   "source": [
    "data_avg.to_csv(\"../dataset/top_50_us_stocks_returns_price.csv\", index=False)"
   ]
  }
 ],
 "metadata": {
  "kernelspec": {
   "display_name": "cudaq",
   "language": "python",
   "name": "python3"
  },
  "language_info": {
   "codemirror_mode": {
    "name": "ipython",
    "version": 3
   },
   "file_extension": ".py",
   "mimetype": "text/x-python",
   "name": "python",
   "nbconvert_exporter": "python",
   "pygments_lexer": "ipython3",
   "version": "3.11.13"
  }
 },
 "nbformat": 4,
 "nbformat_minor": 2
}
